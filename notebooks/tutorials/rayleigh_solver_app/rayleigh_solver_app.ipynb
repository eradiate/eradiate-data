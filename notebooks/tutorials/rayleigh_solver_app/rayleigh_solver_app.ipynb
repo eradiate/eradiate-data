{
 "cells": [
  {
   "cell_type": "markdown",
   "metadata": {},
   "source": [
    "# Introduction to RayleighSolverApp"
   ]
  },
  {
   "cell_type": "markdown",
   "metadata": {},
   "source": [
    "`RayleighSolverApp` is a basic application that simulates a one dimensional scene with an atmosphere that exhibits only rayleigh scattering. While of limited use in research it serves as a simple way to introduce Eradiate and its features.\n",
    "\n",
    "This tutorial is available as a ipython notebook in the Eradiate codebase in `resources/data/demo_spr1/3-rayleigh_solver_app/rayleigh_solver_app.ipynb`"
   ]
  },
  {
   "cell_type": "markdown",
   "metadata": {},
   "source": [
    "## Instantiation and configuration"
   ]
  },
  {
   "cell_type": "markdown",
   "metadata": {},
   "source": [
    "We start by importing RayleighSolverApp:"
   ]
  },
  {
   "cell_type": "code",
   "execution_count": null,
   "metadata": {},
   "outputs": [],
   "source": [
    "from eradiate.solvers.onedim.rayleigh import RayleighSolverApp"
   ]
  },
  {
   "cell_type": "markdown",
   "metadata": {},
   "source": [
    "All Eradiate applications are configured with dictionaries. The following dictionary configures `RayleighSolverApp` for a monochromatic simulation with a surface that exhibits lamberian scattering."
   ]
  },
  {
   "cell_type": "code",
   "execution_count": null,
   "metadata": {
    "tags": []
   },
   "outputs": [],
   "source": [
    "config = {\n",
    "    'mode': {\n",
    "        'type': 'mono',\n",
    "        'wavelength': 577.  # nm\n",
    "    },\n",
    "    'illumination': {\n",
    "        'type': 'directional',\n",
    "        'zenith': 30.,  # deg\n",
    "        'azimuth': 0.,  # deg\n",
    "        'irradiance': {\n",
    "           \"type\": \"uniform\",\n",
    "           \"value\": 1.8e+6  # W/km^2/nm\n",
    "       }\n",
    "    },\n",
    "    'surface': {\n",
    "        'type': 'lambertian',\n",
    "        'reflectance': {\n",
    "            \"type\": \"uniform\",\n",
    "           \"value\": 0.5\n",
    "        }\n",
    "    },\n",
    "    'atmosphere': {\n",
    "        'type': 'rayleigh_homogeneous',\n",
    "        'height': 40.,  # km\n",
    "    },\n",
    "    'measure': {\n",
    "        'type': 'hemispherical',\n",
    "        'spp': 32000,  # dimensionless\n",
    "        'zenith_res': 10.,  # deg\n",
    "        'azimuth_res': 10.  # deg\n",
    "    }\n",
    "}\n",
    "app = RayleighSolverApp(config)"
   ]
  },
  {
   "cell_type": "markdown",
   "metadata": {},
   "source": [
    "Here is a brief explanation of the five major sections of this configuration dictionary:\n",
    "\n",
    "- `mode`\n",
    "\n",
    "  The `mode` section sets internal details of Eradiate's computational kernel. `RayleighSolverApp` only supports one mode, called `mono`. In this mode a monochromatic simulation is performed, which means that only one \n",
    "  wavelength is transported per ray. Additionally the `mono` mode sets the wavelength for the simulation which is used to compute the scattering parameters of the atmosphere\n",
    "- `illumination`\n",
    "\n",
    "  The `illumination` section defines the light source in the simulation. Here a `directional` light source is used, which implements light from an infinitely distant emitter, which emits light into one single direction.\n",
    "  This plugin's parameters set the emitter's direction through its zenith and azimuth angle (also known as `sun zenith angle` and `sun azimuth angle`) and its irradiance given in units of `Watts per square kilometer per nanometer`.\n",
    "- `surface`\n",
    "\n",
    "  The `surface` section sets the surface's BRDF. `RayleighSolverApp` supports two kinds of BRDF for its surface: `lambertian` and `RPV`. Here a `lambertian` surface is set, with a reflectance of 0.5.\n",
    "- `atmosphere`\n",
    "\n",
    "  The `atmosphere` section sets all necessary parameters for the rayleigh scattering. Here only the total height of the atmosphere can be set. Note that this is a homogeneous atmosphere, which means the atmospheric properties are the same everywhere.\n",
    "\n",
    "- `measure`\n",
    "\n",
    "  The `measure` section defines the observational parameters. Here a hemispherical measure is chosen, which means that the exiting radiance into the entire hemisphere will be recorded. The `spp` parameter defines the number\n",
    "  of samples drawn per observational direction and `zenith_res` and `azimuth_res` define the angular resolution in zenith and azimuth direction in degrees respectively.\n",
    "  \n",
    "Finally, the `RayleighSolverApp` is instantiated by passing the config to its constructor."
   ]
  },
  {
   "cell_type": "markdown",
   "metadata": {},
   "source": [
    "## Configure using a YAML file"
   ]
  },
  {
   "cell_type": "markdown",
   "metadata": {},
   "source": [
    "Alternatively a YAML file may be used to configure `RayleighSolverApp`. The yaml file effectively implements the dictionary we created above. Opening the file and loading its contents into a Python object are straightforward."
   ]
  },
  {
   "cell_type": "code",
   "execution_count": null,
   "metadata": {},
   "outputs": [],
   "source": [
    "import yaml\n",
    "\n",
    "with open(\"config.yml\", 'r') as f:\n",
    "    yaml_config = yaml.safe_load(f)\n",
    "    app = RayleighSolverApp(yaml_config)"
   ]
  },
  {
   "cell_type": "markdown",
   "metadata": {},
   "source": [
    "## Running the simulation"
   ]
  },
  {
   "cell_type": "markdown",
   "metadata": {},
   "source": [
    "To make the application execute the simulation, simply write:"
   ]
  },
  {
   "cell_type": "code",
   "execution_count": null,
   "metadata": {
    "tags": []
   },
   "outputs": [],
   "source": [
    "app.compute()"
   ]
  },
  {
   "cell_type": "markdown",
   "metadata": {},
   "source": [
    "The application collects the raw results that you can retrieve and postprocess at your convenience. These raw results are stored into a labeled multidimensional array (`DataArray` from the [xarray](http://xarray.pydata.org) library) that allows for easy postprocessing, including exporting the results data to the netCDF format."
   ]
  },
  {
   "cell_type": "code",
   "execution_count": null,
   "metadata": {},
   "outputs": [],
   "source": [
    "display(app.results[\"lo\"])"
   ]
  },
  {
   "cell_type": "markdown",
   "metadata": {},
   "source": [
    "## Visualising the results"
   ]
  },
  {
   "cell_type": "markdown",
   "metadata": {},
   "source": [
    "Additionally, ``RayleighSolverApp`` lets you visualize the results by producing specialised plots with the collected results.\n",
    "\n",
    "We use the `squeeze()` method of the xarray data to remove dimensions with only one entry. Afterwards we use the `ert.plot()` method of our data storage to create a polar plot with a `matplotlib.pyplot.pcolormesh` visual style.\n",
    "\n",
    "The remaining code sets the axis label for the plotted data and displays the plot."
   ]
  },
  {
   "cell_type": "code",
   "execution_count": null,
   "metadata": {},
   "outputs": [],
   "source": [
    "app.results[\"lo\"].squeeze().ert.plot(kind=\"polar_pcolormesh\")\n",
    "\n",
    "# Hacky but only way to tune color bar without modifying the code\n",
    "import matplotlib.pyplot as plt\n",
    "\n",
    "plt.gcf().axes[1].set_ylabel(\"Radiance [W/km$^2$/sr/nm]\")\n",
    "plt.show()\n",
    "plt.close()"
   ]
  },
  {
   "cell_type": "markdown",
   "metadata": {},
   "source": [
    "As an alternative we can produce a plot of the principal plane. First we import the principal plane class from the Eradiate data viewer utility (`eradiate.util.view`), then we cast our data into the pplane structure, by passing the results to the `pplane()` constructor. Finally we call the data structure's `plot()` method and set the axes' labels to complete the visualization."
   ]
  },
  {
   "cell_type": "code",
   "execution_count": null,
   "metadata": {},
   "outputs": [],
   "source": [
    "from eradiate.util.view import pplane\n",
    "\n",
    "pplane_data = pplane(app.results[\"lo\"])\n",
    "#display(pplane_data)\n",
    "\n",
    "pplane_data.plot()\n",
    "\n",
    "# Hacky but only way to tune axes without modifying the code\n",
    "import matplotlib.pyplot as plt\n",
    "\n",
    "plt.gca().set_xlabel(\"Viewing zenith angle\")\n",
    "plt.gca().set_ylabel(\"Radiance [W/km$^2$/sr/nm]\")\n",
    "plt.show()\n",
    "plt.close()"
   ]
  }
 ],
 "metadata": {
  "kernelspec": {
   "display_name": "Python 3",
   "language": "python",
   "name": "python3"
  },
  "language_info": {
   "codemirror_mode": {
    "name": "ipython",
    "version": 3
   },
   "file_extension": ".py",
   "mimetype": "text/x-python",
   "name": "python",
   "nbconvert_exporter": "python",
   "pygments_lexer": "ipython3",
   "version": "3.7.7"
  }
 },
 "nbformat": 4,
 "nbformat_minor": 4
}
