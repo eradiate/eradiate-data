{
 "cells": [
  {
   "cell_type": "markdown",
   "metadata": {},
   "source": [
    "# Quick overview\n",
    "\n",
    "This tutorial gives a very quick introduction to Eradiate's main features. We assume here that you have successfully installed the package (see [Getting the code](../../../rst/getting_started/building.rst)). In this guide, we will see:\n",
    "\n",
    "- how to run a simulation using the one-dimensional solver command-line interface;\n",
    "- how to run the same simulation using Eradiate's Python API.\n",
    "\n",
    "It is strongly recommended to execute the Python code presented here in a Jupyter notebook.\n",
    "\n",
    "<div class=\"alert alert-info\">\n",
    "\n",
    "This tutorial is available as a Jupyter notebook in the Eradiate codebase \n",
    "[`$ERADIATE_DIR/resources/data/notebooks/tutorials/quick_overview/quick_overview.ipynb`].\n",
    "\n",
    "</div>\n"
   ]
  },
  {
   "cell_type": "markdown",
   "metadata": {},
   "source": [
    "## Using the command-line\n",
    "\n",
    "A first entry point to Eradiate is the command-line interface to its solvers. They are directly accessible from a terminal, provided that environment variables are set correctly. For this example, we will use the simple `ertrayleigh` application, which works on a one-dimensional scene consisting of a flat surface and an atmospher with only Rayleigh scattering. We can first call it with its `--help` flag to display the help text:"
   ]
  },
  {
   "cell_type": "code",
   "execution_count": 1,
   "metadata": {
    "execution": {
     "iopub.execute_input": "2020-10-28T16:38:12.028134Z",
     "iopub.status.busy": "2020-10-28T16:38:12.027666Z",
     "iopub.status.idle": "2020-10-28T16:38:13.683897Z",
     "shell.execute_reply": "2020-10-28T16:38:13.684551Z"
    }
   },
   "outputs": [
    {
     "name": "stdout",
     "output_type": "stream",
     "text": [
      "Usage: ertrayleigh [OPTIONS] CONFIG FNAME_RESULTS FNAME_PLOTS\r\n",
      "\r\n",
      "  A simple command-line interface to the RayleighSolverApp class.\r\n",
      "\r\n",
      "  This tool reads a RayleighSolverApp YAML configuration file located at\r\n",
      "  CONFIG and simulates radiative transfer on it. It stores the results in a\r\n",
      "  file located at FNAME_RESULTS and adds a series of default views under\r\n",
      "  FNAME_PLOTS.\r\n",
      "\r\n",
      "Options:\r\n",
      "  -q, --quiet  Hide progress information.\r\n",
      "  --help       Show this message and exit.\r\n"
     ]
    }
   ],
   "source": [
    "!ertrayleigh --help"
   ]
  },
  {
   "cell_type": "markdown",
   "metadata": {},
   "source": [
    "This application is configured with a file which uses the [YAML format](https://yaml.org/). A sample configuration file [`$ERADIATE/resources/data/notebooks/tutorials/quick_overview/config.yml`] is given with this tutorial. Let's first `cd` to the directory where our tutorial files are located:"
   ]
  },
  {
   "cell_type": "code",
   "execution_count": 2,
   "metadata": {
    "execution": {
     "iopub.execute_input": "2020-10-28T16:38:13.689064Z",
     "iopub.status.busy": "2020-10-28T16:38:13.688508Z",
     "iopub.status.idle": "2020-10-28T16:38:13.690977Z",
     "shell.execute_reply": "2020-10-28T16:38:13.691424Z"
    }
   },
   "outputs": [
    {
     "name": "stdout",
     "output_type": "stream",
     "text": [
      "/Users/leroyv/Documents/src/rayference/rtm/eradiate/resources/data/notebooks/tutorials/quick_overview\n"
     ]
    }
   ],
   "source": [
    "import os\n",
    "%cd {os.environ[\"ERADIATE_DIR\"]}/resources/data/notebooks/tutorials/quick_overview"
   ]
  },
  {
   "cell_type": "markdown",
   "metadata": {},
   "source": [
    "Now we can visualise the configuration file:"
   ]
  },
  {
   "cell_type": "code",
   "execution_count": 3,
   "metadata": {
    "execution": {
     "iopub.execute_input": "2020-10-28T16:38:13.694324Z",
     "iopub.status.busy": "2020-10-28T16:38:13.693843Z",
     "iopub.status.idle": "2020-10-28T16:38:13.808462Z",
     "shell.execute_reply": "2020-10-28T16:38:13.808908Z"
    }
   },
   "outputs": [
    {
     "name": "stdout",
     "output_type": "stream",
     "text": [
      "mode:\r\n",
      "  type: mono\r\n",
      "  wavelength: 550.  # nm\r\n",
      "surface:\r\n",
      "  type: lambertian\r\n",
      "  reflectance: \r\n",
      "      type: uniform\r\n",
      "      value: 0.5  # dimensionless\r\n",
      "atmosphere:\r\n",
      "  type: rayleigh_homogeneous\r\n",
      "  height: 40.  # km\r\n",
      "illumination:\r\n",
      "  type: directional\r\n",
      "  zenith: 30.  # deg\r\n",
      "  azimuth: 0.  # deg\r\n",
      "  irradiance: \r\n",
      "      type: uniform\r\n",
      "      value: 1.8e+6  # W/km^2/nm\r\n",
      "measure:\r\n",
      "  - type: hemispherical\r\n",
      "    spp: 32000  # dimensionless\r\n",
      "    zenith_res: 10.  # deg\r\n",
      "    azimuth_res: 10.  # deg\r\n"
     ]
    }
   ],
   "source": [
    "%cat config.yml"
   ]
  },
  {
   "cell_type": "markdown",
   "metadata": {},
   "source": [
    "The file format is described in **[add link to one-dimensional solver introduction]**.\n",
    "\n",
    "In addition, `ertrayleigh` requires the user to specify output and plot filename prefixes. These can be absolute or relative paths."
   ]
  },
  {
   "cell_type": "code",
   "execution_count": 4,
   "metadata": {
    "execution": {
     "iopub.execute_input": "2020-10-28T16:38:13.811853Z",
     "iopub.status.busy": "2020-10-28T16:38:13.811432Z",
     "iopub.status.idle": "2020-10-28T16:38:21.373051Z",
     "shell.execute_reply": "2020-10-28T16:38:21.373475Z"
    }
   },
   "outputs": [
    {
     "name": "stdout",
     "output_type": "stream",
     "text": [
      "Saving results in ertrayleigh_toa_lo_hsphere.nc\r\n"
     ]
    }
   ],
   "source": [
    "!ertrayleigh config.yml ertrayleigh ertrayleigh"
   ]
  },
  {
   "cell_type": "markdown",
   "metadata": {},
   "source": [
    "The application saves plots and results to the instructed location. \n",
    "\n",
    "- Results are saved in the netCDF format and can be further processed using your tools of choice. One netCDF file is created for each measure specified in the configuration file.\n",
    "- One plot is generated for each measure specified in the configuration file. Note that Eradiate's applications do not allow for plot customisation; should that be done, the Python API should be preferred."
   ]
  },
  {
   "cell_type": "code",
   "execution_count": 5,
   "metadata": {
    "execution": {
     "iopub.execute_input": "2020-10-28T16:38:21.378436Z",
     "iopub.status.busy": "2020-10-28T16:38:21.378019Z",
     "iopub.status.idle": "2020-10-28T16:38:21.492228Z",
     "shell.execute_reply": "2020-10-28T16:38:21.492825Z"
    }
   },
   "outputs": [
    {
     "name": "stdout",
     "output_type": "stream",
     "text": [
      "config.yml                        ertrayleigh_toa_lo_hsphere.png\r\n",
      "ertrayleigh_toa_brdf_hsphere.png  \u001b[35mipython_config.py\u001b[m\u001b[m@\r\n",
      "ertrayleigh_toa_brf_hsphere.png   quick_overview.ipynb\r\n",
      "ertrayleigh_toa_lo_hsphere.nc\r\n"
     ]
    }
   ],
   "source": [
    "%ls"
   ]
  },
  {
   "cell_type": "markdown",
   "metadata": {},
   "source": [
    "## Using the Python API\n",
    "\n",
    "Eradiate also provides total access to its features through a complete and documented API (see [API reference](../../../rst/api_reference/intro.rst)). The `ertrayleigh` command-line tool is a thin wrapper around the [RayleighSolverApp](../../../rst/api_reference/generated/eradiate.solvers.onedim.rayleigh.RayleighSolverApp.rst) class. We can easily reproduce the previous computation using it.\n",
    "\n",
    "We start by loading our YAML configuration file into a dictionary:"
   ]
  },
  {
   "cell_type": "code",
   "execution_count": 6,
   "metadata": {
    "execution": {
     "iopub.execute_input": "2020-10-28T16:38:21.496128Z",
     "iopub.status.busy": "2020-10-28T16:38:21.495643Z",
     "iopub.status.idle": "2020-10-28T16:38:21.518671Z",
     "shell.execute_reply": "2020-10-28T16:38:21.519111Z"
    }
   },
   "outputs": [
    {
     "data": {
      "text/plain": [
       "{'mode': {'type': 'mono', 'wavelength': 550.0},\n",
       " 'surface': {'type': 'lambertian',\n",
       "  'reflectance': {'type': 'uniform', 'value': 0.5}},\n",
       " 'atmosphere': {'type': 'rayleigh_homogeneous', 'height': 40.0},\n",
       " 'illumination': {'type': 'directional',\n",
       "  'zenith': 30.0,\n",
       "  'azimuth': 0.0,\n",
       "  'irradiance': {'type': 'uniform', 'value': 1800000.0}},\n",
       " 'measure': [{'type': 'hemispherical',\n",
       "   'spp': 32000,\n",
       "   'zenith_res': 10.0,\n",
       "   'azimuth_res': 10.0}]}"
      ]
     },
     "execution_count": 1,
     "metadata": {},
     "output_type": "execute_result"
    }
   ],
   "source": [
    "import yaml\n",
    "with open(\"config.yml\") as f:\n",
    "    config = yaml.safe_load(f)\n",
    "config"
   ]
  },
  {
   "cell_type": "markdown",
   "metadata": {},
   "source": [
    "We can see here that the contents of the configuration file are directly translated into a configuration dictionary. This dictionary can be used as the argument of the `RayleighSolverApp` constructor:"
   ]
  },
  {
   "cell_type": "code",
   "execution_count": 7,
   "metadata": {
    "execution": {
     "iopub.execute_input": "2020-10-28T16:38:21.521671Z",
     "iopub.status.busy": "2020-10-28T16:38:21.521249Z",
     "iopub.status.idle": "2020-10-28T16:38:22.577104Z",
     "shell.execute_reply": "2020-10-28T16:38:22.577557Z"
    }
   },
   "outputs": [],
   "source": [
    "from eradiate.solvers.onedim.rayleigh import RayleighSolverApp\n",
    "solver = RayleighSolverApp(config)"
   ]
  },
  {
   "cell_type": "markdown",
   "metadata": {},
   "source": [
    "Launching the simulation is then as simple as calling the [RayleighSolverApp.run()](../../../rst/api_reference/generated/eradiate.solvers.onedim.rayleigh.RayleighSolverApp.rst#eradiate.solvers.onedim.rayleigh.RayleighSolverApp.run) method:"
   ]
  },
  {
   "cell_type": "code",
   "execution_count": 8,
   "metadata": {
    "execution": {
     "iopub.execute_input": "2020-10-28T16:38:22.602991Z",
     "iopub.status.busy": "2020-10-28T16:38:22.602334Z",
     "iopub.status.idle": "2020-10-28T16:38:27.404220Z",
     "shell.execute_reply": "2020-10-28T16:38:27.404693Z"
    }
   },
   "outputs": [],
   "source": [
    "solver.run()"
   ]
  },
  {
   "cell_type": "markdown",
   "metadata": {},
   "source": [
    "Unlike the command-line interface, a call to `run()` without argument will not create any result or plot files. Instead, results are saved in the solver object's `results` list. In this case, we have a single measure, so `solver.results` contains a single element. This element is an xarray `Dataset`:"
   ]
  },
  {
   "cell_type": "code",
   "execution_count": 9,
   "metadata": {
    "execution": {
     "iopub.execute_input": "2020-10-28T16:38:27.428803Z",
     "iopub.status.busy": "2020-10-28T16:38:27.413544Z",
     "iopub.status.idle": "2020-10-28T16:38:27.431755Z",
     "shell.execute_reply": "2020-10-28T16:38:27.431246Z"
    }
   },
   "outputs": [
    {
     "data": {
      "text/html": [
       "<div><svg style=\"position: absolute; width: 0; height: 0; overflow: hidden\">\n",
       "<defs>\n",
       "<symbol id=\"icon-database\" viewBox=\"0 0 32 32\">\n",
       "<path d=\"M16 0c-8.837 0-16 2.239-16 5v4c0 2.761 7.163 5 16 5s16-2.239 16-5v-4c0-2.761-7.163-5-16-5z\"></path>\n",
       "<path d=\"M16 17c-8.837 0-16-2.239-16-5v6c0 2.761 7.163 5 16 5s16-2.239 16-5v-6c0 2.761-7.163 5-16 5z\"></path>\n",
       "<path d=\"M16 26c-8.837 0-16-2.239-16-5v6c0 2.761 7.163 5 16 5s16-2.239 16-5v-6c0 2.761-7.163 5-16 5z\"></path>\n",
       "</symbol>\n",
       "<symbol id=\"icon-file-text2\" viewBox=\"0 0 32 32\">\n",
       "<path d=\"M28.681 7.159c-0.694-0.947-1.662-2.053-2.724-3.116s-2.169-2.030-3.116-2.724c-1.612-1.182-2.393-1.319-2.841-1.319h-15.5c-1.378 0-2.5 1.121-2.5 2.5v27c0 1.378 1.122 2.5 2.5 2.5h23c1.378 0 2.5-1.122 2.5-2.5v-19.5c0-0.448-0.137-1.23-1.319-2.841zM24.543 5.457c0.959 0.959 1.712 1.825 2.268 2.543h-4.811v-4.811c0.718 0.556 1.584 1.309 2.543 2.268zM28 29.5c0 0.271-0.229 0.5-0.5 0.5h-23c-0.271 0-0.5-0.229-0.5-0.5v-27c0-0.271 0.229-0.5 0.5-0.5 0 0 15.499-0 15.5 0v7c0 0.552 0.448 1 1 1h7v19.5z\"></path>\n",
       "<path d=\"M23 26h-14c-0.552 0-1-0.448-1-1s0.448-1 1-1h14c0.552 0 1 0.448 1 1s-0.448 1-1 1z\"></path>\n",
       "<path d=\"M23 22h-14c-0.552 0-1-0.448-1-1s0.448-1 1-1h14c0.552 0 1 0.448 1 1s-0.448 1-1 1z\"></path>\n",
       "<path d=\"M23 18h-14c-0.552 0-1-0.448-1-1s0.448-1 1-1h14c0.552 0 1 0.448 1 1s-0.448 1-1 1z\"></path>\n",
       "</symbol>\n",
       "</defs>\n",
       "</svg>\n",
       "<style>/* CSS stylesheet for displaying xarray objects in jupyterlab.\n",
       " *\n",
       " */\n",
       "\n",
       ":root {\n",
       "  --xr-font-color0: var(--jp-content-font-color0, rgba(0, 0, 0, 1));\n",
       "  --xr-font-color2: var(--jp-content-font-color2, rgba(0, 0, 0, 0.54));\n",
       "  --xr-font-color3: var(--jp-content-font-color3, rgba(0, 0, 0, 0.38));\n",
       "  --xr-border-color: var(--jp-border-color2, #e0e0e0);\n",
       "  --xr-disabled-color: var(--jp-layout-color3, #bdbdbd);\n",
       "  --xr-background-color: var(--jp-layout-color0, white);\n",
       "  --xr-background-color-row-even: var(--jp-layout-color1, white);\n",
       "  --xr-background-color-row-odd: var(--jp-layout-color2, #eeeeee);\n",
       "}\n",
       "\n",
       "html[theme=dark],\n",
       "body.vscode-dark {\n",
       "  --xr-font-color0: rgba(255, 255, 255, 1);\n",
       "  --xr-font-color2: rgba(255, 255, 255, 0.54);\n",
       "  --xr-font-color3: rgba(255, 255, 255, 0.38);\n",
       "  --xr-border-color: #1F1F1F;\n",
       "  --xr-disabled-color: #515151;\n",
       "  --xr-background-color: #111111;\n",
       "  --xr-background-color-row-even: #111111;\n",
       "  --xr-background-color-row-odd: #313131;\n",
       "}\n",
       "\n",
       ".xr-wrap {\n",
       "  display: block;\n",
       "  min-width: 300px;\n",
       "  max-width: 700px;\n",
       "}\n",
       "\n",
       ".xr-text-repr-fallback {\n",
       "  /* fallback to plain text repr when CSS is not injected (untrusted notebook) */\n",
       "  display: none;\n",
       "}\n",
       "\n",
       ".xr-header {\n",
       "  padding-top: 6px;\n",
       "  padding-bottom: 6px;\n",
       "  margin-bottom: 4px;\n",
       "  border-bottom: solid 1px var(--xr-border-color);\n",
       "}\n",
       "\n",
       ".xr-header > div,\n",
       ".xr-header > ul {\n",
       "  display: inline;\n",
       "  margin-top: 0;\n",
       "  margin-bottom: 0;\n",
       "}\n",
       "\n",
       ".xr-obj-type,\n",
       ".xr-array-name {\n",
       "  margin-left: 2px;\n",
       "  margin-right: 10px;\n",
       "}\n",
       "\n",
       ".xr-obj-type {\n",
       "  color: var(--xr-font-color2);\n",
       "}\n",
       "\n",
       ".xr-sections {\n",
       "  padding-left: 0 !important;\n",
       "  display: grid;\n",
       "  grid-template-columns: 150px auto auto 1fr 20px 20px;\n",
       "}\n",
       "\n",
       ".xr-section-item {\n",
       "  display: contents;\n",
       "}\n",
       "\n",
       ".xr-section-item input {\n",
       "  display: none;\n",
       "}\n",
       "\n",
       ".xr-section-item input + label {\n",
       "  color: var(--xr-disabled-color);\n",
       "}\n",
       "\n",
       ".xr-section-item input:enabled + label {\n",
       "  cursor: pointer;\n",
       "  color: var(--xr-font-color2);\n",
       "}\n",
       "\n",
       ".xr-section-item input:enabled + label:hover {\n",
       "  color: var(--xr-font-color0);\n",
       "}\n",
       "\n",
       ".xr-section-summary {\n",
       "  grid-column: 1;\n",
       "  color: var(--xr-font-color2);\n",
       "  font-weight: 500;\n",
       "}\n",
       "\n",
       ".xr-section-summary > span {\n",
       "  display: inline-block;\n",
       "  padding-left: 0.5em;\n",
       "}\n",
       "\n",
       ".xr-section-summary-in:disabled + label {\n",
       "  color: var(--xr-font-color2);\n",
       "}\n",
       "\n",
       ".xr-section-summary-in + label:before {\n",
       "  display: inline-block;\n",
       "  content: '►';\n",
       "  font-size: 11px;\n",
       "  width: 15px;\n",
       "  text-align: center;\n",
       "}\n",
       "\n",
       ".xr-section-summary-in:disabled + label:before {\n",
       "  color: var(--xr-disabled-color);\n",
       "}\n",
       "\n",
       ".xr-section-summary-in:checked + label:before {\n",
       "  content: '▼';\n",
       "}\n",
       "\n",
       ".xr-section-summary-in:checked + label > span {\n",
       "  display: none;\n",
       "}\n",
       "\n",
       ".xr-section-summary,\n",
       ".xr-section-inline-details {\n",
       "  padding-top: 4px;\n",
       "  padding-bottom: 4px;\n",
       "}\n",
       "\n",
       ".xr-section-inline-details {\n",
       "  grid-column: 2 / -1;\n",
       "}\n",
       "\n",
       ".xr-section-details {\n",
       "  display: none;\n",
       "  grid-column: 1 / -1;\n",
       "  margin-bottom: 5px;\n",
       "}\n",
       "\n",
       ".xr-section-summary-in:checked ~ .xr-section-details {\n",
       "  display: contents;\n",
       "}\n",
       "\n",
       ".xr-array-wrap {\n",
       "  grid-column: 1 / -1;\n",
       "  display: grid;\n",
       "  grid-template-columns: 20px auto;\n",
       "}\n",
       "\n",
       ".xr-array-wrap > label {\n",
       "  grid-column: 1;\n",
       "  vertical-align: top;\n",
       "}\n",
       "\n",
       ".xr-preview {\n",
       "  color: var(--xr-font-color3);\n",
       "}\n",
       "\n",
       ".xr-array-preview,\n",
       ".xr-array-data {\n",
       "  padding: 0 5px !important;\n",
       "  grid-column: 2;\n",
       "}\n",
       "\n",
       ".xr-array-data,\n",
       ".xr-array-in:checked ~ .xr-array-preview {\n",
       "  display: none;\n",
       "}\n",
       "\n",
       ".xr-array-in:checked ~ .xr-array-data,\n",
       ".xr-array-preview {\n",
       "  display: inline-block;\n",
       "}\n",
       "\n",
       ".xr-dim-list {\n",
       "  display: inline-block !important;\n",
       "  list-style: none;\n",
       "  padding: 0 !important;\n",
       "  margin: 0;\n",
       "}\n",
       "\n",
       ".xr-dim-list li {\n",
       "  display: inline-block;\n",
       "  padding: 0;\n",
       "  margin: 0;\n",
       "}\n",
       "\n",
       ".xr-dim-list:before {\n",
       "  content: '(';\n",
       "}\n",
       "\n",
       ".xr-dim-list:after {\n",
       "  content: ')';\n",
       "}\n",
       "\n",
       ".xr-dim-list li:not(:last-child):after {\n",
       "  content: ',';\n",
       "  padding-right: 5px;\n",
       "}\n",
       "\n",
       ".xr-has-index {\n",
       "  font-weight: bold;\n",
       "}\n",
       "\n",
       ".xr-var-list,\n",
       ".xr-var-item {\n",
       "  display: contents;\n",
       "}\n",
       "\n",
       ".xr-var-item > div,\n",
       ".xr-var-item label,\n",
       ".xr-var-item > .xr-var-name span {\n",
       "  background-color: var(--xr-background-color-row-even);\n",
       "  margin-bottom: 0;\n",
       "}\n",
       "\n",
       ".xr-var-item > .xr-var-name:hover span {\n",
       "  padding-right: 5px;\n",
       "}\n",
       "\n",
       ".xr-var-list > li:nth-child(odd) > div,\n",
       ".xr-var-list > li:nth-child(odd) > label,\n",
       ".xr-var-list > li:nth-child(odd) > .xr-var-name span {\n",
       "  background-color: var(--xr-background-color-row-odd);\n",
       "}\n",
       "\n",
       ".xr-var-name {\n",
       "  grid-column: 1;\n",
       "}\n",
       "\n",
       ".xr-var-dims {\n",
       "  grid-column: 2;\n",
       "}\n",
       "\n",
       ".xr-var-dtype {\n",
       "  grid-column: 3;\n",
       "  text-align: right;\n",
       "  color: var(--xr-font-color2);\n",
       "}\n",
       "\n",
       ".xr-var-preview {\n",
       "  grid-column: 4;\n",
       "}\n",
       "\n",
       ".xr-var-name,\n",
       ".xr-var-dims,\n",
       ".xr-var-dtype,\n",
       ".xr-preview,\n",
       ".xr-attrs dt {\n",
       "  white-space: nowrap;\n",
       "  overflow: hidden;\n",
       "  text-overflow: ellipsis;\n",
       "  padding-right: 10px;\n",
       "}\n",
       "\n",
       ".xr-var-name:hover,\n",
       ".xr-var-dims:hover,\n",
       ".xr-var-dtype:hover,\n",
       ".xr-attrs dt:hover {\n",
       "  overflow: visible;\n",
       "  width: auto;\n",
       "  z-index: 1;\n",
       "}\n",
       "\n",
       ".xr-var-attrs,\n",
       ".xr-var-data {\n",
       "  display: none;\n",
       "  background-color: var(--xr-background-color) !important;\n",
       "  padding-bottom: 5px !important;\n",
       "}\n",
       "\n",
       ".xr-var-attrs-in:checked ~ .xr-var-attrs,\n",
       ".xr-var-data-in:checked ~ .xr-var-data {\n",
       "  display: block;\n",
       "}\n",
       "\n",
       ".xr-var-data > table {\n",
       "  float: right;\n",
       "}\n",
       "\n",
       ".xr-var-name span,\n",
       ".xr-var-data,\n",
       ".xr-attrs {\n",
       "  padding-left: 25px !important;\n",
       "}\n",
       "\n",
       ".xr-attrs,\n",
       ".xr-var-attrs,\n",
       ".xr-var-data {\n",
       "  grid-column: 1 / -1;\n",
       "}\n",
       "\n",
       "dl.xr-attrs {\n",
       "  padding: 0;\n",
       "  margin: 0;\n",
       "  display: grid;\n",
       "  grid-template-columns: 125px auto;\n",
       "}\n",
       "\n",
       ".xr-attrs dt, dd {\n",
       "  padding: 0;\n",
       "  margin: 0;\n",
       "  float: left;\n",
       "  padding-right: 10px;\n",
       "  width: auto;\n",
       "}\n",
       "\n",
       ".xr-attrs dt {\n",
       "  font-weight: normal;\n",
       "  grid-column: 1;\n",
       "}\n",
       "\n",
       ".xr-attrs dt:hover span {\n",
       "  display: inline-block;\n",
       "  background: var(--xr-background-color);\n",
       "  padding-right: 10px;\n",
       "}\n",
       "\n",
       ".xr-attrs dd {\n",
       "  grid-column: 2;\n",
       "  white-space: pre-wrap;\n",
       "  word-break: break-all;\n",
       "}\n",
       "\n",
       ".xr-icon-database,\n",
       ".xr-icon-file-text2 {\n",
       "  display: inline-block;\n",
       "  vertical-align: middle;\n",
       "  width: 1em;\n",
       "  height: 1.5em !important;\n",
       "  stroke-width: 0;\n",
       "  stroke: currentColor;\n",
       "  fill: currentColor;\n",
       "}\n",
       "</style><pre class='xr-text-repr-fallback'>&lt;xarray.Dataset&gt;\n",
       "Dimensions:           (saa: 1, sza: 1, vaa: 36, vza: 9, wavelength: 1)\n",
       "Coordinates:\n",
       "  * sza               (sza) float64 30.0\n",
       "  * saa               (saa) float64 0.0\n",
       "  * vza               (vza) float64 0.0 10.0 20.0 30.0 40.0 50.0 60.0 70.0 80.0\n",
       "  * vaa               (vaa) float64 0.0 10.0 20.0 30.0 ... 330.0 340.0 350.0\n",
       "  * wavelength        (wavelength) float64 550.0\n",
       "Data variables:\n",
       "    toa_lo_hsphere    (sza, saa, vza, vaa, wavelength) float64 2.674e+05 ... ...\n",
       "    irradiance        (sza, saa, wavelength) float64 1.8e+06\n",
       "    toa_brdf_hsphere  (sza, saa, vza, vaa, wavelength) float64 0.1485 ... 0.1697\n",
       "    toa_brf_hsphere   (sza, saa, vza, vaa, wavelength) float64 0.04728 ... 0.054\n",
       "Attributes:\n",
       "    angle_convention:  eo_scene\n",
       "    angular_domain:    hsphere</pre><div class='xr-wrap' hidden><div class='xr-header'><div class='xr-obj-type'>xarray.Dataset</div></div><ul class='xr-sections'><li class='xr-section-item'><input id='section-cbcb7be1-6d44-4f1f-a093-e13c30e4fb30' class='xr-section-summary-in' type='checkbox' disabled ><label for='section-cbcb7be1-6d44-4f1f-a093-e13c30e4fb30' class='xr-section-summary'  title='Expand/collapse section'>Dimensions:</label><div class='xr-section-inline-details'><ul class='xr-dim-list'><li><span class='xr-has-index'>saa</span>: 1</li><li><span class='xr-has-index'>sza</span>: 1</li><li><span class='xr-has-index'>vaa</span>: 36</li><li><span class='xr-has-index'>vza</span>: 9</li><li><span class='xr-has-index'>wavelength</span>: 1</li></ul></div><div class='xr-section-details'></div></li><li class='xr-section-item'><input id='section-9ed399a8-2d88-4de5-9d2a-de04e6185fef' class='xr-section-summary-in' type='checkbox'  checked><label for='section-9ed399a8-2d88-4de5-9d2a-de04e6185fef' class='xr-section-summary' >Coordinates: <span>(5)</span></label><div class='xr-section-inline-details'></div><div class='xr-section-details'><ul class='xr-var-list'><li class='xr-var-item'><div class='xr-var-name'><span class='xr-has-index'>sza</span></div><div class='xr-var-dims'>(sza)</div><div class='xr-var-dtype'>float64</div><div class='xr-var-preview xr-preview'>30.0</div><input id='attrs-3e74e016-408d-4d31-9b04-8687c3782172' class='xr-var-attrs-in' type='checkbox' ><label for='attrs-3e74e016-408d-4d31-9b04-8687c3782172' title='Show/Hide attributes'><svg class='icon xr-icon-file-text2'><use xlink:href='#icon-file-text2'></use></svg></label><input id='data-95815190-74b4-4f29-bdc3-077e162a64c1' class='xr-var-data-in' type='checkbox'><label for='data-95815190-74b4-4f29-bdc3-077e162a64c1' title='Show/Hide data repr'><svg class='icon xr-icon-database'><use xlink:href='#icon-database'></use></svg></label><div class='xr-var-attrs'><dl class='xr-attrs'><dt><span>unit :</span></dt><dd>deg</dd><dt><span>long_name :</span></dt><dd>Sun zenith angle</dd></dl></div><div class='xr-var-data'><pre>array([30.])</pre></div></li><li class='xr-var-item'><div class='xr-var-name'><span class='xr-has-index'>saa</span></div><div class='xr-var-dims'>(saa)</div><div class='xr-var-dtype'>float64</div><div class='xr-var-preview xr-preview'>0.0</div><input id='attrs-4b0ecb8d-4964-4c26-ab37-7e12ab4a9ca1' class='xr-var-attrs-in' type='checkbox' ><label for='attrs-4b0ecb8d-4964-4c26-ab37-7e12ab4a9ca1' title='Show/Hide attributes'><svg class='icon xr-icon-file-text2'><use xlink:href='#icon-file-text2'></use></svg></label><input id='data-c6efc955-c498-424e-8b56-edfd93a8634f' class='xr-var-data-in' type='checkbox'><label for='data-c6efc955-c498-424e-8b56-edfd93a8634f' title='Show/Hide data repr'><svg class='icon xr-icon-database'><use xlink:href='#icon-database'></use></svg></label><div class='xr-var-attrs'><dl class='xr-attrs'><dt><span>unit :</span></dt><dd>deg</dd><dt><span>long_name :</span></dt><dd>Sun azimuth angle</dd></dl></div><div class='xr-var-data'><pre>array([0.])</pre></div></li><li class='xr-var-item'><div class='xr-var-name'><span class='xr-has-index'>vza</span></div><div class='xr-var-dims'>(vza)</div><div class='xr-var-dtype'>float64</div><div class='xr-var-preview xr-preview'>0.0 10.0 20.0 ... 60.0 70.0 80.0</div><input id='attrs-a65694ee-9a0f-47ee-89c1-ad667977ae78' class='xr-var-attrs-in' type='checkbox' ><label for='attrs-a65694ee-9a0f-47ee-89c1-ad667977ae78' title='Show/Hide attributes'><svg class='icon xr-icon-file-text2'><use xlink:href='#icon-file-text2'></use></svg></label><input id='data-558259ec-7656-46a1-b183-1d78ccb33f84' class='xr-var-data-in' type='checkbox'><label for='data-558259ec-7656-46a1-b183-1d78ccb33f84' title='Show/Hide data repr'><svg class='icon xr-icon-database'><use xlink:href='#icon-database'></use></svg></label><div class='xr-var-attrs'><dl class='xr-attrs'><dt><span>unit :</span></dt><dd>deg</dd><dt><span>long_name :</span></dt><dd>Viewing zenith angle</dd></dl></div><div class='xr-var-data'><pre>array([ 0., 10., 20., 30., 40., 50., 60., 70., 80.])</pre></div></li><li class='xr-var-item'><div class='xr-var-name'><span class='xr-has-index'>vaa</span></div><div class='xr-var-dims'>(vaa)</div><div class='xr-var-dtype'>float64</div><div class='xr-var-preview xr-preview'>0.0 10.0 20.0 ... 330.0 340.0 350.0</div><input id='attrs-8ec778d9-db2b-4d97-9737-64dfac7f4fc4' class='xr-var-attrs-in' type='checkbox' ><label for='attrs-8ec778d9-db2b-4d97-9737-64dfac7f4fc4' title='Show/Hide attributes'><svg class='icon xr-icon-file-text2'><use xlink:href='#icon-file-text2'></use></svg></label><input id='data-7570ae21-fc47-4f8a-a5ec-bd837dfc8918' class='xr-var-data-in' type='checkbox'><label for='data-7570ae21-fc47-4f8a-a5ec-bd837dfc8918' title='Show/Hide data repr'><svg class='icon xr-icon-database'><use xlink:href='#icon-database'></use></svg></label><div class='xr-var-attrs'><dl class='xr-attrs'><dt><span>unit :</span></dt><dd>deg</dd><dt><span>long_name :</span></dt><dd>Viewing azimuth angle</dd></dl></div><div class='xr-var-data'><pre>array([  0.,  10.,  20.,  30.,  40.,  50.,  60.,  70.,  80.,  90., 100., 110.,\n",
       "       120., 130., 140., 150., 160., 170., 180., 190., 200., 210., 220., 230.,\n",
       "       240., 250., 260., 270., 280., 290., 300., 310., 320., 330., 340., 350.])</pre></div></li><li class='xr-var-item'><div class='xr-var-name'><span class='xr-has-index'>wavelength</span></div><div class='xr-var-dims'>(wavelength)</div><div class='xr-var-dtype'>float64</div><div class='xr-var-preview xr-preview'>550.0</div><input id='attrs-eac44ff5-f8a2-481b-bcf5-a221eb0c6fc9' class='xr-var-attrs-in' type='checkbox' ><label for='attrs-eac44ff5-f8a2-481b-bcf5-a221eb0c6fc9' title='Show/Hide attributes'><svg class='icon xr-icon-file-text2'><use xlink:href='#icon-file-text2'></use></svg></label><input id='data-8023da68-cd8d-4636-b90b-aee3cb85f6ab' class='xr-var-data-in' type='checkbox'><label for='data-8023da68-cd8d-4636-b90b-aee3cb85f6ab' title='Show/Hide data repr'><svg class='icon xr-icon-database'><use xlink:href='#icon-database'></use></svg></label><div class='xr-var-attrs'><dl class='xr-attrs'><dt><span>long_name :</span></dt><dd>Wavelength</dd><dt><span>unit :</span></dt><dd>nm</dd></dl></div><div class='xr-var-data'><pre>array([550.])</pre></div></li></ul></div></li><li class='xr-section-item'><input id='section-f50ab9e6-69f7-4103-ad5e-3ad1a71d1861' class='xr-section-summary-in' type='checkbox'  checked><label for='section-f50ab9e6-69f7-4103-ad5e-3ad1a71d1861' class='xr-section-summary' >Data variables: <span>(4)</span></label><div class='xr-section-inline-details'></div><div class='xr-section-details'><ul class='xr-var-list'><li class='xr-var-item'><div class='xr-var-name'><span>toa_lo_hsphere</span></div><div class='xr-var-dims'>(sza, saa, vza, vaa, wavelength)</div><div class='xr-var-dtype'>float64</div><div class='xr-var-preview xr-preview'>2.674e+05 2.661e+05 ... 3.054e+05</div><input id='attrs-25bdf2cd-74ae-4569-ade7-5122aa168380' class='xr-var-attrs-in' type='checkbox' ><label for='attrs-25bdf2cd-74ae-4569-ade7-5122aa168380' title='Show/Hide attributes'><svg class='icon xr-icon-file-text2'><use xlink:href='#icon-file-text2'></use></svg></label><input id='data-ad962e82-1fe5-4230-8b4f-cf4f87408092' class='xr-var-data-in' type='checkbox'><label for='data-ad962e82-1fe5-4230-8b4f-cf4f87408092' title='Show/Hide data repr'><svg class='icon xr-icon-database'><use xlink:href='#icon-database'></use></svg></label><div class='xr-var-attrs'><dl class='xr-attrs'><dt><span>angle_convention :</span></dt><dd>eo_scene</dd><dt><span>angular_domain :</span></dt><dd>hsphere</dd></dl></div><div class='xr-var-data'><pre>array([[[[[267361.4375  ],\n",
       "          [266136.      ],\n",
       "          [266390.15625 ],\n",
       "          [265780.25    ],\n",
       "          [264225.71875 ],\n",
       "          [267312.84375 ],\n",
       "          [265687.90625 ],\n",
       "          [267216.96875 ],\n",
       "          [264282.      ],\n",
       "          [265438.625   ],\n",
       "          [266100.15625 ],\n",
       "          [265562.46875 ],\n",
       "          [267227.34375 ],\n",
       "          [265566.46875 ],\n",
       "          [264257.28125 ],\n",
       "          [265695.4375  ],\n",
       "          [266502.84375 ],\n",
       "          [265592.71875 ],\n",
       "          [265562.65625 ],\n",
       "          [266756.09375 ],\n",
       "...\n",
       "          [276438.625   ],\n",
       "          [279662.90625 ],\n",
       "          [278484.      ],\n",
       "          [280032.5     ],\n",
       "          [276768.25    ],\n",
       "          [275291.125   ],\n",
       "          [271842.6875  ],\n",
       "          [272214.28125 ],\n",
       "          [270110.71875 ],\n",
       "          [267329.9375  ],\n",
       "          [266453.3125  ],\n",
       "          [269886.34375 ],\n",
       "          [272395.21875 ],\n",
       "          [276407.1875  ],\n",
       "          [281103.15625 ],\n",
       "          [284835.875   ],\n",
       "          [292319.15625 ],\n",
       "          [297805.875   ],\n",
       "          [300061.875   ],\n",
       "          [305388.25    ]]]]])</pre></div></li><li class='xr-var-item'><div class='xr-var-name'><span>irradiance</span></div><div class='xr-var-dims'>(sza, saa, wavelength)</div><div class='xr-var-dtype'>float64</div><div class='xr-var-preview xr-preview'>1.8e+06</div><input id='attrs-a0957da3-036f-428f-9c4e-ac5d86e95fca' class='xr-var-attrs-in' type='checkbox' ><label for='attrs-a0957da3-036f-428f-9c4e-ac5d86e95fca' title='Show/Hide attributes'><svg class='icon xr-icon-file-text2'><use xlink:href='#icon-file-text2'></use></svg></label><input id='data-c38269d4-17ea-47ab-b796-35686a5f81c3' class='xr-var-data-in' type='checkbox'><label for='data-c38269d4-17ea-47ab-b796-35686a5f81c3' title='Show/Hide data repr'><svg class='icon xr-icon-database'><use xlink:href='#icon-database'></use></svg></label><div class='xr-var-attrs'><dl class='xr-attrs'><dt><span>long_name :</span></dt><dd>illumination spectral irradiance</dd><dt><span>units :</span></dt><dd>W/km^2/nm</dd><dt><span>angles_convention :</span></dt><dd>eo_scene</dd></dl></div><div class='xr-var-data'><pre>array([[[1800000.]]])</pre></div></li><li class='xr-var-item'><div class='xr-var-name'><span>toa_brdf_hsphere</span></div><div class='xr-var-dims'>(sza, saa, vza, vaa, wavelength)</div><div class='xr-var-dtype'>float64</div><div class='xr-var-preview xr-preview'>0.1485 0.1479 ... 0.1667 0.1697</div><input id='attrs-6c01cb39-4ef8-4309-8ec8-f0bc64e84762' class='xr-var-attrs-in' type='checkbox' ><label for='attrs-6c01cb39-4ef8-4309-8ec8-f0bc64e84762' title='Show/Hide attributes'><svg class='icon xr-icon-file-text2'><use xlink:href='#icon-file-text2'></use></svg></label><input id='data-4785ecc0-1c18-45d3-b28e-b8bb2d9c7ede' class='xr-var-data-in' type='checkbox'><label for='data-4785ecc0-1c18-45d3-b28e-b8bb2d9c7ede' title='Show/Hide data repr'><svg class='icon xr-icon-database'><use xlink:href='#icon-database'></use></svg></label><div class='xr-var-attrs'><dl class='xr-attrs'><dt><span>angle_convention :</span></dt><dd>eo_scene</dd><dt><span>angular_domain :</span></dt><dd>hsphere</dd></dl></div><div class='xr-var-data'><pre>array([[[[[0.14853413],\n",
       "          [0.14785333],\n",
       "          [0.14799453],\n",
       "          [0.14765569],\n",
       "          [0.14679207],\n",
       "          [0.14850714],\n",
       "          [0.14760439],\n",
       "          [0.14845387],\n",
       "          [0.14682333],\n",
       "          [0.1474659 ],\n",
       "          [0.14783342],\n",
       "          [0.1475347 ],\n",
       "          [0.14845964],\n",
       "          [0.14753693],\n",
       "          [0.1468096 ],\n",
       "          [0.14760858],\n",
       "          [0.14805714],\n",
       "          [0.14755151],\n",
       "          [0.14753481],\n",
       "          [0.14819783],\n",
       "...\n",
       "          [0.15357701],\n",
       "          [0.15536828],\n",
       "          [0.15471333],\n",
       "          [0.15557361],\n",
       "          [0.15376014],\n",
       "          [0.15293951],\n",
       "          [0.15102372],\n",
       "          [0.15123016],\n",
       "          [0.15006151],\n",
       "          [0.14851663],\n",
       "          [0.14802962],\n",
       "          [0.14993686],\n",
       "          [0.15133068],\n",
       "          [0.15355955],\n",
       "          [0.15616842],\n",
       "          [0.15824215],\n",
       "          [0.16239953],\n",
       "          [0.16544771],\n",
       "          [0.16670104],\n",
       "          [0.16966014]]]]])</pre></div></li><li class='xr-var-item'><div class='xr-var-name'><span>toa_brf_hsphere</span></div><div class='xr-var-dims'>(sza, saa, vza, vaa, wavelength)</div><div class='xr-var-dtype'>float64</div><div class='xr-var-preview xr-preview'>0.04728 0.04706 ... 0.05306 0.054</div><input id='attrs-c748787b-9fff-4bcc-acb5-0e84d2b0452c' class='xr-var-attrs-in' type='checkbox' ><label for='attrs-c748787b-9fff-4bcc-acb5-0e84d2b0452c' title='Show/Hide attributes'><svg class='icon xr-icon-file-text2'><use xlink:href='#icon-file-text2'></use></svg></label><input id='data-972208af-009a-4990-9ced-2a8583be9619' class='xr-var-data-in' type='checkbox'><label for='data-972208af-009a-4990-9ced-2a8583be9619' title='Show/Hide data repr'><svg class='icon xr-icon-database'><use xlink:href='#icon-database'></use></svg></label><div class='xr-var-attrs'><dl class='xr-attrs'><dt><span>angle_convention :</span></dt><dd>eo_scene</dd><dt><span>angular_domain :</span></dt><dd>hsphere</dd></dl></div><div class='xr-var-data'><pre>array([[[[[0.04727988],\n",
       "          [0.04706318],\n",
       "          [0.04710812],\n",
       "          [0.04700027],\n",
       "          [0.04672537],\n",
       "          [0.04727129],\n",
       "          [0.04698394],\n",
       "          [0.04725433],\n",
       "          [0.04673532],\n",
       "          [0.04693985],\n",
       "          [0.04705684],\n",
       "          [0.04696176],\n",
       "          [0.04725617],\n",
       "          [0.04696246],\n",
       "          [0.04673095],\n",
       "          [0.04698527],\n",
       "          [0.04712805],\n",
       "          [0.0469671 ],\n",
       "          [0.04696179],\n",
       "          [0.04717283],\n",
       "...\n",
       "          [0.04888508],\n",
       "          [0.04945526],\n",
       "          [0.04924678],\n",
       "          [0.04952062],\n",
       "          [0.04894337],\n",
       "          [0.04868216],\n",
       "          [0.04807234],\n",
       "          [0.04813805],\n",
       "          [0.04776606],\n",
       "          [0.04727431],\n",
       "          [0.04711929],\n",
       "          [0.04772638],\n",
       "          [0.04817005],\n",
       "          [0.04887952],\n",
       "          [0.04970995],\n",
       "          [0.05037004],\n",
       "          [0.05169338],\n",
       "          [0.05266364],\n",
       "          [0.05306259],\n",
       "          [0.0540045 ]]]]])</pre></div></li></ul></div></li><li class='xr-section-item'><input id='section-f631e670-42f9-4061-befd-617dcfd24e8c' class='xr-section-summary-in' type='checkbox'  checked><label for='section-f631e670-42f9-4061-befd-617dcfd24e8c' class='xr-section-summary' >Attributes: <span>(2)</span></label><div class='xr-section-inline-details'></div><div class='xr-section-details'><dl class='xr-attrs'><dt><span>angle_convention :</span></dt><dd>eo_scene</dd><dt><span>angular_domain :</span></dt><dd>hsphere</dd></dl></div></li></ul></div></div>"
      ],
      "text/plain": [
       "<xarray.Dataset>\n",
       "Dimensions:           (saa: 1, sza: 1, vaa: 36, vza: 9, wavelength: 1)\n",
       "Coordinates:\n",
       "  * sza               (sza) float64 30.0\n",
       "  * saa               (saa) float64 0.0\n",
       "  * vza               (vza) float64 0.0 10.0 20.0 30.0 40.0 50.0 60.0 70.0 80.0\n",
       "  * vaa               (vaa) float64 0.0 10.0 20.0 30.0 ... 330.0 340.0 350.0\n",
       "  * wavelength        (wavelength) float64 550.0\n",
       "Data variables:\n",
       "    toa_lo_hsphere    (sza, saa, vza, vaa, wavelength) float64 2.674e+05 ... ...\n",
       "    irradiance        (sza, saa, wavelength) float64 1.8e+06\n",
       "    toa_brdf_hsphere  (sza, saa, vza, vaa, wavelength) float64 0.1485 ... 0.1697\n",
       "    toa_brf_hsphere   (sza, saa, vza, vaa, wavelength) float64 0.04728 ... 0.054\n",
       "Attributes:\n",
       "    angle_convention:  eo_scene\n",
       "    angular_domain:    hsphere"
      ]
     },
     "execution_count": 1,
     "metadata": {},
     "output_type": "execute_result"
    }
   ],
   "source": [
    "ds = solver.results[0]\n",
    "ds"
   ]
  },
  {
   "cell_type": "markdown",
   "metadata": {},
   "source": [
    "The usual xarray writing facilities can be used to save the results to a netCDF file:"
   ]
  },
  {
   "cell_type": "code",
   "execution_count": 10,
   "metadata": {
    "execution": {
     "iopub.execute_input": "2020-10-28T16:38:27.434336Z",
     "iopub.status.busy": "2020-10-28T16:38:27.433835Z",
     "iopub.status.idle": "2020-10-28T16:38:27.454073Z",
     "shell.execute_reply": "2020-10-28T16:38:27.454547Z"
    }
   },
   "outputs": [],
   "source": [
    "ds.to_netcdf(\"ertrayleigh.nc\")"
   ]
  },
  {
   "cell_type": "markdown",
   "metadata": {},
   "source": [
    "Results can then easily be plotted using Eradiate's matplotlib/xarray-based plotting facilities:"
   ]
  },
  {
   "cell_type": "code",
   "execution_count": 11,
   "metadata": {
    "execution": {
     "iopub.execute_input": "2020-10-28T16:38:27.525563Z",
     "iopub.status.busy": "2020-10-28T16:38:27.507075Z",
     "iopub.status.idle": "2020-10-28T16:38:27.794249Z",
     "shell.execute_reply": "2020-10-28T16:38:27.794762Z"
    }
   },
   "outputs": [
    {
     "data": {
      "image/png": "[encoded data removed]",
      "text/plain": [
       "<Figure size 432x288 with 2 Axes>"
      ]
     },
     "metadata": {
      "needs_background": "light"
     },
     "output_type": "display_data"
    }
   ],
   "source": [
    "import matplotlib.pyplot as plt\n",
    "import eradiate.util.view\n",
    "\n",
    "fig = plt.gcf()\n",
    "ds.toa_brf_hsphere.ert.plot(kind=\"polar_pcolormesh\")\n",
    "plt.show()"
   ]
  },
  {
   "cell_type": "markdown",
   "metadata": {},
   "source": [
    "The figure can be saved using the usual matplotlib pattern:"
   ]
  },
  {
   "cell_type": "code",
   "execution_count": 12,
   "metadata": {
    "execution": {
     "iopub.execute_input": "2020-10-28T16:38:27.799413Z",
     "iopub.status.busy": "2020-10-28T16:38:27.797603Z",
     "iopub.status.idle": "2020-10-28T16:38:27.861322Z",
     "shell.execute_reply": "2020-10-28T16:38:27.861844Z"
    }
   },
   "outputs": [],
   "source": [
    "fig.savefig(\"ertrayleigh_toa_brf.png\")\n",
    "plt.close()"
   ]
  },
  {
   "cell_type": "markdown",
   "metadata": {},
   "source": [
    "From there, any post-processing or customised plotting can happen."
   ]
  },
  {
   "cell_type": "markdown",
   "metadata": {},
   "source": [
    "We finish this sequence with a quick cleanup:"
   ]
  },
  {
   "cell_type": "code",
   "execution_count": 13,
   "metadata": {
    "execution": {
     "iopub.execute_input": "2020-10-28T16:38:27.865009Z",
     "iopub.status.busy": "2020-10-28T16:38:27.864580Z",
     "iopub.status.idle": "2020-10-28T16:38:28.093877Z",
     "shell.execute_reply": "2020-10-28T16:38:28.094331Z"
    }
   },
   "outputs": [],
   "source": [
    "%rm ertrayleigh*.png\n",
    "%rm ertrayleigh*.nc"
   ]
  }
 ],
 "metadata": {
  "kernelspec": {
   "display_name": "Python 3",
   "language": "python",
   "name": "python3"
  },
  "language_info": {
   "codemirror_mode": {
    "name": "ipython",
    "version": 3
   },
   "file_extension": ".py",
   "mimetype": "text/x-python",
   "name": "python",
   "nbconvert_exporter": "python",
   "pygments_lexer": "ipython3",
   "version": "3.7.9"
  }
 },
 "nbformat": 4,
 "nbformat_minor": 4
}
