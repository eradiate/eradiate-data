{
 "cells": [
  {
   "cell_type": "raw",
   "metadata": {
    "raw_mimetype": "text/restructuredtext"
   },
   "source": [
    ".. _tut-quick_overview:"
   ]
  },
  {
   "cell_type": "markdown",
   "metadata": {},
   "source": [
    "# Quick overview\n",
    "\n",
    "This tutorial gives a very quick introduction to Eradiate's main features. We assume here that you have successfully installed the package (see [Getting the code](../../../rst/getting_started/building.rst)). In this guide, we will see:\n",
    "\n",
    "- how to run a simulation using the one-dimensional solver command-line interface;\n",
    "- how to run the same simulation using Eradiate's Python API.\n",
    "\n",
    "It is strongly recommended to execute the Python code presented here in a Jupyter notebook.\n",
    "\n",
    "<div class=\"alert alert-info\">\n",
    "\n",
    "This tutorial is available as a Jupyter notebook in the Eradiate codebase \n",
    "[`$ERADIATE_DIR/resources/data/notebooks/tutorials/quick_overview/quick_overview.ipynb`].\n",
    "\n",
    "</div>\n"
   ]
  },
  {
   "cell_type": "markdown",
   "metadata": {},
   "source": [
    "## Using the command-line\n",
    "\n",
    "A first entry point to Eradiate is the command-line interface to its solvers. They are directly accessible from a terminal, provided that environment variables are set correctly. For this example, we will use the `ertonedim` application, which works on a one-dimensional scene consisting of a flat surface and an atmosphere. We can first call it with its `--help` flag to display the help text:"
   ]
  },
  {
   "cell_type": "code",
   "execution_count": 1,
   "metadata": {
    "execution": {
     "iopub.execute_input": "2021-01-04T11:10:15.455125Z",
     "iopub.status.busy": "2021-01-04T11:10:15.454657Z",
     "iopub.status.idle": "2021-01-04T11:10:17.179480Z",
     "shell.execute_reply": "2021-01-04T11:10:17.179907Z"
    }
   },
   "outputs": [
    {
     "name": "stdout",
     "output_type": "stream",
     "text": [
      "Usage: ertonedim [OPTIONS] CONFIG FNAME_RESULTS FNAME_PLOTS\r\n",
      "\r\n",
      "  A simple command-line interface to the OneDimSolverApp class.\r\n",
      "\r\n",
      "  This tool reads a OneDimSolverApp YAML configuration file located at\r\n",
      "  CONFIG and simulates radiative transfer on it. It stores the results in\r\n",
      "  files named with the prefix FNAME_RESULTS and creates default plots in\r\n",
      "  files named with the prefix FNAME_PLOTS.\r\n",
      "\r\n",
      "Options:\r\n",
      "  --help  Show this message and exit.\r\n"
     ]
    }
   ],
   "source": [
    "!ertonedim --help"
   ]
  },
  {
   "cell_type": "markdown",
   "metadata": {},
   "source": [
    "This application is configured with a file which uses the [YAML format](https://yaml.org/). A sample configuration file [`$ERADIATE/resources/data/notebooks/tutorials/quick_overview/config.yml`] is given with this tutorial. Let's first `cd` to the directory where our tutorial files are located:"
   ]
  },
  {
   "cell_type": "code",
   "execution_count": 2,
   "metadata": {
    "execution": {
     "iopub.execute_input": "2021-01-04T11:10:17.184855Z",
     "iopub.status.busy": "2021-01-04T11:10:17.184011Z",
     "iopub.status.idle": "2021-01-04T11:10:17.186457Z",
     "shell.execute_reply": "2021-01-04T11:10:17.186904Z"
    }
   },
   "outputs": [
    {
     "name": "stdout",
     "output_type": "stream",
     "text": [
      "/Users/leroyv/Documents/src/rayference/rtm/eradiate/resources/data/notebooks/tutorials/quick_overview\n"
     ]
    }
   ],
   "source": [
    "import os\n",
    "%cd {os.environ[\"ERADIATE_DIR\"]}/resources/data/notebooks/tutorials/quick_overview"
   ]
  },
  {
   "cell_type": "markdown",
   "metadata": {},
   "source": [
    "Now we can visualise the configuration file:"
   ]
  },
  {
   "cell_type": "code",
   "execution_count": 3,
   "metadata": {
    "execution": {
     "iopub.execute_input": "2021-01-04T11:10:17.189496Z",
     "iopub.status.busy": "2021-01-04T11:10:17.189074Z",
     "iopub.status.idle": "2021-01-04T11:10:17.303402Z",
     "shell.execute_reply": "2021-01-04T11:10:17.303850Z"
    }
   },
   "outputs": [
    {
     "name": "stdout",
     "output_type": "stream",
     "text": [
      "mode:\r\n",
      "  type: mono\r\n",
      "  wavelength: 550.  # nm\r\n",
      "surface:\r\n",
      "  type: lambertian\r\n",
      "  reflectance:\r\n",
      "    type: uniform\r\n",
      "    value: 0.5  # dimensionless\r\n",
      "atmosphere:\r\n",
      "  type: homogeneous\r\n",
      "  toa_altitude: 40.  # km\r\n",
      "illumination:\r\n",
      "  type: directional\r\n",
      "  zenith: 30.  # deg\r\n",
      "  azimuth: 0.  # deg\r\n",
      "  irradiance:\r\n",
      "    type: uniform\r\n",
      "    value: 1.8e+6  # W/km^2/nm\r\n",
      "measures:\r\n",
      "  - type: toa_hsphere\r\n",
      "    spp: 32000  # dimensionless\r\n",
      "    zenith_res: 10.  # deg\r\n",
      "    azimuth_res: 10.  # deg\r\n"
     ]
    }
   ],
   "source": [
    "%cat config.yml"
   ]
  },
  {
   "cell_type": "markdown",
   "metadata": {},
   "source": [
    "The file format is described in [One-dimensional solver application](../../../rst/user_guide/onedim_solver_app.rst) guide.\n",
    "\n",
    "In addition, `ertonedim` requires the user to specify output and plot filename prefixes. These can be absolute or relative paths."
   ]
  },
  {
   "cell_type": "code",
   "execution_count": 4,
   "metadata": {
    "execution": {
     "iopub.execute_input": "2021-01-04T11:10:17.308168Z",
     "iopub.status.busy": "2021-01-04T11:10:17.307742Z",
     "iopub.status.idle": "2021-01-04T11:10:23.186864Z",
     "shell.execute_reply": "2021-01-04T11:10:23.187459Z"
    }
   },
   "outputs": [
    {
     "name": "stdout",
     "output_type": "stream",
     "text": [
      "VBox(children=(HTML(value=''), FloatProgress(value=0.0, bar_style='info', layout=Layout(width='100%'), max=1.0)))\r\n",
      "Saving results to /Users/leroyv/Documents/src/rayference/rtm/eradiate/resources/data/notebooks/tutorials/quick_overview/ertonedim_toa_hsphere.nc\r\n",
      "Saving plot to /Users/leroyv/Documents/src/rayference/rtm/eradiate/resources/data/notebooks/tutorials/quick_overview/ertonedim_toa_hsphere_lo.png\r\n",
      "Saving plot to /Users/leroyv/Documents/src/rayference/rtm/eradiate/resources/data/notebooks/tutorials/quick_overview/ertonedim_toa_hsphere_brdf.png\r\n",
      "Saving plot to /Users/leroyv/Documents/src/rayference/rtm/eradiate/resources/data/notebooks/tutorials/quick_overview/ertonedim_toa_hsphere_brf.png\r\n"
     ]
    }
   ],
   "source": [
    "!ertonedim config.yml ertonedim ertonedim"
   ]
  },
  {
   "cell_type": "markdown",
   "metadata": {},
   "source": [
    "The application saves plots and results to the instructed location. \n",
    "\n",
    "- Results are saved in the netCDF format and can be further processed using your tools of choice. One netCDF file is created for each measure specified in the configuration file.\n",
    "- One plot is generated for each measure specified in the configuration file. Note that Eradiate's applications do not allow for plot customisation; should that be done, the Python API should be preferred."
   ]
  },
  {
   "cell_type": "code",
   "execution_count": 5,
   "metadata": {
    "execution": {
     "iopub.execute_input": "2021-01-04T11:10:23.190721Z",
     "iopub.status.busy": "2021-01-04T11:10:23.190298Z",
     "iopub.status.idle": "2021-01-04T11:10:23.306650Z",
     "shell.execute_reply": "2021-01-04T11:10:23.307314Z"
    }
   },
   "outputs": [
    {
     "name": "stdout",
     "output_type": "stream",
     "text": [
      "config.yml                      ertonedim_toa_hsphere_lo.png\r\n",
      "ertonedim_toa_hsphere.nc        \u001b[35mipython_config.py\u001b[m\u001b[m@\r\n",
      "ertonedim_toa_hsphere_brdf.png  quick_overview.ipynb\r\n",
      "ertonedim_toa_hsphere_brf.png\r\n"
     ]
    }
   ],
   "source": [
    "%ls"
   ]
  },
  {
   "cell_type": "markdown",
   "metadata": {},
   "source": [
    "## Using the Python API\n",
    "\n",
    "Eradiate also provides total access to its features through a complete and documented API (see [API reference](../../../rst/api_reference/intro.rst)). The `ertonedim` command-line tool is a thin wrapper around the [OneDimSolverApp](../../../rst/api_reference/generated/eradiate.solvers.onedim.app.OneDimSolverApp.rst) class. We can easily reproduce the previous computation using it.\n",
    "\n",
    "We start by loading our YAML configuration file into a dictionary:"
   ]
  },
  {
   "cell_type": "code",
   "execution_count": 6,
   "metadata": {
    "execution": {
     "iopub.execute_input": "2021-01-04T11:10:23.310685Z",
     "iopub.status.busy": "2021-01-04T11:10:23.310253Z",
     "iopub.status.idle": "2021-01-04T11:10:23.331195Z",
     "shell.execute_reply": "2021-01-04T11:10:23.331786Z"
    }
   },
   "outputs": [
    {
     "data": {
      "text/plain": [
       "{'mode': {'type': 'mono', 'wavelength': 550.0},\n",
       " 'surface': {'type': 'lambertian',\n",
       "  'reflectance': {'type': 'uniform', 'value': 0.5}},\n",
       " 'atmosphere': {'type': 'homogeneous', 'toa_altitude': 40.0},\n",
       " 'illumination': {'type': 'directional',\n",
       "  'zenith': 30.0,\n",
       "  'azimuth': 0.0,\n",
       "  'irradiance': {'type': 'uniform', 'value': 1800000.0}},\n",
       " 'measures': [{'type': 'toa_hsphere',\n",
       "   'spp': 32000,\n",
       "   'zenith_res': 10.0,\n",
       "   'azimuth_res': 10.0}]}"
      ]
     },
     "execution_count": 1,
     "metadata": {},
     "output_type": "execute_result"
    }
   ],
   "source": [
    "import ruamel.yaml as yaml\n",
    "with open(\"config.yml\") as f:\n",
    "    config = yaml.safe_load(f)\n",
    "config"
   ]
  },
  {
   "cell_type": "markdown",
   "metadata": {},
   "source": [
    "We can see here that the contents of the configuration file are directly translated into a configuration dictionary. This dictionary can be used as the argument of the `OneDimSolverApp` constructor:"
   ]
  },
  {
   "cell_type": "code",
   "execution_count": 7,
   "metadata": {
    "execution": {
     "iopub.execute_input": "2021-01-04T11:10:23.334905Z",
     "iopub.status.busy": "2021-01-04T11:10:23.334471Z",
     "iopub.status.idle": "2021-01-04T11:10:24.498982Z",
     "shell.execute_reply": "2021-01-04T11:10:24.499427Z"
    }
   },
   "outputs": [],
   "source": [
    "from eradiate.solvers.onedim.app import OneDimSolverApp\n",
    "solver = OneDimSolverApp.from_dict(config)"
   ]
  },
  {
   "cell_type": "markdown",
   "metadata": {},
   "source": [
    "Launching the simulation is then as simple as calling the [OneDimSolverApp.run()](../../../rst/api_reference/generated/eradiate.solvers.onedim.app.OneDimSolverApp.rst#eradiate.solvers.onedim.app.OneDimSolverApp.run) method:"
   ]
  },
  {
   "cell_type": "code",
   "execution_count": 8,
   "metadata": {
    "execution": {
     "iopub.execute_input": "2021-01-04T11:10:24.527357Z",
     "iopub.status.busy": "2021-01-04T11:10:24.526669Z",
     "iopub.status.idle": "2021-01-04T11:10:27.509652Z",
     "shell.execute_reply": "2021-01-04T11:10:27.510205Z"
    }
   },
   "outputs": [
    {
     "data": {
      "application/vnd.jupyter.widget-view+json": {
       "model_id": "c7a82d7169404c43976bb713a520935e",
       "version_major": 2,
       "version_minor": 0
      },
      "text/plain": [
       "VBox(children=(HTML(value=''), FloatProgress(value=0.0, bar_style='info', layout=Layout(width='100%'), max=1.0…"
      ]
     },
     "metadata": {},
     "output_type": "display_data"
    }
   ],
   "source": [
    "solver.run()"
   ]
  },
  {
   "cell_type": "markdown",
   "metadata": {},
   "source": [
    "Unlike the command-line interface, a call to `run()` without argument will not create any result or plot files. Instead, results are saved in the solver object's `results` dictionary. In this case, we have a single measure, so `solver.results` contains a single element under the key `\"toa_hsphere\"` which corresponds to the only measure defined in the configuration file. This element is an xarray `Dataset`:"
   ]
  },
  {
   "cell_type": "code",
   "execution_count": 9,
   "metadata": {
    "execution": {
     "iopub.execute_input": "2021-01-04T11:10:27.518197Z",
     "iopub.status.busy": "2021-01-04T11:10:27.517590Z",
     "iopub.status.idle": "2021-01-04T11:10:27.541351Z",
     "shell.execute_reply": "2021-01-04T11:10:27.541831Z"
    }
   },
   "outputs": [
    {
     "data": {
      "text/html": [
       "<div><svg style=\"position: absolute; width: 0; height: 0; overflow: hidden\">\n",
       "<defs>\n",
       "<symbol id=\"icon-database\" viewBox=\"0 0 32 32\">\n",
       "<path d=\"M16 0c-8.837 0-16 2.239-16 5v4c0 2.761 7.163 5 16 5s16-2.239 16-5v-4c0-2.761-7.163-5-16-5z\"></path>\n",
       "<path d=\"M16 17c-8.837 0-16-2.239-16-5v6c0 2.761 7.163 5 16 5s16-2.239 16-5v-6c0 2.761-7.163 5-16 5z\"></path>\n",
       "<path d=\"M16 26c-8.837 0-16-2.239-16-5v6c0 2.761 7.163 5 16 5s16-2.239 16-5v-6c0 2.761-7.163 5-16 5z\"></path>\n",
       "</symbol>\n",
       "<symbol id=\"icon-file-text2\" viewBox=\"0 0 32 32\">\n",
       "<path d=\"M28.681 7.159c-0.694-0.947-1.662-2.053-2.724-3.116s-2.169-2.030-3.116-2.724c-1.612-1.182-2.393-1.319-2.841-1.319h-15.5c-1.378 0-2.5 1.121-2.5 2.5v27c0 1.378 1.122 2.5 2.5 2.5h23c1.378 0 2.5-1.122 2.5-2.5v-19.5c0-0.448-0.137-1.23-1.319-2.841zM24.543 5.457c0.959 0.959 1.712 1.825 2.268 2.543h-4.811v-4.811c0.718 0.556 1.584 1.309 2.543 2.268zM28 29.5c0 0.271-0.229 0.5-0.5 0.5h-23c-0.271 0-0.5-0.229-0.5-0.5v-27c0-0.271 0.229-0.5 0.5-0.5 0 0 15.499-0 15.5 0v7c0 0.552 0.448 1 1 1h7v19.5z\"></path>\n",
       "<path d=\"M23 26h-14c-0.552 0-1-0.448-1-1s0.448-1 1-1h14c0.552 0 1 0.448 1 1s-0.448 1-1 1z\"></path>\n",
       "<path d=\"M23 22h-14c-0.552 0-1-0.448-1-1s0.448-1 1-1h14c0.552 0 1 0.448 1 1s-0.448 1-1 1z\"></path>\n",
       "<path d=\"M23 18h-14c-0.552 0-1-0.448-1-1s0.448-1 1-1h14c0.552 0 1 0.448 1 1s-0.448 1-1 1z\"></path>\n",
       "</symbol>\n",
       "</defs>\n",
       "</svg>\n",
       "<style>/* CSS stylesheet for displaying xarray objects in jupyterlab.\n",
       " *\n",
       " */\n",
       "\n",
       ":root {\n",
       "  --xr-font-color0: var(--jp-content-font-color0, rgba(0, 0, 0, 1));\n",
       "  --xr-font-color2: var(--jp-content-font-color2, rgba(0, 0, 0, 0.54));\n",
       "  --xr-font-color3: var(--jp-content-font-color3, rgba(0, 0, 0, 0.38));\n",
       "  --xr-border-color: var(--jp-border-color2, #e0e0e0);\n",
       "  --xr-disabled-color: var(--jp-layout-color3, #bdbdbd);\n",
       "  --xr-background-color: var(--jp-layout-color0, white);\n",
       "  --xr-background-color-row-even: var(--jp-layout-color1, white);\n",
       "  --xr-background-color-row-odd: var(--jp-layout-color2, #eeeeee);\n",
       "}\n",
       "\n",
       "html[theme=dark],\n",
       "body.vscode-dark {\n",
       "  --xr-font-color0: rgba(255, 255, 255, 1);\n",
       "  --xr-font-color2: rgba(255, 255, 255, 0.54);\n",
       "  --xr-font-color3: rgba(255, 255, 255, 0.38);\n",
       "  --xr-border-color: #1F1F1F;\n",
       "  --xr-disabled-color: #515151;\n",
       "  --xr-background-color: #111111;\n",
       "  --xr-background-color-row-even: #111111;\n",
       "  --xr-background-color-row-odd: #313131;\n",
       "}\n",
       "\n",
       ".xr-wrap {\n",
       "  display: block;\n",
       "  min-width: 300px;\n",
       "  max-width: 700px;\n",
       "}\n",
       "\n",
       ".xr-text-repr-fallback {\n",
       "  /* fallback to plain text repr when CSS is not injected (untrusted notebook) */\n",
       "  display: none;\n",
       "}\n",
       "\n",
       ".xr-header {\n",
       "  padding-top: 6px;\n",
       "  padding-bottom: 6px;\n",
       "  margin-bottom: 4px;\n",
       "  border-bottom: solid 1px var(--xr-border-color);\n",
       "}\n",
       "\n",
       ".xr-header > div,\n",
       ".xr-header > ul {\n",
       "  display: inline;\n",
       "  margin-top: 0;\n",
       "  margin-bottom: 0;\n",
       "}\n",
       "\n",
       ".xr-obj-type,\n",
       ".xr-array-name {\n",
       "  margin-left: 2px;\n",
       "  margin-right: 10px;\n",
       "}\n",
       "\n",
       ".xr-obj-type {\n",
       "  color: var(--xr-font-color2);\n",
       "}\n",
       "\n",
       ".xr-sections {\n",
       "  padding-left: 0 !important;\n",
       "  display: grid;\n",
       "  grid-template-columns: 150px auto auto 1fr 20px 20px;\n",
       "}\n",
       "\n",
       ".xr-section-item {\n",
       "  display: contents;\n",
       "}\n",
       "\n",
       ".xr-section-item input {\n",
       "  display: none;\n",
       "}\n",
       "\n",
       ".xr-section-item input + label {\n",
       "  color: var(--xr-disabled-color);\n",
       "}\n",
       "\n",
       ".xr-section-item input:enabled + label {\n",
       "  cursor: pointer;\n",
       "  color: var(--xr-font-color2);\n",
       "}\n",
       "\n",
       ".xr-section-item input:enabled + label:hover {\n",
       "  color: var(--xr-font-color0);\n",
       "}\n",
       "\n",
       ".xr-section-summary {\n",
       "  grid-column: 1;\n",
       "  color: var(--xr-font-color2);\n",
       "  font-weight: 500;\n",
       "}\n",
       "\n",
       ".xr-section-summary > span {\n",
       "  display: inline-block;\n",
       "  padding-left: 0.5em;\n",
       "}\n",
       "\n",
       ".xr-section-summary-in:disabled + label {\n",
       "  color: var(--xr-font-color2);\n",
       "}\n",
       "\n",
       ".xr-section-summary-in + label:before {\n",
       "  display: inline-block;\n",
       "  content: '►';\n",
       "  font-size: 11px;\n",
       "  width: 15px;\n",
       "  text-align: center;\n",
       "}\n",
       "\n",
       ".xr-section-summary-in:disabled + label:before {\n",
       "  color: var(--xr-disabled-color);\n",
       "}\n",
       "\n",
       ".xr-section-summary-in:checked + label:before {\n",
       "  content: '▼';\n",
       "}\n",
       "\n",
       ".xr-section-summary-in:checked + label > span {\n",
       "  display: none;\n",
       "}\n",
       "\n",
       ".xr-section-summary,\n",
       ".xr-section-inline-details {\n",
       "  padding-top: 4px;\n",
       "  padding-bottom: 4px;\n",
       "}\n",
       "\n",
       ".xr-section-inline-details {\n",
       "  grid-column: 2 / -1;\n",
       "}\n",
       "\n",
       ".xr-section-details {\n",
       "  display: none;\n",
       "  grid-column: 1 / -1;\n",
       "  margin-bottom: 5px;\n",
       "}\n",
       "\n",
       ".xr-section-summary-in:checked ~ .xr-section-details {\n",
       "  display: contents;\n",
       "}\n",
       "\n",
       ".xr-array-wrap {\n",
       "  grid-column: 1 / -1;\n",
       "  display: grid;\n",
       "  grid-template-columns: 20px auto;\n",
       "}\n",
       "\n",
       ".xr-array-wrap > label {\n",
       "  grid-column: 1;\n",
       "  vertical-align: top;\n",
       "}\n",
       "\n",
       ".xr-preview {\n",
       "  color: var(--xr-font-color3);\n",
       "}\n",
       "\n",
       ".xr-array-preview,\n",
       ".xr-array-data {\n",
       "  padding: 0 5px !important;\n",
       "  grid-column: 2;\n",
       "}\n",
       "\n",
       ".xr-array-data,\n",
       ".xr-array-in:checked ~ .xr-array-preview {\n",
       "  display: none;\n",
       "}\n",
       "\n",
       ".xr-array-in:checked ~ .xr-array-data,\n",
       ".xr-array-preview {\n",
       "  display: inline-block;\n",
       "}\n",
       "\n",
       ".xr-dim-list {\n",
       "  display: inline-block !important;\n",
       "  list-style: none;\n",
       "  padding: 0 !important;\n",
       "  margin: 0;\n",
       "}\n",
       "\n",
       ".xr-dim-list li {\n",
       "  display: inline-block;\n",
       "  padding: 0;\n",
       "  margin: 0;\n",
       "}\n",
       "\n",
       ".xr-dim-list:before {\n",
       "  content: '(';\n",
       "}\n",
       "\n",
       ".xr-dim-list:after {\n",
       "  content: ')';\n",
       "}\n",
       "\n",
       ".xr-dim-list li:not(:last-child):after {\n",
       "  content: ',';\n",
       "  padding-right: 5px;\n",
       "}\n",
       "\n",
       ".xr-has-index {\n",
       "  font-weight: bold;\n",
       "}\n",
       "\n",
       ".xr-var-list,\n",
       ".xr-var-item {\n",
       "  display: contents;\n",
       "}\n",
       "\n",
       ".xr-var-item > div,\n",
       ".xr-var-item label,\n",
       ".xr-var-item > .xr-var-name span {\n",
       "  background-color: var(--xr-background-color-row-even);\n",
       "  margin-bottom: 0;\n",
       "}\n",
       "\n",
       ".xr-var-item > .xr-var-name:hover span {\n",
       "  padding-right: 5px;\n",
       "}\n",
       "\n",
       ".xr-var-list > li:nth-child(odd) > div,\n",
       ".xr-var-list > li:nth-child(odd) > label,\n",
       ".xr-var-list > li:nth-child(odd) > .xr-var-name span {\n",
       "  background-color: var(--xr-background-color-row-odd);\n",
       "}\n",
       "\n",
       ".xr-var-name {\n",
       "  grid-column: 1;\n",
       "}\n",
       "\n",
       ".xr-var-dims {\n",
       "  grid-column: 2;\n",
       "}\n",
       "\n",
       ".xr-var-dtype {\n",
       "  grid-column: 3;\n",
       "  text-align: right;\n",
       "  color: var(--xr-font-color2);\n",
       "}\n",
       "\n",
       ".xr-var-preview {\n",
       "  grid-column: 4;\n",
       "}\n",
       "\n",
       ".xr-var-name,\n",
       ".xr-var-dims,\n",
       ".xr-var-dtype,\n",
       ".xr-preview,\n",
       ".xr-attrs dt {\n",
       "  white-space: nowrap;\n",
       "  overflow: hidden;\n",
       "  text-overflow: ellipsis;\n",
       "  padding-right: 10px;\n",
       "}\n",
       "\n",
       ".xr-var-name:hover,\n",
       ".xr-var-dims:hover,\n",
       ".xr-var-dtype:hover,\n",
       ".xr-attrs dt:hover {\n",
       "  overflow: visible;\n",
       "  width: auto;\n",
       "  z-index: 1;\n",
       "}\n",
       "\n",
       ".xr-var-attrs,\n",
       ".xr-var-data {\n",
       "  display: none;\n",
       "  background-color: var(--xr-background-color) !important;\n",
       "  padding-bottom: 5px !important;\n",
       "}\n",
       "\n",
       ".xr-var-attrs-in:checked ~ .xr-var-attrs,\n",
       ".xr-var-data-in:checked ~ .xr-var-data {\n",
       "  display: block;\n",
       "}\n",
       "\n",
       ".xr-var-data > table {\n",
       "  float: right;\n",
       "}\n",
       "\n",
       ".xr-var-name span,\n",
       ".xr-var-data,\n",
       ".xr-attrs {\n",
       "  padding-left: 25px !important;\n",
       "}\n",
       "\n",
       ".xr-attrs,\n",
       ".xr-var-attrs,\n",
       ".xr-var-data {\n",
       "  grid-column: 1 / -1;\n",
       "}\n",
       "\n",
       "dl.xr-attrs {\n",
       "  padding: 0;\n",
       "  margin: 0;\n",
       "  display: grid;\n",
       "  grid-template-columns: 125px auto;\n",
       "}\n",
       "\n",
       ".xr-attrs dt, dd {\n",
       "  padding: 0;\n",
       "  margin: 0;\n",
       "  float: left;\n",
       "  padding-right: 10px;\n",
       "  width: auto;\n",
       "}\n",
       "\n",
       ".xr-attrs dt {\n",
       "  font-weight: normal;\n",
       "  grid-column: 1;\n",
       "}\n",
       "\n",
       ".xr-attrs dt:hover span {\n",
       "  display: inline-block;\n",
       "  background: var(--xr-background-color);\n",
       "  padding-right: 10px;\n",
       "}\n",
       "\n",
       ".xr-attrs dd {\n",
       "  grid-column: 2;\n",
       "  white-space: pre-wrap;\n",
       "  word-break: break-all;\n",
       "}\n",
       "\n",
       ".xr-icon-database,\n",
       ".xr-icon-file-text2 {\n",
       "  display: inline-block;\n",
       "  vertical-align: middle;\n",
       "  width: 1em;\n",
       "  height: 1.5em !important;\n",
       "  stroke-width: 0;\n",
       "  stroke: currentColor;\n",
       "  fill: currentColor;\n",
       "}\n",
       "</style><pre class='xr-text-repr-fallback'>&lt;xarray.Dataset&gt;\n",
       "Dimensions:     (saa: 1, sza: 1, vaa: 36, vza: 9, wavelength: 1)\n",
       "Coordinates:\n",
       "  * sza         (sza) float64 30.0\n",
       "  * saa         (saa) float64 0.0\n",
       "  * vza         (vza) float64 0.0 10.0 20.0 30.0 40.0 50.0 60.0 70.0 80.0\n",
       "  * vaa         (vaa) float64 0.0 10.0 20.0 30.0 ... 320.0 330.0 340.0 350.0\n",
       "  * wavelength  (wavelength) float64 550.0\n",
       "Data variables:\n",
       "    lo          (sza, saa, vza, vaa, wavelength) float64 2.484e+05 ... 2.483e+05\n",
       "    irradiance  (sza, saa, wavelength) float64 1.559e+06\n",
       "    brdf        (sza, saa, vza, vaa, wavelength) float64 0.1593 ... 0.1593\n",
       "    brf         (sza, saa, vza, vaa, wavelength) float64 0.5005 ... 0.5004\n",
       "Attributes:\n",
       "    convention:  CF-1.8\n",
       "    title:       Top-of-atmosphere simulation results\n",
       "    history:     2021-01-04 12:10:27 - data creation - eradiate.solvers.onedi...\n",
       "    source:      eradiate, version 0.0.1\n",
       "    references:  </pre><div class='xr-wrap' hidden><div class='xr-header'><div class='xr-obj-type'>xarray.Dataset</div></div><ul class='xr-sections'><li class='xr-section-item'><input id='section-c08ecd3d-c177-4431-b678-deb09a5dd1b3' class='xr-section-summary-in' type='checkbox' disabled ><label for='section-c08ecd3d-c177-4431-b678-deb09a5dd1b3' class='xr-section-summary'  title='Expand/collapse section'>Dimensions:</label><div class='xr-section-inline-details'><ul class='xr-dim-list'><li><span class='xr-has-index'>saa</span>: 1</li><li><span class='xr-has-index'>sza</span>: 1</li><li><span class='xr-has-index'>vaa</span>: 36</li><li><span class='xr-has-index'>vza</span>: 9</li><li><span class='xr-has-index'>wavelength</span>: 1</li></ul></div><div class='xr-section-details'></div></li><li class='xr-section-item'><input id='section-7954dca8-aee2-44c7-b264-d565cd5bcc8a' class='xr-section-summary-in' type='checkbox'  checked><label for='section-7954dca8-aee2-44c7-b264-d565cd5bcc8a' class='xr-section-summary' >Coordinates: <span>(5)</span></label><div class='xr-section-inline-details'></div><div class='xr-section-details'><ul class='xr-var-list'><li class='xr-var-item'><div class='xr-var-name'><span class='xr-has-index'>sza</span></div><div class='xr-var-dims'>(sza)</div><div class='xr-var-dtype'>float64</div><div class='xr-var-preview xr-preview'>30.0</div><input id='attrs-c1335935-ad9d-4fd0-bc8b-5f06db191fa9' class='xr-var-attrs-in' type='checkbox' ><label for='attrs-c1335935-ad9d-4fd0-bc8b-5f06db191fa9' title='Show/Hide attributes'><svg class='icon xr-icon-file-text2'><use xlink:href='#icon-file-text2'></use></svg></label><input id='data-5fb39cfd-1195-418e-a633-e5f1a8697fd7' class='xr-var-data-in' type='checkbox'><label for='data-5fb39cfd-1195-418e-a633-e5f1a8697fd7' title='Show/Hide data repr'><svg class='icon xr-icon-database'><use xlink:href='#icon-database'></use></svg></label><div class='xr-var-attrs'><dl class='xr-attrs'><dt><span>standard_name :</span></dt><dd>solar_zenith_angle</dd><dt><span>long_name :</span></dt><dd>solar zenith angle</dd><dt><span>units :</span></dt><dd>deg</dd></dl></div><div class='xr-var-data'><pre>array([30.])</pre></div></li><li class='xr-var-item'><div class='xr-var-name'><span class='xr-has-index'>saa</span></div><div class='xr-var-dims'>(saa)</div><div class='xr-var-dtype'>float64</div><div class='xr-var-preview xr-preview'>0.0</div><input id='attrs-9bc9da88-20e7-448a-a2b4-94af103850f9' class='xr-var-attrs-in' type='checkbox' ><label for='attrs-9bc9da88-20e7-448a-a2b4-94af103850f9' title='Show/Hide attributes'><svg class='icon xr-icon-file-text2'><use xlink:href='#icon-file-text2'></use></svg></label><input id='data-d748e193-74d9-48d1-8c98-4721694c25d3' class='xr-var-data-in' type='checkbox'><label for='data-d748e193-74d9-48d1-8c98-4721694c25d3' title='Show/Hide data repr'><svg class='icon xr-icon-database'><use xlink:href='#icon-database'></use></svg></label><div class='xr-var-attrs'><dl class='xr-attrs'><dt><span>standard_name :</span></dt><dd>solar_azimuth_angle</dd><dt><span>long_name :</span></dt><dd>solar azimuth angle</dd><dt><span>units :</span></dt><dd>deg</dd></dl></div><div class='xr-var-data'><pre>array([0.])</pre></div></li><li class='xr-var-item'><div class='xr-var-name'><span class='xr-has-index'>vza</span></div><div class='xr-var-dims'>(vza)</div><div class='xr-var-dtype'>float64</div><div class='xr-var-preview xr-preview'>0.0 10.0 20.0 ... 60.0 70.0 80.0</div><input id='attrs-2ad09c5d-d6f4-4cf3-82b1-970327681094' class='xr-var-attrs-in' type='checkbox' ><label for='attrs-2ad09c5d-d6f4-4cf3-82b1-970327681094' title='Show/Hide attributes'><svg class='icon xr-icon-file-text2'><use xlink:href='#icon-file-text2'></use></svg></label><input id='data-31a1c670-2801-498d-9bde-515c11fdf201' class='xr-var-data-in' type='checkbox'><label for='data-31a1c670-2801-498d-9bde-515c11fdf201' title='Show/Hide data repr'><svg class='icon xr-icon-database'><use xlink:href='#icon-database'></use></svg></label><div class='xr-var-attrs'><dl class='xr-attrs'><dt><span>standard_name :</span></dt><dd>sensor_zenith_angle</dd><dt><span>long_name :</span></dt><dd>sensor zenith angle</dd><dt><span>units :</span></dt><dd>deg</dd></dl></div><div class='xr-var-data'><pre>array([ 0., 10., 20., 30., 40., 50., 60., 70., 80.])</pre></div></li><li class='xr-var-item'><div class='xr-var-name'><span class='xr-has-index'>vaa</span></div><div class='xr-var-dims'>(vaa)</div><div class='xr-var-dtype'>float64</div><div class='xr-var-preview xr-preview'>0.0 10.0 20.0 ... 330.0 340.0 350.0</div><input id='attrs-f9afd37e-a6a5-4513-9834-3db3afa8d24e' class='xr-var-attrs-in' type='checkbox' ><label for='attrs-f9afd37e-a6a5-4513-9834-3db3afa8d24e' title='Show/Hide attributes'><svg class='icon xr-icon-file-text2'><use xlink:href='#icon-file-text2'></use></svg></label><input id='data-750b4cae-8585-4efc-8a0a-466ef9d52f08' class='xr-var-data-in' type='checkbox'><label for='data-750b4cae-8585-4efc-8a0a-466ef9d52f08' title='Show/Hide data repr'><svg class='icon xr-icon-database'><use xlink:href='#icon-database'></use></svg></label><div class='xr-var-attrs'><dl class='xr-attrs'><dt><span>standard_name :</span></dt><dd>sensor_azimuth_angle</dd><dt><span>long_name :</span></dt><dd>sensor azimuth angle</dd><dt><span>units :</span></dt><dd>deg</dd></dl></div><div class='xr-var-data'><pre>array([  0.,  10.,  20.,  30.,  40.,  50.,  60.,  70.,  80.,  90., 100., 110.,\n",
       "       120., 130., 140., 150., 160., 170., 180., 190., 200., 210., 220., 230.,\n",
       "       240., 250., 260., 270., 280., 290., 300., 310., 320., 330., 340., 350.])</pre></div></li><li class='xr-var-item'><div class='xr-var-name'><span class='xr-has-index'>wavelength</span></div><div class='xr-var-dims'>(wavelength)</div><div class='xr-var-dtype'>float64</div><div class='xr-var-preview xr-preview'>550.0</div><input id='attrs-7e5f0646-3449-42db-99eb-d9f94d081959' class='xr-var-attrs-in' type='checkbox' ><label for='attrs-7e5f0646-3449-42db-99eb-d9f94d081959' title='Show/Hide attributes'><svg class='icon xr-icon-file-text2'><use xlink:href='#icon-file-text2'></use></svg></label><input id='data-38b558c7-a4a4-4fc6-a4f8-c72d3fb32c2c' class='xr-var-data-in' type='checkbox'><label for='data-38b558c7-a4a4-4fc6-a4f8-c72d3fb32c2c' title='Show/Hide data repr'><svg class='icon xr-icon-database'><use xlink:href='#icon-database'></use></svg></label><div class='xr-var-attrs'><dl class='xr-attrs'><dt><span>standard_name :</span></dt><dd>wavelength</dd><dt><span>long_name :</span></dt><dd>wavelength</dd><dt><span>units :</span></dt><dd>nm</dd></dl></div><div class='xr-var-data'><pre>array([550.])</pre></div></li></ul></div></li><li class='xr-section-item'><input id='section-05ee6dfe-80f2-4c4b-a7f7-1b8b8d77427c' class='xr-section-summary-in' type='checkbox'  checked><label for='section-05ee6dfe-80f2-4c4b-a7f7-1b8b8d77427c' class='xr-section-summary' >Data variables: <span>(4)</span></label><div class='xr-section-inline-details'></div><div class='xr-section-details'><ul class='xr-var-list'><li class='xr-var-item'><div class='xr-var-name'><span>lo</span></div><div class='xr-var-dims'>(sza, saa, vza, vaa, wavelength)</div><div class='xr-var-dtype'>float64</div><div class='xr-var-preview xr-preview'>2.484e+05 2.483e+05 ... 2.483e+05</div><input id='attrs-366949d4-624e-4017-a358-a9d7f4937d5c' class='xr-var-attrs-in' type='checkbox' ><label for='attrs-366949d4-624e-4017-a358-a9d7f4937d5c' title='Show/Hide attributes'><svg class='icon xr-icon-file-text2'><use xlink:href='#icon-file-text2'></use></svg></label><input id='data-2953cfcc-6c55-4007-bec8-96b3c4d47b04' class='xr-var-data-in' type='checkbox'><label for='data-2953cfcc-6c55-4007-bec8-96b3c4d47b04' title='Show/Hide data repr'><svg class='icon xr-icon-database'><use xlink:href='#icon-database'></use></svg></label><div class='xr-var-attrs'><dl class='xr-attrs'><dt><span>standard_name :</span></dt><dd>toa_outgoing_radiance_per_unit_wavelength</dd><dt><span>long_name :</span></dt><dd>top-of-atmosphere outgoing spectral radiance</dd><dt><span>units :</span></dt><dd>watt / meter ** 2 / nanometer / steradian</dd></dl></div><div class='xr-var-data'><pre>array([[[[[248367.859375],\n",
       "          [248293.609375],\n",
       "          [248219.203125],\n",
       "          [248213.609375],\n",
       "          [248168.28125 ],\n",
       "          [248185.890625],\n",
       "          [248193.25    ],\n",
       "          [248135.21875 ],\n",
       "          [248123.890625],\n",
       "          [248218.578125],\n",
       "          [248095.984375],\n",
       "          [248218.625   ],\n",
       "          [248175.390625],\n",
       "          [248198.625   ],\n",
       "          [248221.09375 ],\n",
       "          [248182.640625],\n",
       "          [248212.4375  ],\n",
       "          [248220.84375 ],\n",
       "          [248231.796875],\n",
       "          [248201.421875],\n",
       "...\n",
       "          [248114.40625 ],\n",
       "          [248207.796875],\n",
       "          [248157.671875],\n",
       "          [248079.78125 ],\n",
       "          [248281.53125 ],\n",
       "          [248254.390625],\n",
       "          [248164.65625 ],\n",
       "          [248046.328125],\n",
       "          [248111.703125],\n",
       "          [248149.453125],\n",
       "          [248181.046875],\n",
       "          [248097.515625],\n",
       "          [248234.515625],\n",
       "          [248236.203125],\n",
       "          [248206.671875],\n",
       "          [248176.15625 ],\n",
       "          [248176.84375 ],\n",
       "          [248144.1875  ],\n",
       "          [248109.453125],\n",
       "          [248280.0625  ]]]]])</pre></div></li><li class='xr-var-item'><div class='xr-var-name'><span>irradiance</span></div><div class='xr-var-dims'>(sza, saa, wavelength)</div><div class='xr-var-dtype'>float64</div><div class='xr-var-preview xr-preview'>1.559e+06</div><input id='attrs-29c6adf5-e5aa-4a83-bc8e-c324d55e41b6' class='xr-var-attrs-in' type='checkbox' ><label for='attrs-29c6adf5-e5aa-4a83-bc8e-c324d55e41b6' title='Show/Hide attributes'><svg class='icon xr-icon-file-text2'><use xlink:href='#icon-file-text2'></use></svg></label><input id='data-cc250563-223b-41ef-aa08-c730b68000e1' class='xr-var-data-in' type='checkbox'><label for='data-cc250563-223b-41ef-aa08-c730b68000e1' title='Show/Hide data repr'><svg class='icon xr-icon-database'><use xlink:href='#icon-database'></use></svg></label><div class='xr-var-attrs'><dl class='xr-attrs'><dt><span>standard_name :</span></dt><dd>toa_horizontal_solar_irradiance_per_unit_wavelength</dd><dt><span>long_name :</span></dt><dd>top-of-atmosphere horizontal spectral irradiance</dd><dt><span>units :</span></dt><dd>watt / meter ** 2 / nanometer</dd></dl></div><div class='xr-var-data'><pre>array([[[1558845.72681199]]])</pre></div></li><li class='xr-var-item'><div class='xr-var-name'><span>brdf</span></div><div class='xr-var-dims'>(sza, saa, vza, vaa, wavelength)</div><div class='xr-var-dtype'>float64</div><div class='xr-var-preview xr-preview'>0.1593 0.1593 ... 0.1592 0.1593</div><input id='attrs-1b3297d5-7354-49f6-a90f-22a9bee198ce' class='xr-var-attrs-in' type='checkbox' ><label for='attrs-1b3297d5-7354-49f6-a90f-22a9bee198ce' title='Show/Hide attributes'><svg class='icon xr-icon-file-text2'><use xlink:href='#icon-file-text2'></use></svg></label><input id='data-ee1b2ddc-1cf6-4f7c-b6ce-a223d67e69f0' class='xr-var-data-in' type='checkbox'><label for='data-ee1b2ddc-1cf6-4f7c-b6ce-a223d67e69f0' title='Show/Hide data repr'><svg class='icon xr-icon-database'><use xlink:href='#icon-database'></use></svg></label><div class='xr-var-attrs'><dl class='xr-attrs'><dt><span>standard_name :</span></dt><dd>toa_brdf</dd><dt><span>long_name :</span></dt><dd>top-of-atmosphere bi-directional reflection distribution function</dd><dt><span>units :</span></dt><dd>1/sr</dd></dl></div><div class='xr-var-data'><pre>array([[[[[0.15932806],\n",
       "          [0.15928042],\n",
       "          [0.15923269],\n",
       "          [0.1592291 ],\n",
       "          [0.15920003],\n",
       "          [0.15921132],\n",
       "          [0.15921604],\n",
       "          [0.15917882],\n",
       "          [0.15917155],\n",
       "          [0.15923229],\n",
       "          [0.15915365],\n",
       "          [0.15923232],\n",
       "          [0.15920459],\n",
       "          [0.15921949],\n",
       "          [0.15923391],\n",
       "          [0.15920924],\n",
       "          [0.15922835],\n",
       "          [0.15923375],\n",
       "          [0.15924077],\n",
       "          [0.15922129],\n",
       "...\n",
       "          [0.15916547],\n",
       "          [0.15922538],\n",
       "          [0.15919322],\n",
       "          [0.15914325],\n",
       "          [0.15927268],\n",
       "          [0.15925527],\n",
       "          [0.1591977 ],\n",
       "          [0.15912179],\n",
       "          [0.15916373],\n",
       "          [0.15918795],\n",
       "          [0.15920822],\n",
       "          [0.15915463],\n",
       "          [0.15924252],\n",
       "          [0.1592436 ],\n",
       "          [0.15922465],\n",
       "          [0.15920508],\n",
       "          [0.15920552],\n",
       "          [0.15918457],\n",
       "          [0.15916229],\n",
       "          [0.15927173]]]]])</pre></div></li><li class='xr-var-item'><div class='xr-var-name'><span>brf</span></div><div class='xr-var-dims'>(sza, saa, vza, vaa, wavelength)</div><div class='xr-var-dtype'>float64</div><div class='xr-var-preview xr-preview'>0.5005 0.5004 0.5002 ... 0.5 0.5004</div><input id='attrs-f09fa205-ee8b-4a96-8026-c84dfdef0c49' class='xr-var-attrs-in' type='checkbox' ><label for='attrs-f09fa205-ee8b-4a96-8026-c84dfdef0c49' title='Show/Hide attributes'><svg class='icon xr-icon-file-text2'><use xlink:href='#icon-file-text2'></use></svg></label><input id='data-8c81e52a-3704-489b-b2e2-6d5b7097bd13' class='xr-var-data-in' type='checkbox'><label for='data-8c81e52a-3704-489b-b2e2-6d5b7097bd13' title='Show/Hide data repr'><svg class='icon xr-icon-database'><use xlink:href='#icon-database'></use></svg></label><div class='xr-var-attrs'><dl class='xr-attrs'><dt><span>standard_name :</span></dt><dd>toa_brf</dd><dt><span>long_name :</span></dt><dd>top-of-atmosphere bi-directional reflectance factor</dd><dt><span>units :</span></dt><dd>dimensionless</dd></dl></div><div class='xr-var-data'><pre>array([[[[[0.50054385],\n",
       "          [0.50039421],\n",
       "          [0.50024426],\n",
       "          [0.50023299],\n",
       "          [0.50014163],\n",
       "          [0.50017712],\n",
       "          [0.50019195],\n",
       "          [0.500075  ],\n",
       "          [0.50005217],\n",
       "          [0.500243  ],\n",
       "          [0.49999593],\n",
       "          [0.50024309],\n",
       "          [0.50015596],\n",
       "          [0.50020279],\n",
       "          [0.50024807],\n",
       "          [0.50017057],\n",
       "          [0.50023062],\n",
       "          [0.50024757],\n",
       "          [0.50026964],\n",
       "          [0.50020842],\n",
       "...\n",
       "          [0.50003306],\n",
       "          [0.50022127],\n",
       "          [0.50012025],\n",
       "          [0.49996328],\n",
       "          [0.50036987],\n",
       "          [0.50031517],\n",
       "          [0.50013433],\n",
       "          [0.49989586],\n",
       "          [0.50002761],\n",
       "          [0.50010369],\n",
       "          [0.50016736],\n",
       "          [0.49999902],\n",
       "          [0.50027512],\n",
       "          [0.50027852],\n",
       "          [0.500219  ],\n",
       "          [0.5001575 ],\n",
       "          [0.50015889],\n",
       "          [0.50009308],\n",
       "          [0.50002308],\n",
       "          [0.50036691]]]]])</pre></div></li></ul></div></li><li class='xr-section-item'><input id='section-12a0b6fa-709d-4cab-84ce-656820d78954' class='xr-section-summary-in' type='checkbox'  checked><label for='section-12a0b6fa-709d-4cab-84ce-656820d78954' class='xr-section-summary' >Attributes: <span>(5)</span></label><div class='xr-section-inline-details'></div><div class='xr-section-details'><dl class='xr-attrs'><dt><span>convention :</span></dt><dd>CF-1.8</dd><dt><span>title :</span></dt><dd>Top-of-atmosphere simulation results</dd><dt><span>history :</span></dt><dd>2021-01-04 12:10:27 - data creation - eradiate.solvers.onedim.app.OneDimSolverApp.run</dd><dt><span>source :</span></dt><dd>eradiate, version 0.0.1</dd><dt><span>references :</span></dt><dd></dd></dl></div></li></ul></div></div>"
      ],
      "text/plain": [
       "<xarray.Dataset>\n",
       "Dimensions:     (saa: 1, sza: 1, vaa: 36, vza: 9, wavelength: 1)\n",
       "Coordinates:\n",
       "  * sza         (sza) float64 30.0\n",
       "  * saa         (saa) float64 0.0\n",
       "  * vza         (vza) float64 0.0 10.0 20.0 30.0 40.0 50.0 60.0 70.0 80.0\n",
       "  * vaa         (vaa) float64 0.0 10.0 20.0 30.0 ... 320.0 330.0 340.0 350.0\n",
       "  * wavelength  (wavelength) float64 550.0\n",
       "Data variables:\n",
       "    lo          (sza, saa, vza, vaa, wavelength) float64 2.484e+05 ... 2.483e+05\n",
       "    irradiance  (sza, saa, wavelength) float64 1.559e+06\n",
       "    brdf        (sza, saa, vza, vaa, wavelength) float64 0.1593 ... 0.1593\n",
       "    brf         (sza, saa, vza, vaa, wavelength) float64 0.5005 ... 0.5004\n",
       "Attributes:\n",
       "    convention:  CF-1.8\n",
       "    title:       Top-of-atmosphere simulation results\n",
       "    history:     2021-01-04 12:10:27 - data creation - eradiate.solvers.onedi...\n",
       "    source:      eradiate, version 0.0.1\n",
       "    references:  "
      ]
     },
     "execution_count": 1,
     "metadata": {},
     "output_type": "execute_result"
    }
   ],
   "source": [
    "ds = solver.results[\"toa_hsphere\"]\n",
    "ds"
   ]
  },
  {
   "cell_type": "markdown",
   "metadata": {},
   "source": [
    "The usual xarray writing facilities can be used to save the results to a netCDF file:"
   ]
  },
  {
   "cell_type": "code",
   "execution_count": 10,
   "metadata": {
    "execution": {
     "iopub.execute_input": "2021-01-04T11:10:27.544821Z",
     "iopub.status.busy": "2021-01-04T11:10:27.544301Z",
     "iopub.status.idle": "2021-01-04T11:10:27.566081Z",
     "shell.execute_reply": "2021-01-04T11:10:27.566599Z"
    }
   },
   "outputs": [],
   "source": [
    "ds.to_netcdf(\"ertonedim.nc\")"
   ]
  },
  {
   "cell_type": "markdown",
   "metadata": {},
   "source": [
    "Results can then easily be plotted using Eradiate's matplotlib/xarray-based plotting facilities:"
   ]
  },
  {
   "cell_type": "code",
   "execution_count": 11,
   "metadata": {
    "execution": {
     "iopub.execute_input": "2021-01-04T11:10:27.572688Z",
     "iopub.status.busy": "2021-01-04T11:10:27.572234Z",
     "iopub.status.idle": "2021-01-04T11:10:28.323460Z",
     "shell.execute_reply": "2021-01-04T11:10:28.324210Z"
    }
   },
   "outputs": [
    {
     "data": {
      "image/jpeg": "[encoded data removed]",
      "image/png": "[encoded data removed]",
      "text/plain": [
       "<Figure size 512x384 with 2 Axes>"
      ]
     },
     "metadata": {},
     "output_type": "display_data"
    }
   ],
   "source": [
    "import matplotlib.pyplot as plt\n",
    "import eradiate.util.plot as ertplt\n",
    "\n",
    "fig = plt.gcf()\n",
    "ds.brf.squeeze().ert.plot_pcolormesh_polar()\n",
    "ertplt.remove_xylabels()\n",
    "plt.show()"
   ]
  },
  {
   "cell_type": "markdown",
   "metadata": {},
   "source": [
    "The figure can be saved using the usual matplotlib pattern:"
   ]
  },
  {
   "cell_type": "code",
   "execution_count": 12,
   "metadata": {
    "execution": {
     "iopub.execute_input": "2021-01-04T11:10:28.330527Z",
     "iopub.status.busy": "2021-01-04T11:10:28.330061Z",
     "iopub.status.idle": "2021-01-04T11:10:28.422534Z",
     "shell.execute_reply": "2021-01-04T11:10:28.423217Z"
    }
   },
   "outputs": [],
   "source": [
    "fig.savefig(\"ertonedim_toa_brf.png\")\n",
    "plt.close()"
   ]
  },
  {
   "cell_type": "markdown",
   "metadata": {},
   "source": [
    "From there, any post-processing or customised plotting can happen."
   ]
  },
  {
   "cell_type": "markdown",
   "metadata": {},
   "source": [
    "We finish this sequence with a quick cleanup:"
   ]
  },
  {
   "cell_type": "code",
   "execution_count": 13,
   "metadata": {
    "execution": {
     "iopub.execute_input": "2021-01-04T11:10:28.426551Z",
     "iopub.status.busy": "2021-01-04T11:10:28.426034Z",
     "iopub.status.idle": "2021-01-04T11:10:28.664445Z",
     "shell.execute_reply": "2021-01-04T11:10:28.664901Z"
    }
   },
   "outputs": [],
   "source": [
    "%rm ertonedim*.png\n",
    "%rm ertonedim*.nc"
   ]
  }
 ],
 "metadata": {
  "kernelspec": {
   "display_name": "Python 3",
   "language": "python",
   "name": "python3"
  },
  "language_info": {
   "codemirror_mode": {
    "name": "ipython",
    "version": 3
   },
   "file_extension": ".py",
   "mimetype": "text/x-python",
   "name": "python",
   "nbconvert_exporter": "python",
   "pygments_lexer": "ipython3",
   "version": "3.7.9"
  },
  "widgets": {
   "application/vnd.jupyter.widget-state+json": {
    "state": {
     "1c9cf01e303943f5ae229ad097350509": {
      "model_module": "@jupyter-widgets/controls",
      "model_module_version": "1.5.0",
      "model_name": "ProgressStyleModel",
      "state": {
       "_model_module": "@jupyter-widgets/controls",
       "_model_module_version": "1.5.0",
       "_model_name": "ProgressStyleModel",
       "_view_count": null,
       "_view_module": "@jupyter-widgets/base",
       "_view_module_version": "1.2.0",
       "_view_name": "StyleView",
       "bar_color": null,
       "description_width": ""
      }
     },
     "34694d8aa6db4435805ba1a6c8ad92e4": {
      "model_module": "@jupyter-widgets/base",
      "model_module_version": "1.2.0",
      "model_name": "LayoutModel",
      "state": {
       "_model_module": "@jupyter-widgets/base",
       "_model_module_version": "1.2.0",
       "_model_name": "LayoutModel",
       "_view_count": null,
       "_view_module": "@jupyter-widgets/base",
       "_view_module_version": "1.2.0",
       "_view_name": "LayoutView",
       "align_content": null,
       "align_items": null,
       "align_self": null,
       "border": null,
       "bottom": null,
       "display": null,
       "flex": null,
       "flex_flow": null,
       "grid_area": null,
       "grid_auto_columns": null,
       "grid_auto_flow": null,
       "grid_auto_rows": null,
       "grid_column": null,
       "grid_gap": null,
       "grid_row": null,
       "grid_template_areas": null,
       "grid_template_columns": null,
       "grid_template_rows": null,
       "height": null,
       "justify_content": null,
       "justify_items": null,
       "left": null,
       "margin": null,
       "max_height": null,
       "max_width": null,
       "min_height": null,
       "min_width": null,
       "object_fit": null,
       "object_position": null,
       "order": null,
       "overflow": null,
       "overflow_x": null,
       "overflow_y": null,
       "padding": null,
       "right": null,
       "top": null,
       "visibility": null,
       "width": "100%"
      }
     },
     "8037840efd5449d4acd5fd591d2b6a63": {
      "model_module": "@jupyter-widgets/base",
      "model_module_version": "1.2.0",
      "model_name": "LayoutModel",
      "state": {
       "_model_module": "@jupyter-widgets/base",
       "_model_module_version": "1.2.0",
       "_model_name": "LayoutModel",
       "_view_count": null,
       "_view_module": "@jupyter-widgets/base",
       "_view_module_version": "1.2.0",
       "_view_name": "LayoutView",
       "align_content": null,
       "align_items": null,
       "align_self": null,
       "border": null,
       "bottom": null,
       "display": null,
       "flex": null,
       "flex_flow": null,
       "grid_area": null,
       "grid_auto_columns": null,
       "grid_auto_flow": null,
       "grid_auto_rows": null,
       "grid_column": null,
       "grid_gap": null,
       "grid_row": null,
       "grid_template_areas": null,
       "grid_template_columns": null,
       "grid_template_rows": null,
       "height": null,
       "justify_content": null,
       "justify_items": null,
       "left": null,
       "margin": null,
       "max_height": null,
       "max_width": null,
       "min_height": null,
       "min_width": null,
       "object_fit": null,
       "object_position": null,
       "order": null,
       "overflow": null,
       "overflow_x": null,
       "overflow_y": null,
       "padding": null,
       "right": null,
       "top": null,
       "visibility": null,
       "width": null
      }
     },
     "9062c08159a34cb89f3d0160498813ae": {
      "model_module": "@jupyter-widgets/controls",
      "model_module_version": "1.5.0",
      "model_name": "HTMLModel",
      "state": {
       "_dom_classes": [],
       "_model_module": "@jupyter-widgets/controls",
       "_model_module_version": "1.5.0",
       "_model_name": "HTMLModel",
       "_view_count": null,
       "_view_module": "@jupyter-widgets/controls",
       "_view_module_version": "1.5.0",
       "_view_name": "HTMLView",
       "description": "",
       "description_tooltip": null,
       "layout": "IPY_MODEL_ebfa104a68e84159beb35ac27f79b503",
       "placeholder": "​",
       "style": "IPY_MODEL_9bcf2fc567604e0d949f4e425de5cca1",
       "value": "Processing (2.97s, ETA: 0ms)"
      }
     },
     "9bcf2fc567604e0d949f4e425de5cca1": {
      "model_module": "@jupyter-widgets/controls",
      "model_module_version": "1.5.0",
      "model_name": "DescriptionStyleModel",
      "state": {
       "_model_module": "@jupyter-widgets/controls",
       "_model_module_version": "1.5.0",
       "_model_name": "DescriptionStyleModel",
       "_view_count": null,
       "_view_module": "@jupyter-widgets/base",
       "_view_module_version": "1.2.0",
       "_view_name": "StyleView",
       "description_width": ""
      }
     },
     "a116bb6073a343e2bbe0a83f94fd5345": {
      "model_module": "@jupyter-widgets/controls",
      "model_module_version": "1.5.0",
      "model_name": "FloatProgressModel",
      "state": {
       "_dom_classes": [],
       "_model_module": "@jupyter-widgets/controls",
       "_model_module_version": "1.5.0",
       "_model_name": "FloatProgressModel",
       "_view_count": null,
       "_view_module": "@jupyter-widgets/controls",
       "_view_module_version": "1.5.0",
       "_view_name": "ProgressView",
       "bar_style": "success",
       "description": "",
       "description_tooltip": null,
       "layout": "IPY_MODEL_34694d8aa6db4435805ba1a6c8ad92e4",
       "max": 1.0,
       "min": 0.0,
       "orientation": "horizontal",
       "style": "IPY_MODEL_1c9cf01e303943f5ae229ad097350509",
       "value": 1.0
      }
     },
     "c7a82d7169404c43976bb713a520935e": {
      "model_module": "@jupyter-widgets/controls",
      "model_module_version": "1.5.0",
      "model_name": "VBoxModel",
      "state": {
       "_dom_classes": [],
       "_model_module": "@jupyter-widgets/controls",
       "_model_module_version": "1.5.0",
       "_model_name": "VBoxModel",
       "_view_count": null,
       "_view_module": "@jupyter-widgets/controls",
       "_view_module_version": "1.5.0",
       "_view_name": "VBoxView",
       "box_style": "",
       "children": [
        "IPY_MODEL_9062c08159a34cb89f3d0160498813ae",
        "IPY_MODEL_a116bb6073a343e2bbe0a83f94fd5345"
       ],
       "layout": "IPY_MODEL_8037840efd5449d4acd5fd591d2b6a63"
      }
     },
     "ebfa104a68e84159beb35ac27f79b503": {
      "model_module": "@jupyter-widgets/base",
      "model_module_version": "1.2.0",
      "model_name": "LayoutModel",
      "state": {
       "_model_module": "@jupyter-widgets/base",
       "_model_module_version": "1.2.0",
       "_model_name": "LayoutModel",
       "_view_count": null,
       "_view_module": "@jupyter-widgets/base",
       "_view_module_version": "1.2.0",
       "_view_name": "LayoutView",
       "align_content": null,
       "align_items": null,
       "align_self": null,
       "border": null,
       "bottom": null,
       "display": null,
       "flex": null,
       "flex_flow": null,
       "grid_area": null,
       "grid_auto_columns": null,
       "grid_auto_flow": null,
       "grid_auto_rows": null,
       "grid_column": null,
       "grid_gap": null,
       "grid_row": null,
       "grid_template_areas": null,
       "grid_template_columns": null,
       "grid_template_rows": null,
       "height": null,
       "justify_content": null,
       "justify_items": null,
       "left": null,
       "margin": null,
       "max_height": null,
       "max_width": null,
       "min_height": null,
       "min_width": null,
       "object_fit": null,
       "object_position": null,
       "order": null,
       "overflow": null,
       "overflow_x": null,
       "overflow_y": null,
       "padding": null,
       "right": null,
       "top": null,
       "visibility": null,
       "width": null
      }
     }
    },
    "version_major": 2,
    "version_minor": 0
   }
  }
 },
 "nbformat": 4,
 "nbformat_minor": 4
}
