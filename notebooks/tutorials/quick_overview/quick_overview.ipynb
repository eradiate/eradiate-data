{
 "cells": [
  {
   "cell_type": "raw",
   "metadata": {
    "raw_mimetype": "text/restructuredtext"
   },
   "source": [
    ".. _tut-quick_overview:"
   ]
  },
  {
   "cell_type": "markdown",
   "metadata": {},
   "source": [
    "# Quick overview\n",
    "\n",
    "This tutorial gives a very quick introduction to Eradiate's main features. We assume here that you have successfully installed the package (see [Getting the code](../../../rst/getting_started/building.rst)). In this guide, we will see:\n",
    "\n",
    "- how to run a simulation using the one-dimensional solver command-line interface;\n",
    "- how to run the same simulation using Eradiate's Python API.\n",
    "\n",
    "It is strongly recommended to execute the Python code presented here in a Jupyter notebook.\n",
    "\n",
    "<div class=\"alert alert-info\">\n",
    "\n",
    "This tutorial is available as a Jupyter notebook in the Eradiate codebase \n",
    "[`$ERADIATE_DIR/resources/data/notebooks/tutorials/quick_overview/quick_overview.ipynb`].\n",
    "\n",
    "</div>\n"
   ]
  },
  {
   "cell_type": "markdown",
   "metadata": {},
   "source": [
    "## Using the command-line\n",
    "\n",
    "A first entry point to Eradiate is the command-line interface to its solvers. They are directly accessible from a terminal, provided that environment variables are set correctly. For this example, we will use the `ertonedim` application, which works on a one-dimensional scene consisting of a flat surface and an atmosphere. We can first call it with its `--help` flag to display the help text:"
   ]
  },
  {
   "cell_type": "code",
   "execution_count": 1,
   "metadata": {
    "execution": {
     "iopub.execute_input": "2020-12-09T15:12:43.843875Z",
     "iopub.status.busy": "2020-12-09T15:12:43.843439Z",
     "iopub.status.idle": "2020-12-09T15:12:45.600462Z",
     "shell.execute_reply": "2020-12-09T15:12:45.600978Z"
    }
   },
   "outputs": [
    {
     "name": "stdout",
     "output_type": "stream",
     "text": [
      "Usage: ertonedim [OPTIONS] CONFIG FNAME_RESULTS FNAME_PLOTS\r\n",
      "\r\n",
      "  A simple command-line interface to the OneDimSolverApp class.\r\n",
      "\r\n",
      "  This tool reads a OneDimSolverApp YAML configuration file located at\r\n",
      "  CONFIG and simulates radiative transfer on it. It stores the results in\r\n",
      "  files named with the prefix FNAME_RESULTS and creates default plots in\r\n",
      "  files named with the prefix FNAME_PLOTS.\r\n",
      "\r\n",
      "Options:\r\n",
      "  --help  Show this message and exit.\r\n"
     ]
    }
   ],
   "source": [
    "!ertonedim --help"
   ]
  },
  {
   "cell_type": "markdown",
   "metadata": {},
   "source": [
    "This application is configured with a file which uses the [YAML format](https://yaml.org/). A sample configuration file [`$ERADIATE/resources/data/notebooks/tutorials/quick_overview/config.yml`] is given with this tutorial. Let's first `cd` to the directory where our tutorial files are located:"
   ]
  },
  {
   "cell_type": "code",
   "execution_count": 2,
   "metadata": {
    "execution": {
     "iopub.execute_input": "2020-12-09T15:12:45.604786Z",
     "iopub.status.busy": "2020-12-09T15:12:45.604242Z",
     "iopub.status.idle": "2020-12-09T15:12:45.606116Z",
     "shell.execute_reply": "2020-12-09T15:12:45.606562Z"
    }
   },
   "outputs": [
    {
     "name": "stdout",
     "output_type": "stream",
     "text": [
      "/Users/leroyv/Documents/src/rayference/rtm/eradiate/resources/data/notebooks/tutorials/quick_overview\n"
     ]
    }
   ],
   "source": [
    "import os\n",
    "%cd {os.environ[\"ERADIATE_DIR\"]}/resources/data/notebooks/tutorials/quick_overview"
   ]
  },
  {
   "cell_type": "markdown",
   "metadata": {},
   "source": [
    "Now we can visualise the configuration file:"
   ]
  },
  {
   "cell_type": "code",
   "execution_count": 3,
   "metadata": {
    "execution": {
     "iopub.execute_input": "2020-12-09T15:12:45.610931Z",
     "iopub.status.busy": "2020-12-09T15:12:45.610504Z",
     "iopub.status.idle": "2020-12-09T15:12:45.728350Z",
     "shell.execute_reply": "2020-12-09T15:12:45.728951Z"
    }
   },
   "outputs": [
    {
     "name": "stdout",
     "output_type": "stream",
     "text": [
      "mode:\r\n",
      "  type: mono\r\n",
      "  wavelength: 550.  # nm\r\n",
      "surface:\r\n",
      "  type: lambertian\r\n",
      "  reflectance: \r\n",
      "      type: uniform\r\n",
      "      value: 0.5  # dimensionless\r\n",
      "atmosphere:\r\n",
      "  type: homogeneous\r\n",
      "  height: 40.  # km\r\n",
      "illumination:\r\n",
      "  type: directional\r\n",
      "  zenith: 30.  # deg\r\n",
      "  azimuth: 0.  # deg\r\n",
      "  irradiance: \r\n",
      "      type: uniform\r\n",
      "      value: 1.8e+6  # W/km^2/nm\r\n",
      "measure:\r\n",
      "  - type: toa_hsphere\r\n",
      "    spp: 32000  # dimensionless\r\n",
      "    zenith_res: 10.  # deg\r\n",
      "    azimuth_res: 10.  # deg\r\n"
     ]
    }
   ],
   "source": [
    "%cat config.yml"
   ]
  },
  {
   "cell_type": "markdown",
   "metadata": {},
   "source": [
    "The file format is described in [One-dimensional solver application](../../../rst/user_guide/onedim_solver_app.rst) guide.\n",
    "\n",
    "In addition, `ertonedim` requires the user to specify output and plot filename prefixes. These can be absolute or relative paths."
   ]
  },
  {
   "cell_type": "code",
   "execution_count": 4,
   "metadata": {
    "execution": {
     "iopub.execute_input": "2020-12-09T15:12:45.732239Z",
     "iopub.status.busy": "2020-12-09T15:12:45.731818Z",
     "iopub.status.idle": "2020-12-09T15:12:53.146761Z",
     "shell.execute_reply": "2020-12-09T15:12:53.147357Z"
    }
   },
   "outputs": [
    {
     "name": "stdout",
     "output_type": "stream",
     "text": [
      "VBox(children=(HTML(value=''), FloatProgress(value=0.0, bar_style='info', layout=Layout(width='100%'), max=1.0)))\r\n",
      "Saving results to /Users/leroyv/Documents/src/rayference/rtm/eradiate/resources/data/notebooks/tutorials/quick_overview/ertonedim_toa_hsphere.nc\r\n",
      "Saving plot to /Users/leroyv/Documents/src/rayference/rtm/eradiate/resources/data/notebooks/tutorials/quick_overview/ertonedim_toa_hsphere_lo.png\r\n",
      "Saving plot to /Users/leroyv/Documents/src/rayference/rtm/eradiate/resources/data/notebooks/tutorials/quick_overview/ertonedim_toa_hsphere_brdf.png\r\n",
      "Saving plot to /Users/leroyv/Documents/src/rayference/rtm/eradiate/resources/data/notebooks/tutorials/quick_overview/ertonedim_toa_hsphere_brf.png\r\n"
     ]
    }
   ],
   "source": [
    "!ertonedim config.yml ertonedim ertonedim"
   ]
  },
  {
   "cell_type": "markdown",
   "metadata": {},
   "source": [
    "The application saves plots and results to the instructed location. \n",
    "\n",
    "- Results are saved in the netCDF format and can be further processed using your tools of choice. One netCDF file is created for each measure specified in the configuration file.\n",
    "- One plot is generated for each measure specified in the configuration file. Note that Eradiate's applications do not allow for plot customisation; should that be done, the Python API should be preferred."
   ]
  },
  {
   "cell_type": "code",
   "execution_count": 5,
   "metadata": {
    "execution": {
     "iopub.execute_input": "2020-12-09T15:12:53.151064Z",
     "iopub.status.busy": "2020-12-09T15:12:53.150642Z",
     "iopub.status.idle": "2020-12-09T15:12:53.270381Z",
     "shell.execute_reply": "2020-12-09T15:12:53.270974Z"
    }
   },
   "outputs": [
    {
     "name": "stdout",
     "output_type": "stream",
     "text": [
      "config.yml                      ertonedim_toa_hsphere_lo.png\r\n",
      "ertonedim_toa_hsphere.nc        \u001b[35mipython_config.py\u001b[m\u001b[m@\r\n",
      "ertonedim_toa_hsphere_brdf.png  quick_overview.ipynb\r\n",
      "ertonedim_toa_hsphere_brf.png\r\n"
     ]
    }
   ],
   "source": [
    "%ls"
   ]
  },
  {
   "cell_type": "markdown",
   "metadata": {},
   "source": [
    "## Using the Python API\n",
    "\n",
    "Eradiate also provides total access to its features through a complete and documented API (see [API reference](../../../rst/api_reference/intro.rst)). The `ertonedim` command-line tool is a thin wrapper around the [OneDimSolverApp](../../../rst/api_reference/generated/eradiate.solvers.onedim.app.OneDimSolverApp.rst) class. We can easily reproduce the previous computation using it.\n",
    "\n",
    "We start by loading our YAML configuration file into a dictionary:"
   ]
  },
  {
   "cell_type": "code",
   "execution_count": 6,
   "metadata": {
    "execution": {
     "iopub.execute_input": "2020-12-09T15:12:53.274649Z",
     "iopub.status.busy": "2020-12-09T15:12:53.274221Z",
     "iopub.status.idle": "2020-12-09T15:12:53.294660Z",
     "shell.execute_reply": "2020-12-09T15:12:53.294969Z"
    }
   },
   "outputs": [
    {
     "data": {
      "text/plain": [
       "{'mode': {'type': 'mono', 'wavelength': 550.0},\n",
       " 'surface': {'type': 'lambertian',\n",
       "  'reflectance': {'type': 'uniform', 'value': 0.5}},\n",
       " 'atmosphere': {'type': 'homogeneous', 'height': 40.0},\n",
       " 'illumination': {'type': 'directional',\n",
       "  'zenith': 30.0,\n",
       "  'azimuth': 0.0,\n",
       "  'irradiance': {'type': 'uniform', 'value': 1800000.0}},\n",
       " 'measure': [{'type': 'toa_hsphere',\n",
       "   'spp': 32000,\n",
       "   'zenith_res': 10.0,\n",
       "   'azimuth_res': 10.0}]}"
      ]
     },
     "execution_count": 1,
     "metadata": {},
     "output_type": "execute_result"
    }
   ],
   "source": [
    "import ruamel.yaml as yaml\n",
    "with open(\"config.yml\") as f:\n",
    "    config = yaml.safe_load(f)\n",
    "config"
   ]
  },
  {
   "cell_type": "markdown",
   "metadata": {},
   "source": [
    "We can see here that the contents of the configuration file are directly translated into a configuration dictionary. This dictionary can be used as the argument of the `OneDimSolverApp` constructor:"
   ]
  },
  {
   "cell_type": "code",
   "execution_count": 7,
   "metadata": {
    "execution": {
     "iopub.execute_input": "2020-12-09T15:12:53.297646Z",
     "iopub.status.busy": "2020-12-09T15:12:53.297212Z",
     "iopub.status.idle": "2020-12-09T15:12:54.465420Z",
     "shell.execute_reply": "2020-12-09T15:12:54.465968Z"
    }
   },
   "outputs": [],
   "source": [
    "from eradiate.solvers.onedim.app import OneDimSolverApp\n",
    "solver = OneDimSolverApp(config)"
   ]
  },
  {
   "cell_type": "markdown",
   "metadata": {},
   "source": [
    "Launching the simulation is then as simple as calling the [OneDimSolverApp.run()](../../../rst/api_reference/generated/eradiate.solvers.onedim.app.OneDimSolverApp.rst#eradiate.solvers.onedim.app.OneDimSolverApp.run) method:"
   ]
  },
  {
   "cell_type": "code",
   "execution_count": 8,
   "metadata": {
    "execution": {
     "iopub.execute_input": "2020-12-09T15:12:54.482301Z",
     "iopub.status.busy": "2020-12-09T15:12:54.481660Z",
     "iopub.status.idle": "2020-12-09T15:12:59.374831Z",
     "shell.execute_reply": "2020-12-09T15:12:59.375333Z"
    }
   },
   "outputs": [
    {
     "data": {
      "application/vnd.jupyter.widget-view+json": {
       "model_id": "353fe526f9ca40289d5a070577a874da",
       "version_major": 2,
       "version_minor": 0
      },
      "text/plain": [
       "VBox(children=(HTML(value=''), FloatProgress(value=0.0, bar_style='info', layout=Layout(width='100%'), max=1.0…"
      ]
     },
     "metadata": {},
     "output_type": "display_data"
    }
   ],
   "source": [
    "solver.run()"
   ]
  },
  {
   "cell_type": "markdown",
   "metadata": {},
   "source": [
    "Unlike the command-line interface, a call to `run()` without argument will not create any result or plot files. Instead, results are saved in the solver object's `results` dictionary. In this case, we have a single measure, so `solver.results` contains a single element under the key `\"toa_hsphere\"` which corresponds to the only measure defined in the configuration file. This element is an xarray `Dataset`:"
   ]
  },
  {
   "cell_type": "code",
   "execution_count": 9,
   "metadata": {
    "execution": {
     "iopub.execute_input": "2020-12-09T15:12:59.382595Z",
     "iopub.status.busy": "2020-12-09T15:12:59.382113Z",
     "iopub.status.idle": "2020-12-09T15:12:59.401988Z",
     "shell.execute_reply": "2020-12-09T15:12:59.402440Z"
    }
   },
   "outputs": [
    {
     "data": {
      "text/html": [
       "<div><svg style=\"position: absolute; width: 0; height: 0; overflow: hidden\">\n",
       "<defs>\n",
       "<symbol id=\"icon-database\" viewBox=\"0 0 32 32\">\n",
       "<path d=\"M16 0c-8.837 0-16 2.239-16 5v4c0 2.761 7.163 5 16 5s16-2.239 16-5v-4c0-2.761-7.163-5-16-5z\"></path>\n",
       "<path d=\"M16 17c-8.837 0-16-2.239-16-5v6c0 2.761 7.163 5 16 5s16-2.239 16-5v-6c0 2.761-7.163 5-16 5z\"></path>\n",
       "<path d=\"M16 26c-8.837 0-16-2.239-16-5v6c0 2.761 7.163 5 16 5s16-2.239 16-5v-6c0 2.761-7.163 5-16 5z\"></path>\n",
       "</symbol>\n",
       "<symbol id=\"icon-file-text2\" viewBox=\"0 0 32 32\">\n",
       "<path d=\"M28.681 7.159c-0.694-0.947-1.662-2.053-2.724-3.116s-2.169-2.030-3.116-2.724c-1.612-1.182-2.393-1.319-2.841-1.319h-15.5c-1.378 0-2.5 1.121-2.5 2.5v27c0 1.378 1.122 2.5 2.5 2.5h23c1.378 0 2.5-1.122 2.5-2.5v-19.5c0-0.448-0.137-1.23-1.319-2.841zM24.543 5.457c0.959 0.959 1.712 1.825 2.268 2.543h-4.811v-4.811c0.718 0.556 1.584 1.309 2.543 2.268zM28 29.5c0 0.271-0.229 0.5-0.5 0.5h-23c-0.271 0-0.5-0.229-0.5-0.5v-27c0-0.271 0.229-0.5 0.5-0.5 0 0 15.499-0 15.5 0v7c0 0.552 0.448 1 1 1h7v19.5z\"></path>\n",
       "<path d=\"M23 26h-14c-0.552 0-1-0.448-1-1s0.448-1 1-1h14c0.552 0 1 0.448 1 1s-0.448 1-1 1z\"></path>\n",
       "<path d=\"M23 22h-14c-0.552 0-1-0.448-1-1s0.448-1 1-1h14c0.552 0 1 0.448 1 1s-0.448 1-1 1z\"></path>\n",
       "<path d=\"M23 18h-14c-0.552 0-1-0.448-1-1s0.448-1 1-1h14c0.552 0 1 0.448 1 1s-0.448 1-1 1z\"></path>\n",
       "</symbol>\n",
       "</defs>\n",
       "</svg>\n",
       "<style>/* CSS stylesheet for displaying xarray objects in jupyterlab.\n",
       " *\n",
       " */\n",
       "\n",
       ":root {\n",
       "  --xr-font-color0: var(--jp-content-font-color0, rgba(0, 0, 0, 1));\n",
       "  --xr-font-color2: var(--jp-content-font-color2, rgba(0, 0, 0, 0.54));\n",
       "  --xr-font-color3: var(--jp-content-font-color3, rgba(0, 0, 0, 0.38));\n",
       "  --xr-border-color: var(--jp-border-color2, #e0e0e0);\n",
       "  --xr-disabled-color: var(--jp-layout-color3, #bdbdbd);\n",
       "  --xr-background-color: var(--jp-layout-color0, white);\n",
       "  --xr-background-color-row-even: var(--jp-layout-color1, white);\n",
       "  --xr-background-color-row-odd: var(--jp-layout-color2, #eeeeee);\n",
       "}\n",
       "\n",
       "html[theme=dark],\n",
       "body.vscode-dark {\n",
       "  --xr-font-color0: rgba(255, 255, 255, 1);\n",
       "  --xr-font-color2: rgba(255, 255, 255, 0.54);\n",
       "  --xr-font-color3: rgba(255, 255, 255, 0.38);\n",
       "  --xr-border-color: #1F1F1F;\n",
       "  --xr-disabled-color: #515151;\n",
       "  --xr-background-color: #111111;\n",
       "  --xr-background-color-row-even: #111111;\n",
       "  --xr-background-color-row-odd: #313131;\n",
       "}\n",
       "\n",
       ".xr-wrap {\n",
       "  display: block;\n",
       "  min-width: 300px;\n",
       "  max-width: 700px;\n",
       "}\n",
       "\n",
       ".xr-text-repr-fallback {\n",
       "  /* fallback to plain text repr when CSS is not injected (untrusted notebook) */\n",
       "  display: none;\n",
       "}\n",
       "\n",
       ".xr-header {\n",
       "  padding-top: 6px;\n",
       "  padding-bottom: 6px;\n",
       "  margin-bottom: 4px;\n",
       "  border-bottom: solid 1px var(--xr-border-color);\n",
       "}\n",
       "\n",
       ".xr-header > div,\n",
       ".xr-header > ul {\n",
       "  display: inline;\n",
       "  margin-top: 0;\n",
       "  margin-bottom: 0;\n",
       "}\n",
       "\n",
       ".xr-obj-type,\n",
       ".xr-array-name {\n",
       "  margin-left: 2px;\n",
       "  margin-right: 10px;\n",
       "}\n",
       "\n",
       ".xr-obj-type {\n",
       "  color: var(--xr-font-color2);\n",
       "}\n",
       "\n",
       ".xr-sections {\n",
       "  padding-left: 0 !important;\n",
       "  display: grid;\n",
       "  grid-template-columns: 150px auto auto 1fr 20px 20px;\n",
       "}\n",
       "\n",
       ".xr-section-item {\n",
       "  display: contents;\n",
       "}\n",
       "\n",
       ".xr-section-item input {\n",
       "  display: none;\n",
       "}\n",
       "\n",
       ".xr-section-item input + label {\n",
       "  color: var(--xr-disabled-color);\n",
       "}\n",
       "\n",
       ".xr-section-item input:enabled + label {\n",
       "  cursor: pointer;\n",
       "  color: var(--xr-font-color2);\n",
       "}\n",
       "\n",
       ".xr-section-item input:enabled + label:hover {\n",
       "  color: var(--xr-font-color0);\n",
       "}\n",
       "\n",
       ".xr-section-summary {\n",
       "  grid-column: 1;\n",
       "  color: var(--xr-font-color2);\n",
       "  font-weight: 500;\n",
       "}\n",
       "\n",
       ".xr-section-summary > span {\n",
       "  display: inline-block;\n",
       "  padding-left: 0.5em;\n",
       "}\n",
       "\n",
       ".xr-section-summary-in:disabled + label {\n",
       "  color: var(--xr-font-color2);\n",
       "}\n",
       "\n",
       ".xr-section-summary-in + label:before {\n",
       "  display: inline-block;\n",
       "  content: '►';\n",
       "  font-size: 11px;\n",
       "  width: 15px;\n",
       "  text-align: center;\n",
       "}\n",
       "\n",
       ".xr-section-summary-in:disabled + label:before {\n",
       "  color: var(--xr-disabled-color);\n",
       "}\n",
       "\n",
       ".xr-section-summary-in:checked + label:before {\n",
       "  content: '▼';\n",
       "}\n",
       "\n",
       ".xr-section-summary-in:checked + label > span {\n",
       "  display: none;\n",
       "}\n",
       "\n",
       ".xr-section-summary,\n",
       ".xr-section-inline-details {\n",
       "  padding-top: 4px;\n",
       "  padding-bottom: 4px;\n",
       "}\n",
       "\n",
       ".xr-section-inline-details {\n",
       "  grid-column: 2 / -1;\n",
       "}\n",
       "\n",
       ".xr-section-details {\n",
       "  display: none;\n",
       "  grid-column: 1 / -1;\n",
       "  margin-bottom: 5px;\n",
       "}\n",
       "\n",
       ".xr-section-summary-in:checked ~ .xr-section-details {\n",
       "  display: contents;\n",
       "}\n",
       "\n",
       ".xr-array-wrap {\n",
       "  grid-column: 1 / -1;\n",
       "  display: grid;\n",
       "  grid-template-columns: 20px auto;\n",
       "}\n",
       "\n",
       ".xr-array-wrap > label {\n",
       "  grid-column: 1;\n",
       "  vertical-align: top;\n",
       "}\n",
       "\n",
       ".xr-preview {\n",
       "  color: var(--xr-font-color3);\n",
       "}\n",
       "\n",
       ".xr-array-preview,\n",
       ".xr-array-data {\n",
       "  padding: 0 5px !important;\n",
       "  grid-column: 2;\n",
       "}\n",
       "\n",
       ".xr-array-data,\n",
       ".xr-array-in:checked ~ .xr-array-preview {\n",
       "  display: none;\n",
       "}\n",
       "\n",
       ".xr-array-in:checked ~ .xr-array-data,\n",
       ".xr-array-preview {\n",
       "  display: inline-block;\n",
       "}\n",
       "\n",
       ".xr-dim-list {\n",
       "  display: inline-block !important;\n",
       "  list-style: none;\n",
       "  padding: 0 !important;\n",
       "  margin: 0;\n",
       "}\n",
       "\n",
       ".xr-dim-list li {\n",
       "  display: inline-block;\n",
       "  padding: 0;\n",
       "  margin: 0;\n",
       "}\n",
       "\n",
       ".xr-dim-list:before {\n",
       "  content: '(';\n",
       "}\n",
       "\n",
       ".xr-dim-list:after {\n",
       "  content: ')';\n",
       "}\n",
       "\n",
       ".xr-dim-list li:not(:last-child):after {\n",
       "  content: ',';\n",
       "  padding-right: 5px;\n",
       "}\n",
       "\n",
       ".xr-has-index {\n",
       "  font-weight: bold;\n",
       "}\n",
       "\n",
       ".xr-var-list,\n",
       ".xr-var-item {\n",
       "  display: contents;\n",
       "}\n",
       "\n",
       ".xr-var-item > div,\n",
       ".xr-var-item label,\n",
       ".xr-var-item > .xr-var-name span {\n",
       "  background-color: var(--xr-background-color-row-even);\n",
       "  margin-bottom: 0;\n",
       "}\n",
       "\n",
       ".xr-var-item > .xr-var-name:hover span {\n",
       "  padding-right: 5px;\n",
       "}\n",
       "\n",
       ".xr-var-list > li:nth-child(odd) > div,\n",
       ".xr-var-list > li:nth-child(odd) > label,\n",
       ".xr-var-list > li:nth-child(odd) > .xr-var-name span {\n",
       "  background-color: var(--xr-background-color-row-odd);\n",
       "}\n",
       "\n",
       ".xr-var-name {\n",
       "  grid-column: 1;\n",
       "}\n",
       "\n",
       ".xr-var-dims {\n",
       "  grid-column: 2;\n",
       "}\n",
       "\n",
       ".xr-var-dtype {\n",
       "  grid-column: 3;\n",
       "  text-align: right;\n",
       "  color: var(--xr-font-color2);\n",
       "}\n",
       "\n",
       ".xr-var-preview {\n",
       "  grid-column: 4;\n",
       "}\n",
       "\n",
       ".xr-var-name,\n",
       ".xr-var-dims,\n",
       ".xr-var-dtype,\n",
       ".xr-preview,\n",
       ".xr-attrs dt {\n",
       "  white-space: nowrap;\n",
       "  overflow: hidden;\n",
       "  text-overflow: ellipsis;\n",
       "  padding-right: 10px;\n",
       "}\n",
       "\n",
       ".xr-var-name:hover,\n",
       ".xr-var-dims:hover,\n",
       ".xr-var-dtype:hover,\n",
       ".xr-attrs dt:hover {\n",
       "  overflow: visible;\n",
       "  width: auto;\n",
       "  z-index: 1;\n",
       "}\n",
       "\n",
       ".xr-var-attrs,\n",
       ".xr-var-data {\n",
       "  display: none;\n",
       "  background-color: var(--xr-background-color) !important;\n",
       "  padding-bottom: 5px !important;\n",
       "}\n",
       "\n",
       ".xr-var-attrs-in:checked ~ .xr-var-attrs,\n",
       ".xr-var-data-in:checked ~ .xr-var-data {\n",
       "  display: block;\n",
       "}\n",
       "\n",
       ".xr-var-data > table {\n",
       "  float: right;\n",
       "}\n",
       "\n",
       ".xr-var-name span,\n",
       ".xr-var-data,\n",
       ".xr-attrs {\n",
       "  padding-left: 25px !important;\n",
       "}\n",
       "\n",
       ".xr-attrs,\n",
       ".xr-var-attrs,\n",
       ".xr-var-data {\n",
       "  grid-column: 1 / -1;\n",
       "}\n",
       "\n",
       "dl.xr-attrs {\n",
       "  padding: 0;\n",
       "  margin: 0;\n",
       "  display: grid;\n",
       "  grid-template-columns: 125px auto;\n",
       "}\n",
       "\n",
       ".xr-attrs dt, dd {\n",
       "  padding: 0;\n",
       "  margin: 0;\n",
       "  float: left;\n",
       "  padding-right: 10px;\n",
       "  width: auto;\n",
       "}\n",
       "\n",
       ".xr-attrs dt {\n",
       "  font-weight: normal;\n",
       "  grid-column: 1;\n",
       "}\n",
       "\n",
       ".xr-attrs dt:hover span {\n",
       "  display: inline-block;\n",
       "  background: var(--xr-background-color);\n",
       "  padding-right: 10px;\n",
       "}\n",
       "\n",
       ".xr-attrs dd {\n",
       "  grid-column: 2;\n",
       "  white-space: pre-wrap;\n",
       "  word-break: break-all;\n",
       "}\n",
       "\n",
       ".xr-icon-database,\n",
       ".xr-icon-file-text2 {\n",
       "  display: inline-block;\n",
       "  vertical-align: middle;\n",
       "  width: 1em;\n",
       "  height: 1.5em !important;\n",
       "  stroke-width: 0;\n",
       "  stroke: currentColor;\n",
       "  fill: currentColor;\n",
       "}\n",
       "</style><pre class='xr-text-repr-fallback'>&lt;xarray.Dataset&gt;\n",
       "Dimensions:     (saa: 1, sza: 1, vaa: 36, vza: 9, wavelength: 1)\n",
       "Coordinates:\n",
       "  * sza         (sza) float64 30.0\n",
       "  * saa         (saa) float64 0.0\n",
       "  * vza         (vza) float64 0.0 10.0 20.0 30.0 40.0 50.0 60.0 70.0 80.0\n",
       "  * vaa         (vaa) float64 0.0 10.0 20.0 30.0 ... 320.0 330.0 340.0 350.0\n",
       "  * wavelength  (wavelength) float64 550.0\n",
       "Data variables:\n",
       "    lo          (sza, saa, vza, vaa, wavelength) float64 2.674e+05 ... 3.055e+05\n",
       "    irradiance  (sza, saa, wavelength) float64 1.559e+06\n",
       "    brdf        (sza, saa, vza, vaa, wavelength) float64 0.1715 0.1707 ... 0.196\n",
       "    brf         (sza, saa, vza, vaa, wavelength) float64 0.5389 ... 0.6157\n",
       "Attributes:\n",
       "    convention:  CF-1.8\n",
       "    title:       Top-of-atmosphere simulation results\n",
       "    history:     2020-12-09 16:12:59 - data creation - eradiate.solvers.onedi...\n",
       "    source:      eradiate, version 0.0.1\n",
       "    references:  </pre><div class='xr-wrap' hidden><div class='xr-header'><div class='xr-obj-type'>xarray.Dataset</div></div><ul class='xr-sections'><li class='xr-section-item'><input id='section-3ad6884b-a70c-4183-b113-cb1dbe54560c' class='xr-section-summary-in' type='checkbox' disabled ><label for='section-3ad6884b-a70c-4183-b113-cb1dbe54560c' class='xr-section-summary'  title='Expand/collapse section'>Dimensions:</label><div class='xr-section-inline-details'><ul class='xr-dim-list'><li><span class='xr-has-index'>saa</span>: 1</li><li><span class='xr-has-index'>sza</span>: 1</li><li><span class='xr-has-index'>vaa</span>: 36</li><li><span class='xr-has-index'>vza</span>: 9</li><li><span class='xr-has-index'>wavelength</span>: 1</li></ul></div><div class='xr-section-details'></div></li><li class='xr-section-item'><input id='section-8e91113e-23ed-435e-8239-b06f5a64a78c' class='xr-section-summary-in' type='checkbox'  checked><label for='section-8e91113e-23ed-435e-8239-b06f5a64a78c' class='xr-section-summary' >Coordinates: <span>(5)</span></label><div class='xr-section-inline-details'></div><div class='xr-section-details'><ul class='xr-var-list'><li class='xr-var-item'><div class='xr-var-name'><span class='xr-has-index'>sza</span></div><div class='xr-var-dims'>(sza)</div><div class='xr-var-dtype'>float64</div><div class='xr-var-preview xr-preview'>30.0</div><input id='attrs-3b08d42f-8218-4542-bc72-6ec069cb9348' class='xr-var-attrs-in' type='checkbox' ><label for='attrs-3b08d42f-8218-4542-bc72-6ec069cb9348' title='Show/Hide attributes'><svg class='icon xr-icon-file-text2'><use xlink:href='#icon-file-text2'></use></svg></label><input id='data-6d3cc7fa-1b2d-433b-ac66-010ce50b2a70' class='xr-var-data-in' type='checkbox'><label for='data-6d3cc7fa-1b2d-433b-ac66-010ce50b2a70' title='Show/Hide data repr'><svg class='icon xr-icon-database'><use xlink:href='#icon-database'></use></svg></label><div class='xr-var-attrs'><dl class='xr-attrs'><dt><span>standard_name :</span></dt><dd>solar_zenith_angle</dd><dt><span>long_name :</span></dt><dd>solar zenith angle</dd><dt><span>units :</span></dt><dd>deg</dd></dl></div><div class='xr-var-data'><pre>array([30.])</pre></div></li><li class='xr-var-item'><div class='xr-var-name'><span class='xr-has-index'>saa</span></div><div class='xr-var-dims'>(saa)</div><div class='xr-var-dtype'>float64</div><div class='xr-var-preview xr-preview'>0.0</div><input id='attrs-c3511f29-e4db-43df-ae5d-3e982e9985aa' class='xr-var-attrs-in' type='checkbox' ><label for='attrs-c3511f29-e4db-43df-ae5d-3e982e9985aa' title='Show/Hide attributes'><svg class='icon xr-icon-file-text2'><use xlink:href='#icon-file-text2'></use></svg></label><input id='data-33f838d3-a699-4b45-aedc-ace0f56daadd' class='xr-var-data-in' type='checkbox'><label for='data-33f838d3-a699-4b45-aedc-ace0f56daadd' title='Show/Hide data repr'><svg class='icon xr-icon-database'><use xlink:href='#icon-database'></use></svg></label><div class='xr-var-attrs'><dl class='xr-attrs'><dt><span>standard_name :</span></dt><dd>solar_azimuth_angle</dd><dt><span>long_name :</span></dt><dd>solar azimuth angle</dd><dt><span>units :</span></dt><dd>deg</dd></dl></div><div class='xr-var-data'><pre>array([0.])</pre></div></li><li class='xr-var-item'><div class='xr-var-name'><span class='xr-has-index'>vza</span></div><div class='xr-var-dims'>(vza)</div><div class='xr-var-dtype'>float64</div><div class='xr-var-preview xr-preview'>0.0 10.0 20.0 ... 60.0 70.0 80.0</div><input id='attrs-b17fc13d-6bf4-450a-bc5a-dfbc0d43cb1b' class='xr-var-attrs-in' type='checkbox' ><label for='attrs-b17fc13d-6bf4-450a-bc5a-dfbc0d43cb1b' title='Show/Hide attributes'><svg class='icon xr-icon-file-text2'><use xlink:href='#icon-file-text2'></use></svg></label><input id='data-d4f29ab4-5d14-4690-95b9-d591ca2246a8' class='xr-var-data-in' type='checkbox'><label for='data-d4f29ab4-5d14-4690-95b9-d591ca2246a8' title='Show/Hide data repr'><svg class='icon xr-icon-database'><use xlink:href='#icon-database'></use></svg></label><div class='xr-var-attrs'><dl class='xr-attrs'><dt><span>standard_name :</span></dt><dd>sensor_zenith_angle</dd><dt><span>long_name :</span></dt><dd>sensor zenith angle</dd><dt><span>units :</span></dt><dd>deg</dd></dl></div><div class='xr-var-data'><pre>array([ 0., 10., 20., 30., 40., 50., 60., 70., 80.])</pre></div></li><li class='xr-var-item'><div class='xr-var-name'><span class='xr-has-index'>vaa</span></div><div class='xr-var-dims'>(vaa)</div><div class='xr-var-dtype'>float64</div><div class='xr-var-preview xr-preview'>0.0 10.0 20.0 ... 330.0 340.0 350.0</div><input id='attrs-32dd8368-ccca-4cea-b2cd-825a93921296' class='xr-var-attrs-in' type='checkbox' ><label for='attrs-32dd8368-ccca-4cea-b2cd-825a93921296' title='Show/Hide attributes'><svg class='icon xr-icon-file-text2'><use xlink:href='#icon-file-text2'></use></svg></label><input id='data-5d042266-a86b-4269-bf04-5002e0efeab5' class='xr-var-data-in' type='checkbox'><label for='data-5d042266-a86b-4269-bf04-5002e0efeab5' title='Show/Hide data repr'><svg class='icon xr-icon-database'><use xlink:href='#icon-database'></use></svg></label><div class='xr-var-attrs'><dl class='xr-attrs'><dt><span>standard_name :</span></dt><dd>sensor_azimuth_angle</dd><dt><span>long_name :</span></dt><dd>sensor azimuth angle</dd><dt><span>units :</span></dt><dd>deg</dd></dl></div><div class='xr-var-data'><pre>array([  0.,  10.,  20.,  30.,  40.,  50.,  60.,  70.,  80.,  90., 100., 110.,\n",
       "       120., 130., 140., 150., 160., 170., 180., 190., 200., 210., 220., 230.,\n",
       "       240., 250., 260., 270., 280., 290., 300., 310., 320., 330., 340., 350.])</pre></div></li><li class='xr-var-item'><div class='xr-var-name'><span class='xr-has-index'>wavelength</span></div><div class='xr-var-dims'>(wavelength)</div><div class='xr-var-dtype'>float64</div><div class='xr-var-preview xr-preview'>550.0</div><input id='attrs-f151c5f8-e6e5-4672-8a05-ac0db33a8045' class='xr-var-attrs-in' type='checkbox' ><label for='attrs-f151c5f8-e6e5-4672-8a05-ac0db33a8045' title='Show/Hide attributes'><svg class='icon xr-icon-file-text2'><use xlink:href='#icon-file-text2'></use></svg></label><input id='data-269fec4b-2d67-4a41-baeb-79845864cf26' class='xr-var-data-in' type='checkbox'><label for='data-269fec4b-2d67-4a41-baeb-79845864cf26' title='Show/Hide data repr'><svg class='icon xr-icon-database'><use xlink:href='#icon-database'></use></svg></label><div class='xr-var-attrs'><dl class='xr-attrs'><dt><span>standard_name :</span></dt><dd>wavelength</dd><dt><span>long_name :</span></dt><dd>wavelength</dd><dt><span>units :</span></dt><dd>nm</dd></dl></div><div class='xr-var-data'><pre>array([550.])</pre></div></li></ul></div></li><li class='xr-section-item'><input id='section-4119f777-eb99-45a7-9395-c3db732e3738' class='xr-section-summary-in' type='checkbox'  checked><label for='section-4119f777-eb99-45a7-9395-c3db732e3738' class='xr-section-summary' >Data variables: <span>(4)</span></label><div class='xr-section-inline-details'></div><div class='xr-section-details'><ul class='xr-var-list'><li class='xr-var-item'><div class='xr-var-name'><span>lo</span></div><div class='xr-var-dims'>(sza, saa, vza, vaa, wavelength)</div><div class='xr-var-dtype'>float64</div><div class='xr-var-preview xr-preview'>2.674e+05 2.661e+05 ... 3.055e+05</div><input id='attrs-1b10c1de-2691-42c7-9d43-a3a9eb851753' class='xr-var-attrs-in' type='checkbox' ><label for='attrs-1b10c1de-2691-42c7-9d43-a3a9eb851753' title='Show/Hide attributes'><svg class='icon xr-icon-file-text2'><use xlink:href='#icon-file-text2'></use></svg></label><input id='data-5a1dbfc9-366b-42c1-8cfa-f73e4f1554f2' class='xr-var-data-in' type='checkbox'><label for='data-5a1dbfc9-366b-42c1-8cfa-f73e4f1554f2' title='Show/Hide data repr'><svg class='icon xr-icon-database'><use xlink:href='#icon-database'></use></svg></label><div class='xr-var-attrs'><dl class='xr-attrs'><dt><span>standard_name :</span></dt><dd>toa_outgoing_radiance_per_unit_wavelength</dd><dt><span>long_name :</span></dt><dd>top-of-atmosphere outgoing spectral radiance</dd><dt><span>units :</span></dt><dd>W/km^2/sr/nm</dd></dl></div><div class='xr-var-data'><pre>array([[[[[267376.3125  ],\n",
       "          [266145.125   ],\n",
       "          [266425.59375 ],\n",
       "          [265732.03125 ],\n",
       "          [264182.875   ],\n",
       "          [267234.90625 ],\n",
       "          [265734.65625 ],\n",
       "          [267176.0625  ],\n",
       "          [264281.34375 ],\n",
       "          [265442.59375 ],\n",
       "          [266098.875   ],\n",
       "          [265647.34375 ],\n",
       "          [267267.40625 ],\n",
       "          [265566.96875 ],\n",
       "          [264314.9375  ],\n",
       "          [265641.90625 ],\n",
       "          [266513.375   ],\n",
       "          [265630.3125  ],\n",
       "          [265607.      ],\n",
       "          [266839.84375 ],\n",
       "...\n",
       "          [276496.96875 ],\n",
       "          [279423.0625  ],\n",
       "          [278441.96875 ],\n",
       "          [279810.90625 ],\n",
       "          [276770.625   ],\n",
       "          [275398.09375 ],\n",
       "          [271761.03125 ],\n",
       "          [272274.625   ],\n",
       "          [270192.8125  ],\n",
       "          [267419.28125 ],\n",
       "          [266344.28125 ],\n",
       "          [269795.03125 ],\n",
       "          [272356.03125 ],\n",
       "          [276545.09375 ],\n",
       "          [281173.71875 ],\n",
       "          [284889.375   ],\n",
       "          [292217.28125 ],\n",
       "          [297904.125   ],\n",
       "          [300130.59375 ],\n",
       "          [305483.25    ]]]]])</pre></div></li><li class='xr-var-item'><div class='xr-var-name'><span>irradiance</span></div><div class='xr-var-dims'>(sza, saa, wavelength)</div><div class='xr-var-dtype'>float64</div><div class='xr-var-preview xr-preview'>1.559e+06</div><input id='attrs-ef7cd130-1d3a-49bc-9a2c-5202248342cc' class='xr-var-attrs-in' type='checkbox' ><label for='attrs-ef7cd130-1d3a-49bc-9a2c-5202248342cc' title='Show/Hide attributes'><svg class='icon xr-icon-file-text2'><use xlink:href='#icon-file-text2'></use></svg></label><input id='data-7dcfbd28-4a9e-4530-b3d3-22363d72ac17' class='xr-var-data-in' type='checkbox'><label for='data-7dcfbd28-4a9e-4530-b3d3-22363d72ac17' title='Show/Hide data repr'><svg class='icon xr-icon-database'><use xlink:href='#icon-database'></use></svg></label><div class='xr-var-attrs'><dl class='xr-attrs'><dt><span>standard_name :</span></dt><dd>toa_horizontal_solar_irradiance_per_unit_wavelength</dd><dt><span>long_name :</span></dt><dd>top-of-atmosphere horizontal spectral irradiance</dd><dt><span>units :</span></dt><dd>W/km^2/nm</dd></dl></div><div class='xr-var-data'><pre>array([[[1558845.72681199]]])</pre></div></li><li class='xr-var-item'><div class='xr-var-name'><span>brdf</span></div><div class='xr-var-dims'>(sza, saa, vza, vaa, wavelength)</div><div class='xr-var-dtype'>float64</div><div class='xr-var-preview xr-preview'>0.1715 0.1707 ... 0.1925 0.196</div><input id='attrs-c67fced5-bac1-4217-aa2b-9b3d86396554' class='xr-var-attrs-in' type='checkbox' ><label for='attrs-c67fced5-bac1-4217-aa2b-9b3d86396554' title='Show/Hide attributes'><svg class='icon xr-icon-file-text2'><use xlink:href='#icon-file-text2'></use></svg></label><input id='data-8d261e5d-d221-4093-89e3-f10873dd3853' class='xr-var-data-in' type='checkbox'><label for='data-8d261e5d-d221-4093-89e3-f10873dd3853' title='Show/Hide data repr'><svg class='icon xr-icon-database'><use xlink:href='#icon-database'></use></svg></label><div class='xr-var-attrs'><dl class='xr-attrs'><dt><span>standard_name :</span></dt><dd>toa_brdf</dd><dt><span>long_name :</span></dt><dd>top-of-atmosphere bi-directional reflection distribution function</dd><dt><span>units :</span></dt><dd>1/sr</dd></dl></div><div class='xr-var-data'><pre>array([[[[[0.17152198],\n",
       "          [0.17073218],\n",
       "          [0.1709121 ],\n",
       "          [0.17046718],\n",
       "          [0.16947339],\n",
       "          [0.17143127],\n",
       "          [0.17046886],\n",
       "          [0.17139352],\n",
       "          [0.16953656],\n",
       "          [0.1702815 ],\n",
       "          [0.17070251],\n",
       "          [0.17041285],\n",
       "          [0.17145212],\n",
       "          [0.17036129],\n",
       "          [0.16955811],\n",
       "          [0.17040936],\n",
       "          [0.17096841],\n",
       "          [0.17040192],\n",
       "          [0.17038697],\n",
       "          [0.17117784],\n",
       "...\n",
       "          [0.17737289],\n",
       "          [0.17924998],\n",
       "          [0.17862061],\n",
       "          [0.17949878],\n",
       "          [0.17754844],\n",
       "          [0.17666796],\n",
       "          [0.17433478],\n",
       "          [0.17466425],\n",
       "          [0.17332877],\n",
       "          [0.17154955],\n",
       "          [0.17085994],\n",
       "          [0.17307359],\n",
       "          [0.17471648],\n",
       "          [0.17740376],\n",
       "          [0.18037302],\n",
       "          [0.18275662],\n",
       "          [0.18745747],\n",
       "          [0.19110559],\n",
       "          [0.19253387],\n",
       "          [0.1959676 ]]]]])</pre></div></li><li class='xr-var-item'><div class='xr-var-name'><span>brf</span></div><div class='xr-var-dims'>(sza, saa, vza, vaa, wavelength)</div><div class='xr-var-dtype'>float64</div><div class='xr-var-preview xr-preview'>0.5389 0.5364 ... 0.6049 0.6157</div><input id='attrs-05cd419c-63bf-4b7e-b59c-6e445c1507d7' class='xr-var-attrs-in' type='checkbox' ><label for='attrs-05cd419c-63bf-4b7e-b59c-6e445c1507d7' title='Show/Hide attributes'><svg class='icon xr-icon-file-text2'><use xlink:href='#icon-file-text2'></use></svg></label><input id='data-3d8ee7ab-36ab-43b2-8c76-97836a5fddc8' class='xr-var-data-in' type='checkbox'><label for='data-3d8ee7ab-36ab-43b2-8c76-97836a5fddc8' title='Show/Hide data repr'><svg class='icon xr-icon-database'><use xlink:href='#icon-database'></use></svg></label><div class='xr-var-attrs'><dl class='xr-attrs'><dt><span>standard_name :</span></dt><dd>toa_brf</dd><dt><span>long_name :</span></dt><dd>top-of-atmosphere bi-directional reflectance factor</dd><dt><span>units :</span></dt><dd>dimensionless</dd></dl></div><div class='xr-var-data'><pre>array([[[[[0.53885221],\n",
       "          [0.53637095],\n",
       "          [0.53693619],\n",
       "          [0.53553843],\n",
       "          [0.53241637],\n",
       "          [0.53856723],\n",
       "          [0.53554372],\n",
       "          [0.53844864],\n",
       "          [0.53261481],\n",
       "          [0.53495512],\n",
       "          [0.53627774],\n",
       "          [0.53536776],\n",
       "          [0.53863272],\n",
       "          [0.53520578],\n",
       "          [0.53268252],\n",
       "          [0.5353568 ],\n",
       "          [0.5371131 ],\n",
       "          [0.53533344],\n",
       "          [0.53528645],\n",
       "          [0.53777104],\n",
       "...\n",
       "          [0.55723336],\n",
       "          [0.56313041],\n",
       "          [0.56115318],\n",
       "          [0.56391205],\n",
       "          [0.55778487],\n",
       "          [0.55501876],\n",
       "          [0.54768887],\n",
       "          [0.54872394],\n",
       "          [0.54452839],\n",
       "          [0.5389388 ],\n",
       "          [0.53677232],\n",
       "          [0.54372673],\n",
       "          [0.548888  ],\n",
       "          [0.55733035],\n",
       "          [0.56665857],\n",
       "          [0.57414685],\n",
       "          [0.58891502],\n",
       "          [0.6003759 ],\n",
       "          [0.60486298],\n",
       "          [0.61565036]]]]])</pre></div></li></ul></div></li><li class='xr-section-item'><input id='section-255f2652-2fbe-43ce-8de9-7a5bdb7d79b6' class='xr-section-summary-in' type='checkbox'  checked><label for='section-255f2652-2fbe-43ce-8de9-7a5bdb7d79b6' class='xr-section-summary' >Attributes: <span>(5)</span></label><div class='xr-section-inline-details'></div><div class='xr-section-details'><dl class='xr-attrs'><dt><span>convention :</span></dt><dd>CF-1.8</dd><dt><span>title :</span></dt><dd>Top-of-atmosphere simulation results</dd><dt><span>history :</span></dt><dd>2020-12-09 16:12:59 - data creation - eradiate.solvers.onedim.app.OneDimeSolverApp.run</dd><dt><span>source :</span></dt><dd>eradiate, version 0.0.1</dd><dt><span>references :</span></dt><dd></dd></dl></div></li></ul></div></div>"
      ],
      "text/plain": [
       "<xarray.Dataset>\n",
       "Dimensions:     (saa: 1, sza: 1, vaa: 36, vza: 9, wavelength: 1)\n",
       "Coordinates:\n",
       "  * sza         (sza) float64 30.0\n",
       "  * saa         (saa) float64 0.0\n",
       "  * vza         (vza) float64 0.0 10.0 20.0 30.0 40.0 50.0 60.0 70.0 80.0\n",
       "  * vaa         (vaa) float64 0.0 10.0 20.0 30.0 ... 320.0 330.0 340.0 350.0\n",
       "  * wavelength  (wavelength) float64 550.0\n",
       "Data variables:\n",
       "    lo          (sza, saa, vza, vaa, wavelength) float64 2.674e+05 ... 3.055e+05\n",
       "    irradiance  (sza, saa, wavelength) float64 1.559e+06\n",
       "    brdf        (sza, saa, vza, vaa, wavelength) float64 0.1715 0.1707 ... 0.196\n",
       "    brf         (sza, saa, vza, vaa, wavelength) float64 0.5389 ... 0.6157\n",
       "Attributes:\n",
       "    convention:  CF-1.8\n",
       "    title:       Top-of-atmosphere simulation results\n",
       "    history:     2020-12-09 16:12:59 - data creation - eradiate.solvers.onedi...\n",
       "    source:      eradiate, version 0.0.1\n",
       "    references:  "
      ]
     },
     "execution_count": 1,
     "metadata": {},
     "output_type": "execute_result"
    }
   ],
   "source": [
    "ds = solver.results[\"toa_hsphere\"]\n",
    "ds"
   ]
  },
  {
   "cell_type": "markdown",
   "metadata": {},
   "source": [
    "The usual xarray writing facilities can be used to save the results to a netCDF file:"
   ]
  },
  {
   "cell_type": "code",
   "execution_count": 10,
   "metadata": {
    "execution": {
     "iopub.execute_input": "2020-12-09T15:12:59.405163Z",
     "iopub.status.busy": "2020-12-09T15:12:59.404598Z",
     "iopub.status.idle": "2020-12-09T15:12:59.424714Z",
     "shell.execute_reply": "2020-12-09T15:12:59.425170Z"
    }
   },
   "outputs": [],
   "source": [
    "ds.to_netcdf(\"ertonedim.nc\")"
   ]
  },
  {
   "cell_type": "markdown",
   "metadata": {},
   "source": [
    "Results can then easily be plotted using Eradiate's matplotlib/xarray-based plotting facilities:"
   ]
  },
  {
   "cell_type": "code",
   "execution_count": 11,
   "metadata": {
    "execution": {
     "iopub.execute_input": "2020-12-09T15:12:59.430093Z",
     "iopub.status.busy": "2020-12-09T15:12:59.429608Z",
     "iopub.status.idle": "2020-12-09T15:13:00.132849Z",
     "shell.execute_reply": "2020-12-09T15:13:00.133970Z"
    }
   },
   "outputs": [
    {
     "data": {
      "image/jpeg": "[encoded data removed]",
      "image/png": "[encoded data removed]",
      "text/plain": [
       "<Figure size 512x384 with 2 Axes>"
      ]
     },
     "metadata": {},
     "output_type": "display_data"
    }
   ],
   "source": [
    "import matplotlib.pyplot as plt\n",
    "import eradiate.util.plot as ertplt\n",
    "\n",
    "fig = plt.gcf()\n",
    "ds.brf.squeeze().ert.plot_pcolormesh_polar()\n",
    "ertplt.remove_xylabels()\n",
    "plt.show()"
   ]
  },
  {
   "cell_type": "markdown",
   "metadata": {},
   "source": [
    "The figure can be saved using the usual matplotlib pattern:"
   ]
  },
  {
   "cell_type": "code",
   "execution_count": 12,
   "metadata": {
    "execution": {
     "iopub.execute_input": "2020-12-09T15:13:00.143466Z",
     "iopub.status.busy": "2020-12-09T15:13:00.142589Z",
     "iopub.status.idle": "2020-12-09T15:13:00.270306Z",
     "shell.execute_reply": "2020-12-09T15:13:00.270967Z"
    }
   },
   "outputs": [],
   "source": [
    "fig.savefig(\"ertonedim_toa_brf.png\")\n",
    "plt.close()"
   ]
  },
  {
   "cell_type": "markdown",
   "metadata": {},
   "source": [
    "From there, any post-processing or customised plotting can happen."
   ]
  },
  {
   "cell_type": "markdown",
   "metadata": {},
   "source": [
    "We finish this sequence with a quick cleanup:"
   ]
  },
  {
   "cell_type": "code",
   "execution_count": 13,
   "metadata": {
    "execution": {
     "iopub.execute_input": "2020-12-09T15:13:00.277180Z",
     "iopub.status.busy": "2020-12-09T15:13:00.276702Z",
     "iopub.status.idle": "2020-12-09T15:13:00.515722Z",
     "shell.execute_reply": "2020-12-09T15:13:00.516182Z"
    }
   },
   "outputs": [],
   "source": [
    "%rm ertonedim*.png\n",
    "%rm ertonedim*.nc"
   ]
  },
  {
   "cell_type": "code",
   "execution_count": null,
   "metadata": {},
   "outputs": [],
   "source": []
  }
 ],
 "metadata": {
  "kernelspec": {
   "display_name": "Python 3",
   "language": "python",
   "name": "python3"
  },
  "language_info": {
   "codemirror_mode": {
    "name": "ipython",
    "version": 3
   },
   "file_extension": ".py",
   "mimetype": "text/x-python",
   "name": "python",
   "nbconvert_exporter": "python",
   "pygments_lexer": "ipython3",
   "version": "3.7.9"
  },
  "widgets": {
   "application/vnd.jupyter.widget-state+json": {
    "state": {
     "0c2679eb60a84af6b4d4f3be5a60a0c0": {
      "model_module": "@jupyter-widgets/base",
      "model_module_version": "1.2.0",
      "model_name": "LayoutModel",
      "state": {
       "_model_module": "@jupyter-widgets/base",
       "_model_module_version": "1.2.0",
       "_model_name": "LayoutModel",
       "_view_count": null,
       "_view_module": "@jupyter-widgets/base",
       "_view_module_version": "1.2.0",
       "_view_name": "LayoutView",
       "align_content": null,
       "align_items": null,
       "align_self": null,
       "border": null,
       "bottom": null,
       "display": null,
       "flex": null,
       "flex_flow": null,
       "grid_area": null,
       "grid_auto_columns": null,
       "grid_auto_flow": null,
       "grid_auto_rows": null,
       "grid_column": null,
       "grid_gap": null,
       "grid_row": null,
       "grid_template_areas": null,
       "grid_template_columns": null,
       "grid_template_rows": null,
       "height": null,
       "justify_content": null,
       "justify_items": null,
       "left": null,
       "margin": null,
       "max_height": null,
       "max_width": null,
       "min_height": null,
       "min_width": null,
       "object_fit": null,
       "object_position": null,
       "order": null,
       "overflow": null,
       "overflow_x": null,
       "overflow_y": null,
       "padding": null,
       "right": null,
       "top": null,
       "visibility": null,
       "width": null
      }
     },
     "353fe526f9ca40289d5a070577a874da": {
      "model_module": "@jupyter-widgets/controls",
      "model_module_version": "1.5.0",
      "model_name": "VBoxModel",
      "state": {
       "_dom_classes": [],
       "_model_module": "@jupyter-widgets/controls",
       "_model_module_version": "1.5.0",
       "_model_name": "VBoxModel",
       "_view_count": null,
       "_view_module": "@jupyter-widgets/controls",
       "_view_module_version": "1.5.0",
       "_view_name": "VBoxView",
       "box_style": "",
       "children": [
        "IPY_MODEL_98077d6673a44a92a2ab652b067f1d47",
        "IPY_MODEL_3f665237a24e468c91717c64f769a186"
       ],
       "layout": "IPY_MODEL_0c2679eb60a84af6b4d4f3be5a60a0c0"
      }
     },
     "3f665237a24e468c91717c64f769a186": {
      "model_module": "@jupyter-widgets/controls",
      "model_module_version": "1.5.0",
      "model_name": "FloatProgressModel",
      "state": {
       "_dom_classes": [],
       "_model_module": "@jupyter-widgets/controls",
       "_model_module_version": "1.5.0",
       "_model_name": "FloatProgressModel",
       "_view_count": null,
       "_view_module": "@jupyter-widgets/controls",
       "_view_module_version": "1.5.0",
       "_view_name": "ProgressView",
       "bar_style": "success",
       "description": "",
       "description_tooltip": null,
       "layout": "IPY_MODEL_ce761d52e2054422acd12a73c0260a7b",
       "max": 1.0,
       "min": 0.0,
       "orientation": "horizontal",
       "style": "IPY_MODEL_5f179a519a6a469592df3b38ed8cd658",
       "value": 1.0
      }
     },
     "5f179a519a6a469592df3b38ed8cd658": {
      "model_module": "@jupyter-widgets/controls",
      "model_module_version": "1.5.0",
      "model_name": "ProgressStyleModel",
      "state": {
       "_model_module": "@jupyter-widgets/controls",
       "_model_module_version": "1.5.0",
       "_model_name": "ProgressStyleModel",
       "_view_count": null,
       "_view_module": "@jupyter-widgets/base",
       "_view_module_version": "1.2.0",
       "_view_name": "StyleView",
       "bar_color": null,
       "description_width": ""
      }
     },
     "98077d6673a44a92a2ab652b067f1d47": {
      "model_module": "@jupyter-widgets/controls",
      "model_module_version": "1.5.0",
      "model_name": "HTMLModel",
      "state": {
       "_dom_classes": [],
       "_model_module": "@jupyter-widgets/controls",
       "_model_module_version": "1.5.0",
       "_model_name": "HTMLModel",
       "_view_count": null,
       "_view_module": "@jupyter-widgets/controls",
       "_view_module_version": "1.5.0",
       "_view_name": "HTMLView",
       "description": "",
       "description_tooltip": null,
       "layout": "IPY_MODEL_a5d346d587574ae39a8727fb638dfe5f",
       "placeholder": "​",
       "style": "IPY_MODEL_fd8d2d084fbd4c6c86bcf56594684003",
       "value": "Processing (4.87s, ETA: 0ms)"
      }
     },
     "a5d346d587574ae39a8727fb638dfe5f": {
      "model_module": "@jupyter-widgets/base",
      "model_module_version": "1.2.0",
      "model_name": "LayoutModel",
      "state": {
       "_model_module": "@jupyter-widgets/base",
       "_model_module_version": "1.2.0",
       "_model_name": "LayoutModel",
       "_view_count": null,
       "_view_module": "@jupyter-widgets/base",
       "_view_module_version": "1.2.0",
       "_view_name": "LayoutView",
       "align_content": null,
       "align_items": null,
       "align_self": null,
       "border": null,
       "bottom": null,
       "display": null,
       "flex": null,
       "flex_flow": null,
       "grid_area": null,
       "grid_auto_columns": null,
       "grid_auto_flow": null,
       "grid_auto_rows": null,
       "grid_column": null,
       "grid_gap": null,
       "grid_row": null,
       "grid_template_areas": null,
       "grid_template_columns": null,
       "grid_template_rows": null,
       "height": null,
       "justify_content": null,
       "justify_items": null,
       "left": null,
       "margin": null,
       "max_height": null,
       "max_width": null,
       "min_height": null,
       "min_width": null,
       "object_fit": null,
       "object_position": null,
       "order": null,
       "overflow": null,
       "overflow_x": null,
       "overflow_y": null,
       "padding": null,
       "right": null,
       "top": null,
       "visibility": null,
       "width": null
      }
     },
     "ce761d52e2054422acd12a73c0260a7b": {
      "model_module": "@jupyter-widgets/base",
      "model_module_version": "1.2.0",
      "model_name": "LayoutModel",
      "state": {
       "_model_module": "@jupyter-widgets/base",
       "_model_module_version": "1.2.0",
       "_model_name": "LayoutModel",
       "_view_count": null,
       "_view_module": "@jupyter-widgets/base",
       "_view_module_version": "1.2.0",
       "_view_name": "LayoutView",
       "align_content": null,
       "align_items": null,
       "align_self": null,
       "border": null,
       "bottom": null,
       "display": null,
       "flex": null,
       "flex_flow": null,
       "grid_area": null,
       "grid_auto_columns": null,
       "grid_auto_flow": null,
       "grid_auto_rows": null,
       "grid_column": null,
       "grid_gap": null,
       "grid_row": null,
       "grid_template_areas": null,
       "grid_template_columns": null,
       "grid_template_rows": null,
       "height": null,
       "justify_content": null,
       "justify_items": null,
       "left": null,
       "margin": null,
       "max_height": null,
       "max_width": null,
       "min_height": null,
       "min_width": null,
       "object_fit": null,
       "object_position": null,
       "order": null,
       "overflow": null,
       "overflow_x": null,
       "overflow_y": null,
       "padding": null,
       "right": null,
       "top": null,
       "visibility": null,
       "width": "100%"
      }
     },
     "fd8d2d084fbd4c6c86bcf56594684003": {
      "model_module": "@jupyter-widgets/controls",
      "model_module_version": "1.5.0",
      "model_name": "DescriptionStyleModel",
      "state": {
       "_model_module": "@jupyter-widgets/controls",
       "_model_module_version": "1.5.0",
       "_model_name": "DescriptionStyleModel",
       "_view_count": null,
       "_view_module": "@jupyter-widgets/base",
       "_view_module_version": "1.2.0",
       "_view_name": "StyleView",
       "description_width": ""
      }
     }
    },
    "version_major": 2,
    "version_minor": 0
   }
  }
 },
 "nbformat": 4,
 "nbformat_minor": 4
}
