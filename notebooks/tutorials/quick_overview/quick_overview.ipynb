{
 "cells": [
  {
   "cell_type": "raw",
   "metadata": {
    "raw_mimetype": "text/restructuredtext"
   },
   "source": [
    ".. _tut-quick_overview:"
   ]
  },
  {
   "cell_type": "markdown",
   "metadata": {},
   "source": [
    "# Quick overview\n",
    "\n",
    "This tutorial gives a very quick introduction to Eradiate's main features. We assume here that you have successfully installed the package (see [Getting the code](../../../rst/getting_started/building.rst)). In this guide, we will see:\n",
    "\n",
    "- how to run a simulation using the one-dimensional solver command-line interface;\n",
    "- how to run the same simulation using Eradiate's Python API.\n",
    "\n",
    "It is strongly recommended to execute the Python code presented here in a Jupyter notebook.\n",
    "\n",
    "<div class=\"alert alert-info\">\n",
    "\n",
    "This tutorial is available as a Jupyter notebook in the Eradiate codebase \n",
    "[`$ERADIATE_DIR/resources/data/notebooks/tutorials/quick_overview/quick_overview.ipynb`].\n",
    "\n",
    "</div>\n"
   ]
  },
  {
   "cell_type": "markdown",
   "metadata": {},
   "source": [
    "## Using the command-line\n",
    "\n",
    "A first entry point to Eradiate is the command-line interface to its solvers. They are directly accessible from a terminal, provided that environment variables are set correctly. For this example, we will use the `ertonedim` application, which works on a one-dimensional scene consisting of a flat surface and an atmosphere. We can first call it with its `--help` flag to display the help text:"
   ]
  },
  {
   "cell_type": "code",
   "execution_count": 1,
   "metadata": {
    "execution": {
     "iopub.execute_input": "2020-11-09T17:30:06.781018Z",
     "iopub.status.busy": "2020-11-09T17:30:06.780629Z",
     "iopub.status.idle": "2020-11-09T17:30:08.124209Z",
     "shell.execute_reply": "2020-11-09T17:30:08.122294Z"
    }
   },
   "outputs": [
    {
     "name": "stdout",
     "output_type": "stream",
     "text": [
      "Usage: ertonedim [OPTIONS] CONFIG FNAME_RESULTS FNAME_PLOTS\r\n",
      "\r\n",
      "  A simple command-line interface to the OneDimSolverApp class.\r\n",
      "\r\n",
      "  This tool reads a OneDimSolverApp YAML configuration file located at\r\n",
      "  CONFIG and simulates radiative transfer on it. It stores the results in\r\n",
      "  files named with the prefix FNAME_RESULTS and creates default plots in\r\n",
      "  files named with the prefix FNAME_PLOTS.\r\n",
      "\r\n",
      "Options:\r\n",
      "  --help  Show this message and exit.\r\n"
     ]
    }
   ],
   "source": [
    "!ertonedim --help"
   ]
  },
  {
   "cell_type": "markdown",
   "metadata": {},
   "source": [
    "This application is configured with a file which uses the [YAML format](https://yaml.org/). A sample configuration file [`$ERADIATE/resources/data/notebooks/tutorials/quick_overview/config.yml`] is given with this tutorial. Let's first `cd` to the directory where our tutorial files are located:"
   ]
  },
  {
   "cell_type": "code",
   "execution_count": 2,
   "metadata": {
    "execution": {
     "iopub.execute_input": "2020-11-09T17:30:08.128832Z",
     "iopub.status.busy": "2020-11-09T17:30:08.128387Z",
     "iopub.status.idle": "2020-11-09T17:30:08.130162Z",
     "shell.execute_reply": "2020-11-09T17:30:08.130429Z"
    }
   },
   "outputs": [
    {
     "name": "stdout",
     "output_type": "stream",
     "text": [
      "/home/mopsi/src/rayference/eradiate/resources/data/notebooks/tutorials/quick_overview\n"
     ]
    }
   ],
   "source": [
    "import os\n",
    "%cd {os.environ[\"ERADIATE_DIR\"]}/resources/data/notebooks/tutorials/quick_overview"
   ]
  },
  {
   "cell_type": "markdown",
   "metadata": {},
   "source": [
    "Now we can visualise the configuration file:"
   ]
  },
  {
   "cell_type": "code",
   "execution_count": 3,
   "metadata": {
    "execution": {
     "iopub.execute_input": "2020-11-09T17:30:08.133978Z",
     "iopub.status.busy": "2020-11-09T17:30:08.133608Z",
     "iopub.status.idle": "2020-11-09T17:30:08.247538Z",
     "shell.execute_reply": "2020-11-09T17:30:08.245845Z"
    }
   },
   "outputs": [
    {
     "name": "stdout",
     "output_type": "stream",
     "text": [
      "mode:\r\n",
      "  type: mono\r\n",
      "  wavelength: 550.  # nm\r\n",
      "surface:\r\n",
      "  type: lambertian\r\n",
      "  reflectance: \r\n",
      "      type: uniform\r\n",
      "      value: 0.5  # dimensionless\r\n",
      "atmosphere:\r\n",
      "  type: rayleigh_homogeneous\r\n",
      "  height: 40.  # km\r\n",
      "illumination:\r\n",
      "  type: directional\r\n",
      "  zenith: 30.  # deg\r\n",
      "  azimuth: 0.  # deg\r\n",
      "  irradiance: \r\n",
      "      type: uniform\r\n",
      "      value: 1.8e+6  # W/km^2/nm\r\n",
      "measure:\r\n",
      "  - type: toa_hsphere\r\n",
      "    spp: 32000  # dimensionless\r\n",
      "    zenith_res: 10.  # deg\r\n",
      "    azimuth_res: 10.  # deg\r\n"
     ]
    }
   ],
   "source": [
    "%cat config.yml"
   ]
  },
  {
   "cell_type": "markdown",
   "metadata": {},
   "source": [
    "The file format is described in [One-dimensional solver application](../../../rst/user_guide/onedim_solver_app.rst) guide.\n",
    "\n",
    "In addition, `ertonedim` requires the user to specify output and plot filename prefixes. These can be absolute or relative paths."
   ]
  },
  {
   "cell_type": "code",
   "execution_count": 4,
   "metadata": {
    "execution": {
     "iopub.execute_input": "2020-11-09T17:30:08.262867Z",
     "iopub.status.busy": "2020-11-09T17:30:08.261588Z",
     "iopub.status.idle": "2020-11-09T17:30:15.692914Z",
     "shell.execute_reply": "2020-11-09T17:30:15.692382Z"
    }
   },
   "outputs": [
    {
     "name": "stdout",
     "output_type": "stream",
     "text": [
      "VBox(children=(HTML(value=''), FloatProgress(value=0.0, bar_style='info', layout=Layout(width='100%'), max=1.0)))\r\n",
      "Saving results to ertonedim_toa_hsphere.nc\r\n"
     ]
    }
   ],
   "source": [
    "!ertonedim config.yml ertonedim ertonedim"
   ]
  },
  {
   "cell_type": "markdown",
   "metadata": {},
   "source": [
    "The application saves plots and results to the instructed location. \n",
    "\n",
    "- Results are saved in the netCDF format and can be further processed using your tools of choice. One netCDF file is created for each measure specified in the configuration file.\n",
    "- One plot is generated for each measure specified in the configuration file. Note that Eradiate's applications do not allow for plot customisation; should that be done, the Python API should be preferred."
   ]
  },
  {
   "cell_type": "code",
   "execution_count": 5,
   "metadata": {
    "execution": {
     "iopub.execute_input": "2020-11-09T17:30:15.698261Z",
     "iopub.status.busy": "2020-11-09T17:30:15.697675Z",
     "iopub.status.idle": "2020-11-09T17:30:15.813505Z",
     "shell.execute_reply": "2020-11-09T17:30:15.811865Z"
    }
   },
   "outputs": [
    {
     "name": "stdout",
     "output_type": "stream",
     "text": [
      "config.yml          \u001b[0m\u001b[01;35mertonedim_lo.png\u001b[0m          quick_overview.ipynb\r\n",
      "\u001b[01;35mertonedim_brdf.png\u001b[0m  ertonedim_toa_hsphere.nc\r\n",
      "\u001b[01;35mertonedim_brf.png\u001b[0m   \u001b[01;36mipython_config.py\u001b[0m@\r\n"
     ]
    }
   ],
   "source": [
    "%ls"
   ]
  },
  {
   "cell_type": "markdown",
   "metadata": {},
   "source": [
    "## Using the Python API\n",
    "\n",
    "Eradiate also provides total access to its features through a complete and documented API (see [API reference](../../../rst/api_reference/intro.rst)). The `ertonedim` command-line tool is a thin wrapper around the [OneDimSolverApp](../../../rst/api_reference/generated/eradiate.solvers.onedim.app.OneDimSolverApp.rst) class. We can easily reproduce the previous computation using it.\n",
    "\n",
    "We start by loading our YAML configuration file into a dictionary:"
   ]
  },
  {
   "cell_type": "code",
   "execution_count": 6,
   "metadata": {
    "execution": {
     "iopub.execute_input": "2020-11-09T17:30:15.824768Z",
     "iopub.status.busy": "2020-11-09T17:30:15.823107Z",
     "iopub.status.idle": "2020-11-09T17:30:15.871231Z",
     "shell.execute_reply": "2020-11-09T17:30:15.870793Z"
    }
   },
   "outputs": [
    {
     "data": {
      "text/plain": [
       "{'mode': {'type': 'mono', 'wavelength': 550.0},\n",
       " 'surface': {'type': 'lambertian',\n",
       "  'reflectance': {'type': 'uniform', 'value': 0.5}},\n",
       " 'atmosphere': {'type': 'rayleigh_homogeneous', 'height': 40.0},\n",
       " 'illumination': {'type': 'directional',\n",
       "  'zenith': 30.0,\n",
       "  'azimuth': 0.0,\n",
       "  'irradiance': {'type': 'uniform', 'value': 1800000.0}},\n",
       " 'measure': [{'type': 'toa_hsphere',\n",
       "   'spp': 32000,\n",
       "   'zenith_res': 10.0,\n",
       "   'azimuth_res': 10.0}]}"
      ]
     },
     "execution_count": 1,
     "metadata": {},
     "output_type": "execute_result"
    }
   ],
   "source": [
    "import yaml\n",
    "with open(\"config.yml\") as f:\n",
    "    config = yaml.safe_load(f)\n",
    "config"
   ]
  },
  {
   "cell_type": "markdown",
   "metadata": {},
   "source": [
    "We can see here that the contents of the configuration file are directly translated into a configuration dictionary. This dictionary can be used as the argument of the `OneDimSolverApp` constructor:"
   ]
  },
  {
   "cell_type": "code",
   "execution_count": 7,
   "metadata": {
    "execution": {
     "iopub.execute_input": "2020-11-09T17:30:15.873852Z",
     "iopub.status.busy": "2020-11-09T17:30:15.873492Z",
     "iopub.status.idle": "2020-11-09T17:30:16.726009Z",
     "shell.execute_reply": "2020-11-09T17:30:16.725650Z"
    }
   },
   "outputs": [],
   "source": [
    "from eradiate.solvers.onedim.app import OneDimSolverApp\n",
    "solver = OneDimSolverApp(config)"
   ]
  },
  {
   "cell_type": "markdown",
   "metadata": {},
   "source": [
    "Launching the simulation is then as simple as calling the [OneDimSolverApp.run()](../../../rst/api_reference/generated/eradiate.solvers.onedim.app.OneDimSolverApp.rst#eradiate.solvers.onedim.app.OneDimSolverApp.run) method:"
   ]
  },
  {
   "cell_type": "code",
   "execution_count": 8,
   "metadata": {
    "execution": {
     "iopub.execute_input": "2020-11-09T17:30:16.731704Z",
     "iopub.status.busy": "2020-11-09T17:30:16.731200Z",
     "iopub.status.idle": "2020-11-09T17:30:21.638927Z",
     "shell.execute_reply": "2020-11-09T17:30:21.638578Z"
    }
   },
   "outputs": [
    {
     "data": {
      "application/vnd.jupyter.widget-view+json": {
       "model_id": "a9fd9b887da94c938c1f44f9f3dee88a",
       "version_major": 2,
       "version_minor": 0
      },
      "text/plain": [
       "VBox(children=(HTML(value=''), FloatProgress(value=0.0, bar_style='info', layout=Layout(width='100%'), max=1.0…"
      ]
     },
     "metadata": {},
     "output_type": "display_data"
    }
   ],
   "source": [
    "solver.run()"
   ]
  },
  {
   "cell_type": "markdown",
   "metadata": {},
   "source": [
    "Unlike the command-line interface, a call to `run()` without argument will not create any result or plot files. Instead, results are saved in the solver object's `results` dictionary. In this case, we have a single measure, so `solver.results` contains a single element under the key `\"toa_hsphere\"` which corresponds to the only measure defined in the configuration file. This element is an xarray `Dataset`:"
   ]
  },
  {
   "cell_type": "code",
   "execution_count": 9,
   "metadata": {
    "execution": {
     "iopub.execute_input": "2020-11-09T17:30:21.647105Z",
     "iopub.status.busy": "2020-11-09T17:30:21.644744Z",
     "iopub.status.idle": "2020-11-09T17:30:21.664651Z",
     "shell.execute_reply": "2020-11-09T17:30:21.664357Z"
    }
   },
   "outputs": [
    {
     "data": {
      "text/html": [
       "<div><svg style=\"position: absolute; width: 0; height: 0; overflow: hidden\">\n",
       "<defs>\n",
       "<symbol id=\"icon-database\" viewBox=\"0 0 32 32\">\n",
       "<path d=\"M16 0c-8.837 0-16 2.239-16 5v4c0 2.761 7.163 5 16 5s16-2.239 16-5v-4c0-2.761-7.163-5-16-5z\"></path>\n",
       "<path d=\"M16 17c-8.837 0-16-2.239-16-5v6c0 2.761 7.163 5 16 5s16-2.239 16-5v-6c0 2.761-7.163 5-16 5z\"></path>\n",
       "<path d=\"M16 26c-8.837 0-16-2.239-16-5v6c0 2.761 7.163 5 16 5s16-2.239 16-5v-6c0 2.761-7.163 5-16 5z\"></path>\n",
       "</symbol>\n",
       "<symbol id=\"icon-file-text2\" viewBox=\"0 0 32 32\">\n",
       "<path d=\"M28.681 7.159c-0.694-0.947-1.662-2.053-2.724-3.116s-2.169-2.030-3.116-2.724c-1.612-1.182-2.393-1.319-2.841-1.319h-15.5c-1.378 0-2.5 1.121-2.5 2.5v27c0 1.378 1.122 2.5 2.5 2.5h23c1.378 0 2.5-1.122 2.5-2.5v-19.5c0-0.448-0.137-1.23-1.319-2.841zM24.543 5.457c0.959 0.959 1.712 1.825 2.268 2.543h-4.811v-4.811c0.718 0.556 1.584 1.309 2.543 2.268zM28 29.5c0 0.271-0.229 0.5-0.5 0.5h-23c-0.271 0-0.5-0.229-0.5-0.5v-27c0-0.271 0.229-0.5 0.5-0.5 0 0 15.499-0 15.5 0v7c0 0.552 0.448 1 1 1h7v19.5z\"></path>\n",
       "<path d=\"M23 26h-14c-0.552 0-1-0.448-1-1s0.448-1 1-1h14c0.552 0 1 0.448 1 1s-0.448 1-1 1z\"></path>\n",
       "<path d=\"M23 22h-14c-0.552 0-1-0.448-1-1s0.448-1 1-1h14c0.552 0 1 0.448 1 1s-0.448 1-1 1z\"></path>\n",
       "<path d=\"M23 18h-14c-0.552 0-1-0.448-1-1s0.448-1 1-1h14c0.552 0 1 0.448 1 1s-0.448 1-1 1z\"></path>\n",
       "</symbol>\n",
       "</defs>\n",
       "</svg>\n",
       "<style>/* CSS stylesheet for displaying xarray objects in jupyterlab.\n",
       " *\n",
       " */\n",
       "\n",
       ":root {\n",
       "  --xr-font-color0: var(--jp-content-font-color0, rgba(0, 0, 0, 1));\n",
       "  --xr-font-color2: var(--jp-content-font-color2, rgba(0, 0, 0, 0.54));\n",
       "  --xr-font-color3: var(--jp-content-font-color3, rgba(0, 0, 0, 0.38));\n",
       "  --xr-border-color: var(--jp-border-color2, #e0e0e0);\n",
       "  --xr-disabled-color: var(--jp-layout-color3, #bdbdbd);\n",
       "  --xr-background-color: var(--jp-layout-color0, white);\n",
       "  --xr-background-color-row-even: var(--jp-layout-color1, white);\n",
       "  --xr-background-color-row-odd: var(--jp-layout-color2, #eeeeee);\n",
       "}\n",
       "\n",
       "html[theme=dark],\n",
       "body.vscode-dark {\n",
       "  --xr-font-color0: rgba(255, 255, 255, 1);\n",
       "  --xr-font-color2: rgba(255, 255, 255, 0.54);\n",
       "  --xr-font-color3: rgba(255, 255, 255, 0.38);\n",
       "  --xr-border-color: #1F1F1F;\n",
       "  --xr-disabled-color: #515151;\n",
       "  --xr-background-color: #111111;\n",
       "  --xr-background-color-row-even: #111111;\n",
       "  --xr-background-color-row-odd: #313131;\n",
       "}\n",
       "\n",
       ".xr-wrap {\n",
       "  display: block;\n",
       "  min-width: 300px;\n",
       "  max-width: 700px;\n",
       "}\n",
       "\n",
       ".xr-text-repr-fallback {\n",
       "  /* fallback to plain text repr when CSS is not injected (untrusted notebook) */\n",
       "  display: none;\n",
       "}\n",
       "\n",
       ".xr-header {\n",
       "  padding-top: 6px;\n",
       "  padding-bottom: 6px;\n",
       "  margin-bottom: 4px;\n",
       "  border-bottom: solid 1px var(--xr-border-color);\n",
       "}\n",
       "\n",
       ".xr-header > div,\n",
       ".xr-header > ul {\n",
       "  display: inline;\n",
       "  margin-top: 0;\n",
       "  margin-bottom: 0;\n",
       "}\n",
       "\n",
       ".xr-obj-type,\n",
       ".xr-array-name {\n",
       "  margin-left: 2px;\n",
       "  margin-right: 10px;\n",
       "}\n",
       "\n",
       ".xr-obj-type {\n",
       "  color: var(--xr-font-color2);\n",
       "}\n",
       "\n",
       ".xr-sections {\n",
       "  padding-left: 0 !important;\n",
       "  display: grid;\n",
       "  grid-template-columns: 150px auto auto 1fr 20px 20px;\n",
       "}\n",
       "\n",
       ".xr-section-item {\n",
       "  display: contents;\n",
       "}\n",
       "\n",
       ".xr-section-item input {\n",
       "  display: none;\n",
       "}\n",
       "\n",
       ".xr-section-item input + label {\n",
       "  color: var(--xr-disabled-color);\n",
       "}\n",
       "\n",
       ".xr-section-item input:enabled + label {\n",
       "  cursor: pointer;\n",
       "  color: var(--xr-font-color2);\n",
       "}\n",
       "\n",
       ".xr-section-item input:enabled + label:hover {\n",
       "  color: var(--xr-font-color0);\n",
       "}\n",
       "\n",
       ".xr-section-summary {\n",
       "  grid-column: 1;\n",
       "  color: var(--xr-font-color2);\n",
       "  font-weight: 500;\n",
       "}\n",
       "\n",
       ".xr-section-summary > span {\n",
       "  display: inline-block;\n",
       "  padding-left: 0.5em;\n",
       "}\n",
       "\n",
       ".xr-section-summary-in:disabled + label {\n",
       "  color: var(--xr-font-color2);\n",
       "}\n",
       "\n",
       ".xr-section-summary-in + label:before {\n",
       "  display: inline-block;\n",
       "  content: '►';\n",
       "  font-size: 11px;\n",
       "  width: 15px;\n",
       "  text-align: center;\n",
       "}\n",
       "\n",
       ".xr-section-summary-in:disabled + label:before {\n",
       "  color: var(--xr-disabled-color);\n",
       "}\n",
       "\n",
       ".xr-section-summary-in:checked + label:before {\n",
       "  content: '▼';\n",
       "}\n",
       "\n",
       ".xr-section-summary-in:checked + label > span {\n",
       "  display: none;\n",
       "}\n",
       "\n",
       ".xr-section-summary,\n",
       ".xr-section-inline-details {\n",
       "  padding-top: 4px;\n",
       "  padding-bottom: 4px;\n",
       "}\n",
       "\n",
       ".xr-section-inline-details {\n",
       "  grid-column: 2 / -1;\n",
       "}\n",
       "\n",
       ".xr-section-details {\n",
       "  display: none;\n",
       "  grid-column: 1 / -1;\n",
       "  margin-bottom: 5px;\n",
       "}\n",
       "\n",
       ".xr-section-summary-in:checked ~ .xr-section-details {\n",
       "  display: contents;\n",
       "}\n",
       "\n",
       ".xr-array-wrap {\n",
       "  grid-column: 1 / -1;\n",
       "  display: grid;\n",
       "  grid-template-columns: 20px auto;\n",
       "}\n",
       "\n",
       ".xr-array-wrap > label {\n",
       "  grid-column: 1;\n",
       "  vertical-align: top;\n",
       "}\n",
       "\n",
       ".xr-preview {\n",
       "  color: var(--xr-font-color3);\n",
       "}\n",
       "\n",
       ".xr-array-preview,\n",
       ".xr-array-data {\n",
       "  padding: 0 5px !important;\n",
       "  grid-column: 2;\n",
       "}\n",
       "\n",
       ".xr-array-data,\n",
       ".xr-array-in:checked ~ .xr-array-preview {\n",
       "  display: none;\n",
       "}\n",
       "\n",
       ".xr-array-in:checked ~ .xr-array-data,\n",
       ".xr-array-preview {\n",
       "  display: inline-block;\n",
       "}\n",
       "\n",
       ".xr-dim-list {\n",
       "  display: inline-block !important;\n",
       "  list-style: none;\n",
       "  padding: 0 !important;\n",
       "  margin: 0;\n",
       "}\n",
       "\n",
       ".xr-dim-list li {\n",
       "  display: inline-block;\n",
       "  padding: 0;\n",
       "  margin: 0;\n",
       "}\n",
       "\n",
       ".xr-dim-list:before {\n",
       "  content: '(';\n",
       "}\n",
       "\n",
       ".xr-dim-list:after {\n",
       "  content: ')';\n",
       "}\n",
       "\n",
       ".xr-dim-list li:not(:last-child):after {\n",
       "  content: ',';\n",
       "  padding-right: 5px;\n",
       "}\n",
       "\n",
       ".xr-has-index {\n",
       "  font-weight: bold;\n",
       "}\n",
       "\n",
       ".xr-var-list,\n",
       ".xr-var-item {\n",
       "  display: contents;\n",
       "}\n",
       "\n",
       ".xr-var-item > div,\n",
       ".xr-var-item label,\n",
       ".xr-var-item > .xr-var-name span {\n",
       "  background-color: var(--xr-background-color-row-even);\n",
       "  margin-bottom: 0;\n",
       "}\n",
       "\n",
       ".xr-var-item > .xr-var-name:hover span {\n",
       "  padding-right: 5px;\n",
       "}\n",
       "\n",
       ".xr-var-list > li:nth-child(odd) > div,\n",
       ".xr-var-list > li:nth-child(odd) > label,\n",
       ".xr-var-list > li:nth-child(odd) > .xr-var-name span {\n",
       "  background-color: var(--xr-background-color-row-odd);\n",
       "}\n",
       "\n",
       ".xr-var-name {\n",
       "  grid-column: 1;\n",
       "}\n",
       "\n",
       ".xr-var-dims {\n",
       "  grid-column: 2;\n",
       "}\n",
       "\n",
       ".xr-var-dtype {\n",
       "  grid-column: 3;\n",
       "  text-align: right;\n",
       "  color: var(--xr-font-color2);\n",
       "}\n",
       "\n",
       ".xr-var-preview {\n",
       "  grid-column: 4;\n",
       "}\n",
       "\n",
       ".xr-var-name,\n",
       ".xr-var-dims,\n",
       ".xr-var-dtype,\n",
       ".xr-preview,\n",
       ".xr-attrs dt {\n",
       "  white-space: nowrap;\n",
       "  overflow: hidden;\n",
       "  text-overflow: ellipsis;\n",
       "  padding-right: 10px;\n",
       "}\n",
       "\n",
       ".xr-var-name:hover,\n",
       ".xr-var-dims:hover,\n",
       ".xr-var-dtype:hover,\n",
       ".xr-attrs dt:hover {\n",
       "  overflow: visible;\n",
       "  width: auto;\n",
       "  z-index: 1;\n",
       "}\n",
       "\n",
       ".xr-var-attrs,\n",
       ".xr-var-data {\n",
       "  display: none;\n",
       "  background-color: var(--xr-background-color) !important;\n",
       "  padding-bottom: 5px !important;\n",
       "}\n",
       "\n",
       ".xr-var-attrs-in:checked ~ .xr-var-attrs,\n",
       ".xr-var-data-in:checked ~ .xr-var-data {\n",
       "  display: block;\n",
       "}\n",
       "\n",
       ".xr-var-data > table {\n",
       "  float: right;\n",
       "}\n",
       "\n",
       ".xr-var-name span,\n",
       ".xr-var-data,\n",
       ".xr-attrs {\n",
       "  padding-left: 25px !important;\n",
       "}\n",
       "\n",
       ".xr-attrs,\n",
       ".xr-var-attrs,\n",
       ".xr-var-data {\n",
       "  grid-column: 1 / -1;\n",
       "}\n",
       "\n",
       "dl.xr-attrs {\n",
       "  padding: 0;\n",
       "  margin: 0;\n",
       "  display: grid;\n",
       "  grid-template-columns: 125px auto;\n",
       "}\n",
       "\n",
       ".xr-attrs dt, dd {\n",
       "  padding: 0;\n",
       "  margin: 0;\n",
       "  float: left;\n",
       "  padding-right: 10px;\n",
       "  width: auto;\n",
       "}\n",
       "\n",
       ".xr-attrs dt {\n",
       "  font-weight: normal;\n",
       "  grid-column: 1;\n",
       "}\n",
       "\n",
       ".xr-attrs dt:hover span {\n",
       "  display: inline-block;\n",
       "  background: var(--xr-background-color);\n",
       "  padding-right: 10px;\n",
       "}\n",
       "\n",
       ".xr-attrs dd {\n",
       "  grid-column: 2;\n",
       "  white-space: pre-wrap;\n",
       "  word-break: break-all;\n",
       "}\n",
       "\n",
       ".xr-icon-database,\n",
       ".xr-icon-file-text2 {\n",
       "  display: inline-block;\n",
       "  vertical-align: middle;\n",
       "  width: 1em;\n",
       "  height: 1.5em !important;\n",
       "  stroke-width: 0;\n",
       "  stroke: currentColor;\n",
       "  fill: currentColor;\n",
       "}\n",
       "</style><pre class='xr-text-repr-fallback'>&lt;xarray.Dataset&gt;\n",
       "Dimensions:     (saa: 1, sza: 1, vaa: 36, vza: 9, wavelength: 1)\n",
       "Coordinates:\n",
       "  * sza         (sza) float64 30.0\n",
       "  * saa         (saa) float64 0.0\n",
       "  * vza         (vza) float64 0.0 10.0 20.0 30.0 40.0 50.0 60.0 70.0 80.0\n",
       "  * vaa         (vaa) float64 0.0 10.0 20.0 30.0 ... 320.0 330.0 340.0 350.0\n",
       "  * wavelength  (wavelength) float64 550.0\n",
       "Data variables:\n",
       "    lo          (sza, saa, vza, vaa, wavelength) float64 2.666e+05 ... 3.049e+05\n",
       "    irradiance  (sza, saa, wavelength) float64 1.8e+06\n",
       "    brdf        (sza, saa, vza, vaa, wavelength) float64 0.1481 0.148 ... 0.1694\n",
       "    brf         (sza, saa, vza, vaa, wavelength) float64 0.04714 ... 0.05392\n",
       "Attributes:\n",
       "    angle_convention:  eo_scene\n",
       "    angular_domain:    hsphere</pre><div class='xr-wrap' hidden><div class='xr-header'><div class='xr-obj-type'>xarray.Dataset</div></div><ul class='xr-sections'><li class='xr-section-item'><input id='section-eb1001cf-e27f-487f-8e92-976d97d96110' class='xr-section-summary-in' type='checkbox' disabled ><label for='section-eb1001cf-e27f-487f-8e92-976d97d96110' class='xr-section-summary'  title='Expand/collapse section'>Dimensions:</label><div class='xr-section-inline-details'><ul class='xr-dim-list'><li><span class='xr-has-index'>saa</span>: 1</li><li><span class='xr-has-index'>sza</span>: 1</li><li><span class='xr-has-index'>vaa</span>: 36</li><li><span class='xr-has-index'>vza</span>: 9</li><li><span class='xr-has-index'>wavelength</span>: 1</li></ul></div><div class='xr-section-details'></div></li><li class='xr-section-item'><input id='section-abb5f157-2f17-4630-92d3-03864c19b281' class='xr-section-summary-in' type='checkbox'  checked><label for='section-abb5f157-2f17-4630-92d3-03864c19b281' class='xr-section-summary' >Coordinates: <span>(5)</span></label><div class='xr-section-inline-details'></div><div class='xr-section-details'><ul class='xr-var-list'><li class='xr-var-item'><div class='xr-var-name'><span class='xr-has-index'>sza</span></div><div class='xr-var-dims'>(sza)</div><div class='xr-var-dtype'>float64</div><div class='xr-var-preview xr-preview'>30.0</div><input id='attrs-f3dd39e3-5d8c-49cd-a84e-19e27828fb9d' class='xr-var-attrs-in' type='checkbox' ><label for='attrs-f3dd39e3-5d8c-49cd-a84e-19e27828fb9d' title='Show/Hide attributes'><svg class='icon xr-icon-file-text2'><use xlink:href='#icon-file-text2'></use></svg></label><input id='data-2456e3d3-b297-4e5f-82cd-d322da8a74b9' class='xr-var-data-in' type='checkbox'><label for='data-2456e3d3-b297-4e5f-82cd-d322da8a74b9' title='Show/Hide data repr'><svg class='icon xr-icon-database'><use xlink:href='#icon-database'></use></svg></label><div class='xr-var-attrs'><dl class='xr-attrs'><dt><span>unit :</span></dt><dd>deg</dd><dt><span>long_name :</span></dt><dd>Sun zenith angle</dd></dl></div><div class='xr-var-data'><pre>array([30.])</pre></div></li><li class='xr-var-item'><div class='xr-var-name'><span class='xr-has-index'>saa</span></div><div class='xr-var-dims'>(saa)</div><div class='xr-var-dtype'>float64</div><div class='xr-var-preview xr-preview'>0.0</div><input id='attrs-8c889d3d-43e5-4d3b-93fd-f1bade772f9d' class='xr-var-attrs-in' type='checkbox' ><label for='attrs-8c889d3d-43e5-4d3b-93fd-f1bade772f9d' title='Show/Hide attributes'><svg class='icon xr-icon-file-text2'><use xlink:href='#icon-file-text2'></use></svg></label><input id='data-edac27c1-2641-4aea-a5a8-0b3721bba5c7' class='xr-var-data-in' type='checkbox'><label for='data-edac27c1-2641-4aea-a5a8-0b3721bba5c7' title='Show/Hide data repr'><svg class='icon xr-icon-database'><use xlink:href='#icon-database'></use></svg></label><div class='xr-var-attrs'><dl class='xr-attrs'><dt><span>unit :</span></dt><dd>deg</dd><dt><span>long_name :</span></dt><dd>Sun azimuth angle</dd></dl></div><div class='xr-var-data'><pre>array([0.])</pre></div></li><li class='xr-var-item'><div class='xr-var-name'><span class='xr-has-index'>vza</span></div><div class='xr-var-dims'>(vza)</div><div class='xr-var-dtype'>float64</div><div class='xr-var-preview xr-preview'>0.0 10.0 20.0 ... 60.0 70.0 80.0</div><input id='attrs-27db5a58-c594-4574-828d-c1a78588661c' class='xr-var-attrs-in' type='checkbox' ><label for='attrs-27db5a58-c594-4574-828d-c1a78588661c' title='Show/Hide attributes'><svg class='icon xr-icon-file-text2'><use xlink:href='#icon-file-text2'></use></svg></label><input id='data-c31d133e-6ab7-4c6d-a98f-07cb16cea486' class='xr-var-data-in' type='checkbox'><label for='data-c31d133e-6ab7-4c6d-a98f-07cb16cea486' title='Show/Hide data repr'><svg class='icon xr-icon-database'><use xlink:href='#icon-database'></use></svg></label><div class='xr-var-attrs'><dl class='xr-attrs'><dt><span>unit :</span></dt><dd>deg</dd><dt><span>long_name :</span></dt><dd>Viewing zenith angle</dd></dl></div><div class='xr-var-data'><pre>array([ 0., 10., 20., 30., 40., 50., 60., 70., 80.])</pre></div></li><li class='xr-var-item'><div class='xr-var-name'><span class='xr-has-index'>vaa</span></div><div class='xr-var-dims'>(vaa)</div><div class='xr-var-dtype'>float64</div><div class='xr-var-preview xr-preview'>0.0 10.0 20.0 ... 330.0 340.0 350.0</div><input id='attrs-1c163fd9-e64c-40bd-aac2-4afb8d7f42ea' class='xr-var-attrs-in' type='checkbox' ><label for='attrs-1c163fd9-e64c-40bd-aac2-4afb8d7f42ea' title='Show/Hide attributes'><svg class='icon xr-icon-file-text2'><use xlink:href='#icon-file-text2'></use></svg></label><input id='data-abb43dd3-afb1-45f4-8a7a-409e498b313b' class='xr-var-data-in' type='checkbox'><label for='data-abb43dd3-afb1-45f4-8a7a-409e498b313b' title='Show/Hide data repr'><svg class='icon xr-icon-database'><use xlink:href='#icon-database'></use></svg></label><div class='xr-var-attrs'><dl class='xr-attrs'><dt><span>unit :</span></dt><dd>deg</dd><dt><span>long_name :</span></dt><dd>Viewing azimuth angle</dd></dl></div><div class='xr-var-data'><pre>array([  0.,  10.,  20.,  30.,  40.,  50.,  60.,  70.,  80.,  90., 100., 110.,\n",
       "       120., 130., 140., 150., 160., 170., 180., 190., 200., 210., 220., 230.,\n",
       "       240., 250., 260., 270., 280., 290., 300., 310., 320., 330., 340., 350.])</pre></div></li><li class='xr-var-item'><div class='xr-var-name'><span class='xr-has-index'>wavelength</span></div><div class='xr-var-dims'>(wavelength)</div><div class='xr-var-dtype'>float64</div><div class='xr-var-preview xr-preview'>550.0</div><input id='attrs-89a59bba-b77c-480e-a39c-ec0e2c663a9c' class='xr-var-attrs-in' type='checkbox' ><label for='attrs-89a59bba-b77c-480e-a39c-ec0e2c663a9c' title='Show/Hide attributes'><svg class='icon xr-icon-file-text2'><use xlink:href='#icon-file-text2'></use></svg></label><input id='data-e501d04c-ef98-4e72-821b-a06d051b189b' class='xr-var-data-in' type='checkbox'><label for='data-e501d04c-ef98-4e72-821b-a06d051b189b' title='Show/Hide data repr'><svg class='icon xr-icon-database'><use xlink:href='#icon-database'></use></svg></label><div class='xr-var-attrs'><dl class='xr-attrs'><dt><span>long_name :</span></dt><dd>Wavelength</dd><dt><span>unit :</span></dt><dd>nm</dd></dl></div><div class='xr-var-data'><pre>array([550.])</pre></div></li></ul></div></li><li class='xr-section-item'><input id='section-b2b6f3fa-85ff-46f9-bfa0-114db0f1d3b7' class='xr-section-summary-in' type='checkbox'  checked><label for='section-b2b6f3fa-85ff-46f9-bfa0-114db0f1d3b7' class='xr-section-summary' >Data variables: <span>(4)</span></label><div class='xr-section-inline-details'></div><div class='xr-section-details'><ul class='xr-var-list'><li class='xr-var-item'><div class='xr-var-name'><span>lo</span></div><div class='xr-var-dims'>(sza, saa, vza, vaa, wavelength)</div><div class='xr-var-dtype'>float64</div><div class='xr-var-preview xr-preview'>2.666e+05 2.664e+05 ... 3.049e+05</div><input id='attrs-e9897e69-62c7-4eb7-ba12-3403780a9563' class='xr-var-attrs-in' type='checkbox' ><label for='attrs-e9897e69-62c7-4eb7-ba12-3403780a9563' title='Show/Hide attributes'><svg class='icon xr-icon-file-text2'><use xlink:href='#icon-file-text2'></use></svg></label><input id='data-baf856e1-51c8-426c-81c7-f305054cfec0' class='xr-var-data-in' type='checkbox'><label for='data-baf856e1-51c8-426c-81c7-f305054cfec0' title='Show/Hide data repr'><svg class='icon xr-icon-database'><use xlink:href='#icon-database'></use></svg></label><div class='xr-var-attrs'><dl class='xr-attrs'><dt><span>angle_convention :</span></dt><dd>eo_scene</dd><dt><span>angular_domain :</span></dt><dd>hsphere</dd></dl></div><div class='xr-var-data'><pre>array([[[[[266576.6875  ],\n",
       "          [266381.25    ],\n",
       "          [266395.125   ],\n",
       "          [266260.40625 ],\n",
       "          [264503.75    ],\n",
       "          [265188.75    ],\n",
       "          [264899.03125 ],\n",
       "          [265000.90625 ],\n",
       "          [266080.28125 ],\n",
       "          [265059.75    ],\n",
       "          [263970.5     ],\n",
       "          [264532.03125 ],\n",
       "          [267051.84375 ],\n",
       "          [263641.71875 ],\n",
       "          [264241.25    ],\n",
       "          [264387.65625 ],\n",
       "          [265793.71875 ],\n",
       "          [266732.65625 ],\n",
       "          [263916.0625  ],\n",
       "          [268050.21875 ],\n",
       "...\n",
       "          [277108.75    ],\n",
       "          [276224.15625 ],\n",
       "          [278350.625   ],\n",
       "          [279811.9375  ],\n",
       "          [275936.84375 ],\n",
       "          [273572.65625 ],\n",
       "          [271172.      ],\n",
       "          [273158.84375 ],\n",
       "          [266944.1875  ],\n",
       "          [266855.      ],\n",
       "          [268604.84375 ],\n",
       "          [267557.28125 ],\n",
       "          [272937.3125  ],\n",
       "          [278056.65625 ],\n",
       "          [282316.59375 ],\n",
       "          [285395.90625 ],\n",
       "          [292722.625   ],\n",
       "          [300316.125   ],\n",
       "          [302952.3125  ],\n",
       "          [304919.25    ]]]]])</pre></div></li><li class='xr-var-item'><div class='xr-var-name'><span>irradiance</span></div><div class='xr-var-dims'>(sza, saa, wavelength)</div><div class='xr-var-dtype'>float64</div><div class='xr-var-preview xr-preview'>1.8e+06</div><input id='attrs-591781a0-360f-4ad0-a8c6-e2dafc59fcc6' class='xr-var-attrs-in' type='checkbox' ><label for='attrs-591781a0-360f-4ad0-a8c6-e2dafc59fcc6' title='Show/Hide attributes'><svg class='icon xr-icon-file-text2'><use xlink:href='#icon-file-text2'></use></svg></label><input id='data-85ccd046-f5b8-4179-a334-d27682b69980' class='xr-var-data-in' type='checkbox'><label for='data-85ccd046-f5b8-4179-a334-d27682b69980' title='Show/Hide data repr'><svg class='icon xr-icon-database'><use xlink:href='#icon-database'></use></svg></label><div class='xr-var-attrs'><dl class='xr-attrs'><dt><span>long_name :</span></dt><dd>illumination spectral irradiance</dd><dt><span>units :</span></dt><dd>W/km^2/nm</dd><dt><span>angles_convention :</span></dt><dd>eo_scene</dd></dl></div><div class='xr-var-data'><pre>array([[[1800000.]]])</pre></div></li><li class='xr-var-item'><div class='xr-var-name'><span>brdf</span></div><div class='xr-var-dims'>(sza, saa, vza, vaa, wavelength)</div><div class='xr-var-dtype'>float64</div><div class='xr-var-preview xr-preview'>0.1481 0.148 ... 0.1683 0.1694</div><input id='attrs-c582584f-b8b2-435b-9015-acfdef3804e0' class='xr-var-attrs-in' type='checkbox' ><label for='attrs-c582584f-b8b2-435b-9015-acfdef3804e0' title='Show/Hide attributes'><svg class='icon xr-icon-file-text2'><use xlink:href='#icon-file-text2'></use></svg></label><input id='data-7b611aaf-ead2-48bf-826e-d59a50328081' class='xr-var-data-in' type='checkbox'><label for='data-7b611aaf-ead2-48bf-826e-d59a50328081' title='Show/Hide data repr'><svg class='icon xr-icon-database'><use xlink:href='#icon-database'></use></svg></label><div class='xr-var-attrs'><dl class='xr-attrs'><dt><span>angle_convention :</span></dt><dd>eo_scene</dd><dt><span>angular_domain :</span></dt><dd>hsphere</dd></dl></div><div class='xr-var-data'><pre>array([[[[[0.14809816],\n",
       "          [0.14798958],\n",
       "          [0.14799729],\n",
       "          [0.14792245],\n",
       "          [0.14694653],\n",
       "          [0.14732708],\n",
       "          [0.14716613],\n",
       "          [0.14722273],\n",
       "          [0.14782238],\n",
       "          [0.14725542],\n",
       "          [0.14665028],\n",
       "          [0.14696224],\n",
       "          [0.14836214],\n",
       "          [0.14646762],\n",
       "          [0.14680069],\n",
       "          [0.14688203],\n",
       "          [0.14766318],\n",
       "          [0.14818481],\n",
       "          [0.14662003],\n",
       "          [0.14891679],\n",
       "...\n",
       "          [0.15394931],\n",
       "          [0.15345786],\n",
       "          [0.15463924],\n",
       "          [0.15545108],\n",
       "          [0.15329825],\n",
       "          [0.15198481],\n",
       "          [0.15065111],\n",
       "          [0.15175491],\n",
       "          [0.14830233],\n",
       "          [0.14825278],\n",
       "          [0.14922491],\n",
       "          [0.14864293],\n",
       "          [0.15163184],\n",
       "          [0.15447592],\n",
       "          [0.15684255],\n",
       "          [0.15855328],\n",
       "          [0.16262368],\n",
       "          [0.16684229],\n",
       "          [0.16830684],\n",
       "          [0.16939958]]]]])</pre></div></li><li class='xr-var-item'><div class='xr-var-name'><span>brf</span></div><div class='xr-var-dims'>(sza, saa, vza, vaa, wavelength)</div><div class='xr-var-dtype'>float64</div><div class='xr-var-preview xr-preview'>0.04714 0.04711 ... 0.05357 0.05392</div><input id='attrs-92b9659d-42c7-41da-8757-8cf8b887b18e' class='xr-var-attrs-in' type='checkbox' ><label for='attrs-92b9659d-42c7-41da-8757-8cf8b887b18e' title='Show/Hide attributes'><svg class='icon xr-icon-file-text2'><use xlink:href='#icon-file-text2'></use></svg></label><input id='data-b43366dd-b366-43af-81ee-49095412545a' class='xr-var-data-in' type='checkbox'><label for='data-b43366dd-b366-43af-81ee-49095412545a' title='Show/Hide data repr'><svg class='icon xr-icon-database'><use xlink:href='#icon-database'></use></svg></label><div class='xr-var-attrs'><dl class='xr-attrs'><dt><span>angle_convention :</span></dt><dd>eo_scene</dd><dt><span>angular_domain :</span></dt><dd>hsphere</dd></dl></div><div class='xr-var-data'><pre>array([[[[[0.04714111],\n",
       "          [0.04710655],\n",
       "          [0.047109  ],\n",
       "          [0.04708518],\n",
       "          [0.04677453],\n",
       "          [0.04689567],\n",
       "          [0.04684443],\n",
       "          [0.04686245],\n",
       "          [0.04705332],\n",
       "          [0.04687285],\n",
       "          [0.04668023],\n",
       "          [0.04677953],\n",
       "          [0.04722513],\n",
       "          [0.04662209],\n",
       "          [0.04672811],\n",
       "          [0.046754  ],\n",
       "          [0.04700265],\n",
       "          [0.04716869],\n",
       "          [0.04667061],\n",
       "          [0.04740169],\n",
       "...\n",
       "          [0.04900359],\n",
       "          [0.04884716],\n",
       "          [0.0492232 ],\n",
       "          [0.04948161],\n",
       "          [0.04879635],\n",
       "          [0.04837827],\n",
       "          [0.04795374],\n",
       "          [0.04830509],\n",
       "          [0.0472061 ],\n",
       "          [0.04719032],\n",
       "          [0.04749977],\n",
       "          [0.04731452],\n",
       "          [0.04826591],\n",
       "          [0.04917121],\n",
       "          [0.04992453],\n",
       "          [0.05046908],\n",
       "          [0.05176473],\n",
       "          [0.05310755],\n",
       "          [0.05357373],\n",
       "          [0.05392156]]]]])</pre></div></li></ul></div></li><li class='xr-section-item'><input id='section-b5c69143-c800-4235-9f07-ce1dd1a2df80' class='xr-section-summary-in' type='checkbox'  checked><label for='section-b5c69143-c800-4235-9f07-ce1dd1a2df80' class='xr-section-summary' >Attributes: <span>(2)</span></label><div class='xr-section-inline-details'></div><div class='xr-section-details'><dl class='xr-attrs'><dt><span>angle_convention :</span></dt><dd>eo_scene</dd><dt><span>angular_domain :</span></dt><dd>hsphere</dd></dl></div></li></ul></div></div>"
      ],
      "text/plain": [
       "<xarray.Dataset>\n",
       "Dimensions:     (saa: 1, sza: 1, vaa: 36, vza: 9, wavelength: 1)\n",
       "Coordinates:\n",
       "  * sza         (sza) float64 30.0\n",
       "  * saa         (saa) float64 0.0\n",
       "  * vza         (vza) float64 0.0 10.0 20.0 30.0 40.0 50.0 60.0 70.0 80.0\n",
       "  * vaa         (vaa) float64 0.0 10.0 20.0 30.0 ... 320.0 330.0 340.0 350.0\n",
       "  * wavelength  (wavelength) float64 550.0\n",
       "Data variables:\n",
       "    lo          (sza, saa, vza, vaa, wavelength) float64 2.666e+05 ... 3.049e+05\n",
       "    irradiance  (sza, saa, wavelength) float64 1.8e+06\n",
       "    brdf        (sza, saa, vza, vaa, wavelength) float64 0.1481 0.148 ... 0.1694\n",
       "    brf         (sza, saa, vza, vaa, wavelength) float64 0.04714 ... 0.05392\n",
       "Attributes:\n",
       "    angle_convention:  eo_scene\n",
       "    angular_domain:    hsphere"
      ]
     },
     "execution_count": 1,
     "metadata": {},
     "output_type": "execute_result"
    }
   ],
   "source": [
    "ds = solver.results[\"toa_hsphere\"]\n",
    "ds"
   ]
  },
  {
   "cell_type": "markdown",
   "metadata": {},
   "source": [
    "The usual xarray writing facilities can be used to save the results to a netCDF file:"
   ]
  },
  {
   "cell_type": "code",
   "execution_count": 10,
   "metadata": {
    "execution": {
     "iopub.execute_input": "2020-11-09T17:30:21.666740Z",
     "iopub.status.busy": "2020-11-09T17:30:21.666426Z",
     "iopub.status.idle": "2020-11-09T17:30:21.679560Z",
     "shell.execute_reply": "2020-11-09T17:30:21.679219Z"
    }
   },
   "outputs": [],
   "source": [
    "ds.to_netcdf(\"ertonedim.nc\")"
   ]
  },
  {
   "cell_type": "markdown",
   "metadata": {},
   "source": [
    "Results can then easily be plotted using Eradiate's matplotlib/xarray-based plotting facilities:"
   ]
  },
  {
   "cell_type": "code",
   "execution_count": 11,
   "metadata": {
    "execution": {
     "iopub.execute_input": "2020-11-09T17:30:21.707855Z",
     "iopub.status.busy": "2020-11-09T17:30:21.706562Z",
     "iopub.status.idle": "2020-11-09T17:30:22.217269Z",
     "shell.execute_reply": "2020-11-09T17:30:22.216926Z"
    }
   },
   "outputs": [
    {
     "data": {
      "image/jpeg": "[encoded data removed]",
      "image/png": "[encoded data removed]",
      "text/plain": [
       "<Figure size 512x384 with 2 Axes>"
      ]
     },
     "metadata": {},
     "output_type": "display_data"
    }
   ],
   "source": [
    "import matplotlib.pyplot as plt\n",
    "import eradiate.util.view\n",
    "\n",
    "fig = plt.gcf()\n",
    "ds.brf.ert.plot(kind=\"polar_pcolormesh\")\n",
    "plt.show()"
   ]
  },
  {
   "cell_type": "markdown",
   "metadata": {},
   "source": [
    "The figure can be saved using the usual matplotlib pattern:"
   ]
  },
  {
   "cell_type": "code",
   "execution_count": 12,
   "metadata": {
    "execution": {
     "iopub.execute_input": "2020-11-09T17:30:22.221729Z",
     "iopub.status.busy": "2020-11-09T17:30:22.221405Z",
     "iopub.status.idle": "2020-11-09T17:30:22.279183Z",
     "shell.execute_reply": "2020-11-09T17:30:22.278896Z"
    }
   },
   "outputs": [],
   "source": [
    "fig.savefig(\"ertonedim_toa_brf.png\")\n",
    "plt.close()"
   ]
  },
  {
   "cell_type": "markdown",
   "metadata": {},
   "source": [
    "From there, any post-processing or customised plotting can happen."
   ]
  },
  {
   "cell_type": "markdown",
   "metadata": {},
   "source": [
    "We finish this sequence with a quick cleanup:"
   ]
  },
  {
   "cell_type": "code",
   "execution_count": 13,
   "metadata": {
    "execution": {
     "iopub.execute_input": "2020-11-09T17:30:22.284457Z",
     "iopub.status.busy": "2020-11-09T17:30:22.283999Z",
     "iopub.status.idle": "2020-11-09T17:30:22.517098Z",
     "shell.execute_reply": "2020-11-09T17:30:22.515419Z"
    }
   },
   "outputs": [],
   "source": [
    "%rm ertonedim*.png\n",
    "%rm ertonedim*.nc"
   ]
  },
  {
   "cell_type": "code",
   "execution_count": null,
   "metadata": {},
   "outputs": [],
   "source": []
  }
 ],
 "metadata": {
  "kernelspec": {
   "display_name": "Python 3",
   "language": "python",
   "name": "python3"
  },
  "language_info": {
   "codemirror_mode": {
    "name": "ipython",
    "version": 3
   },
   "file_extension": ".py",
   "mimetype": "text/x-python",
   "name": "python",
   "nbconvert_exporter": "python",
   "pygments_lexer": "ipython3",
   "version": "3.7.9"
  },
  "widgets": {
   "application/vnd.jupyter.widget-state+json": {
    "state": {
     "0f38fa9b08b5438d91c13767d43c14e2": {
      "model_module": "@jupyter-widgets/controls",
      "model_module_version": "1.5.0",
      "model_name": "ProgressStyleModel",
      "state": {
       "_model_module": "@jupyter-widgets/controls",
       "_model_module_version": "1.5.0",
       "_model_name": "ProgressStyleModel",
       "_view_count": null,
       "_view_module": "@jupyter-widgets/base",
       "_view_module_version": "1.2.0",
       "_view_name": "StyleView",
       "bar_color": null,
       "description_width": ""
      }
     },
     "6dcfd13226c943c8bd1b48453eac8226": {
      "model_module": "@jupyter-widgets/controls",
      "model_module_version": "1.5.0",
      "model_name": "DescriptionStyleModel",
      "state": {
       "_model_module": "@jupyter-widgets/controls",
       "_model_module_version": "1.5.0",
       "_model_name": "DescriptionStyleModel",
       "_view_count": null,
       "_view_module": "@jupyter-widgets/base",
       "_view_module_version": "1.2.0",
       "_view_name": "StyleView",
       "description_width": ""
      }
     },
     "8101f4bc42154c13bcca531ac1c1824e": {
      "model_module": "@jupyter-widgets/base",
      "model_module_version": "1.2.0",
      "model_name": "LayoutModel",
      "state": {
       "_model_module": "@jupyter-widgets/base",
       "_model_module_version": "1.2.0",
       "_model_name": "LayoutModel",
       "_view_count": null,
       "_view_module": "@jupyter-widgets/base",
       "_view_module_version": "1.2.0",
       "_view_name": "LayoutView",
       "align_content": null,
       "align_items": null,
       "align_self": null,
       "border": null,
       "bottom": null,
       "display": null,
       "flex": null,
       "flex_flow": null,
       "grid_area": null,
       "grid_auto_columns": null,
       "grid_auto_flow": null,
       "grid_auto_rows": null,
       "grid_column": null,
       "grid_gap": null,
       "grid_row": null,
       "grid_template_areas": null,
       "grid_template_columns": null,
       "grid_template_rows": null,
       "height": null,
       "justify_content": null,
       "justify_items": null,
       "left": null,
       "margin": null,
       "max_height": null,
       "max_width": null,
       "min_height": null,
       "min_width": null,
       "object_fit": null,
       "object_position": null,
       "order": null,
       "overflow": null,
       "overflow_x": null,
       "overflow_y": null,
       "padding": null,
       "right": null,
       "top": null,
       "visibility": null,
       "width": "100%"
      }
     },
     "99bcfadae31a4375ad7a357ff8852b52": {
      "model_module": "@jupyter-widgets/base",
      "model_module_version": "1.2.0",
      "model_name": "LayoutModel",
      "state": {
       "_model_module": "@jupyter-widgets/base",
       "_model_module_version": "1.2.0",
       "_model_name": "LayoutModel",
       "_view_count": null,
       "_view_module": "@jupyter-widgets/base",
       "_view_module_version": "1.2.0",
       "_view_name": "LayoutView",
       "align_content": null,
       "align_items": null,
       "align_self": null,
       "border": null,
       "bottom": null,
       "display": null,
       "flex": null,
       "flex_flow": null,
       "grid_area": null,
       "grid_auto_columns": null,
       "grid_auto_flow": null,
       "grid_auto_rows": null,
       "grid_column": null,
       "grid_gap": null,
       "grid_row": null,
       "grid_template_areas": null,
       "grid_template_columns": null,
       "grid_template_rows": null,
       "height": null,
       "justify_content": null,
       "justify_items": null,
       "left": null,
       "margin": null,
       "max_height": null,
       "max_width": null,
       "min_height": null,
       "min_width": null,
       "object_fit": null,
       "object_position": null,
       "order": null,
       "overflow": null,
       "overflow_x": null,
       "overflow_y": null,
       "padding": null,
       "right": null,
       "top": null,
       "visibility": null,
       "width": null
      }
     },
     "99de84ab830746aba1f04a75528ef140": {
      "model_module": "@jupyter-widgets/controls",
      "model_module_version": "1.5.0",
      "model_name": "FloatProgressModel",
      "state": {
       "_dom_classes": [],
       "_model_module": "@jupyter-widgets/controls",
       "_model_module_version": "1.5.0",
       "_model_name": "FloatProgressModel",
       "_view_count": null,
       "_view_module": "@jupyter-widgets/controls",
       "_view_module_version": "1.5.0",
       "_view_name": "ProgressView",
       "bar_style": "success",
       "description": "",
       "description_tooltip": null,
       "layout": "IPY_MODEL_8101f4bc42154c13bcca531ac1c1824e",
       "max": 1.0,
       "min": 0.0,
       "orientation": "horizontal",
       "style": "IPY_MODEL_0f38fa9b08b5438d91c13767d43c14e2",
       "value": 1.0
      }
     },
     "a9fd9b887da94c938c1f44f9f3dee88a": {
      "model_module": "@jupyter-widgets/controls",
      "model_module_version": "1.5.0",
      "model_name": "VBoxModel",
      "state": {
       "_dom_classes": [],
       "_model_module": "@jupyter-widgets/controls",
       "_model_module_version": "1.5.0",
       "_model_name": "VBoxModel",
       "_view_count": null,
       "_view_module": "@jupyter-widgets/controls",
       "_view_module_version": "1.5.0",
       "_view_name": "VBoxView",
       "box_style": "",
       "children": [
        "IPY_MODEL_bea7701b1c564e2995f0825b6d643e1b",
        "IPY_MODEL_99de84ab830746aba1f04a75528ef140"
       ],
       "layout": "IPY_MODEL_f48a8e2d16c440a6b4aaa378dc66917e"
      }
     },
     "bea7701b1c564e2995f0825b6d643e1b": {
      "model_module": "@jupyter-widgets/controls",
      "model_module_version": "1.5.0",
      "model_name": "HTMLModel",
      "state": {
       "_dom_classes": [],
       "_model_module": "@jupyter-widgets/controls",
       "_model_module_version": "1.5.0",
       "_model_name": "HTMLModel",
       "_view_count": null,
       "_view_module": "@jupyter-widgets/controls",
       "_view_module_version": "1.5.0",
       "_view_name": "HTMLView",
       "description": "",
       "description_tooltip": null,
       "layout": "IPY_MODEL_99bcfadae31a4375ad7a357ff8852b52",
       "placeholder": "​",
       "style": "IPY_MODEL_6dcfd13226c943c8bd1b48453eac8226",
       "value": "Rendering (4.9s, ETA: 0ms)"
      }
     },
     "f48a8e2d16c440a6b4aaa378dc66917e": {
      "model_module": "@jupyter-widgets/base",
      "model_module_version": "1.2.0",
      "model_name": "LayoutModel",
      "state": {
       "_model_module": "@jupyter-widgets/base",
       "_model_module_version": "1.2.0",
       "_model_name": "LayoutModel",
       "_view_count": null,
       "_view_module": "@jupyter-widgets/base",
       "_view_module_version": "1.2.0",
       "_view_name": "LayoutView",
       "align_content": null,
       "align_items": null,
       "align_self": null,
       "border": null,
       "bottom": null,
       "display": null,
       "flex": null,
       "flex_flow": null,
       "grid_area": null,
       "grid_auto_columns": null,
       "grid_auto_flow": null,
       "grid_auto_rows": null,
       "grid_column": null,
       "grid_gap": null,
       "grid_row": null,
       "grid_template_areas": null,
       "grid_template_columns": null,
       "grid_template_rows": null,
       "height": null,
       "justify_content": null,
       "justify_items": null,
       "left": null,
       "margin": null,
       "max_height": null,
       "max_width": null,
       "min_height": null,
       "min_width": null,
       "object_fit": null,
       "object_position": null,
       "order": null,
       "overflow": null,
       "overflow_x": null,
       "overflow_y": null,
       "padding": null,
       "right": null,
       "top": null,
       "visibility": null,
       "width": null
      }
     }
    },
    "version_major": 2,
    "version_minor": 0
   }
  }
 },
 "nbformat": 4,
 "nbformat_minor": 4
}
