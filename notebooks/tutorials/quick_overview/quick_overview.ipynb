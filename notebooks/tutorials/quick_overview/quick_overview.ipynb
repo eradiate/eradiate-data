{
 "cells": [
  {
   "cell_type": "raw",
   "metadata": {
    "raw_mimetype": "text/restructuredtext"
   },
   "source": [
    ".. _tut-quick_overview:"
   ]
  },
  {
   "cell_type": "markdown",
   "metadata": {},
   "source": [
    "# Quick overview\n",
    "\n",
    "This tutorial gives a very quick introduction to Eradiate's main features. We assume here that you have successfully installed the package (see [Getting the code](../../../rst/getting_started/building.rst)). In this guide, we will see:\n",
    "\n",
    "- how to run a simulation using the one-dimensional solver command-line interface;\n",
    "- how to run the same simulation using Eradiate's Python API.\n",
    "\n",
    "It is strongly recommended to execute the Python code presented here in a Jupyter notebook.\n",
    "\n",
    "<div class=\"alert alert-info\">\n",
    "\n",
    "This tutorial is available as a Jupyter notebook in the Eradiate codebase \n",
    "[`$ERADIATE_DIR/resources/data/notebooks/tutorials/quick_overview/quick_overview.ipynb`].\n",
    "\n",
    "</div>\n"
   ]
  },
  {
   "cell_type": "markdown",
   "metadata": {},
   "source": [
    "## Using the command-line\n",
    "\n",
    "A first entry point to Eradiate is the command-line interface to its solvers. They are directly accessible from a terminal, provided that environment variables are set correctly. For this example, we will use the `ertonedim` application, which works on a one-dimensional scene consisting of a flat surface and an atmosphere. We can first call it with its `--help` flag to display the help text:"
   ]
  },
  {
   "cell_type": "code",
   "execution_count": 1,
   "metadata": {
    "execution": {
     "iopub.execute_input": "2020-11-17T14:25:42.637741Z",
     "iopub.status.busy": "2020-11-17T14:25:42.637327Z",
     "iopub.status.idle": "2020-11-17T14:25:44.092306Z",
     "shell.execute_reply": "2020-11-17T14:25:44.090388Z"
    }
   },
   "outputs": [
    {
     "name": "stdout",
     "output_type": "stream",
     "text": [
      "Usage: ertonedim [OPTIONS] CONFIG FNAME_RESULTS FNAME_PLOTS\r\n",
      "\r\n",
      "  A simple command-line interface to the OneDimSolverApp class.\r\n",
      "\r\n",
      "  This tool reads a OneDimSolverApp YAML configuration file located at\r\n",
      "  CONFIG and simulates radiative transfer on it. It stores the results in\r\n",
      "  files named with the prefix FNAME_RESULTS and creates default plots in\r\n",
      "  files named with the prefix FNAME_PLOTS.\r\n",
      "\r\n",
      "Options:\r\n",
      "  --help  Show this message and exit.\r\n"
     ]
    }
   ],
   "source": [
    "!ertonedim --help"
   ]
  },
  {
   "cell_type": "markdown",
   "metadata": {},
   "source": [
    "This application is configured with a file which uses the [YAML format](https://yaml.org/). A sample configuration file [`$ERADIATE/resources/data/notebooks/tutorials/quick_overview/config.yml`] is given with this tutorial. Let's first `cd` to the directory where our tutorial files are located:"
   ]
  },
  {
   "cell_type": "code",
   "execution_count": 2,
   "metadata": {
    "execution": {
     "iopub.execute_input": "2020-11-17T14:25:44.106139Z",
     "iopub.status.busy": "2020-11-17T14:25:44.104436Z",
     "iopub.status.idle": "2020-11-17T14:25:44.111143Z",
     "shell.execute_reply": "2020-11-17T14:25:44.112764Z"
    }
   },
   "outputs": [
    {
     "name": "stdout",
     "output_type": "stream",
     "text": [
      "/home/mopsi/src/rayference/eradiate/resources/data/notebooks/tutorials/quick_overview\n"
     ]
    }
   ],
   "source": [
    "import os\n",
    "%cd {os.environ[\"ERADIATE_DIR\"]}/resources/data/notebooks/tutorials/quick_overview"
   ]
  },
  {
   "cell_type": "markdown",
   "metadata": {},
   "source": [
    "Now we can visualise the configuration file:"
   ]
  },
  {
   "cell_type": "code",
   "execution_count": 3,
   "metadata": {
    "execution": {
     "iopub.execute_input": "2020-11-17T14:25:44.125814Z",
     "iopub.status.busy": "2020-11-17T14:25:44.122277Z",
     "iopub.status.idle": "2020-11-17T14:25:44.253423Z",
     "shell.execute_reply": "2020-11-17T14:25:44.251964Z"
    }
   },
   "outputs": [
    {
     "name": "stdout",
     "output_type": "stream",
     "text": [
      "mode:\r\n",
      "  type: mono\r\n",
      "  wavelength: 550.  # nm\r\n",
      "surface:\r\n",
      "  type: lambertian\r\n",
      "  reflectance: \r\n",
      "      type: uniform\r\n",
      "      value: 0.5  # dimensionless\r\n",
      "atmosphere:\r\n",
      "  type: rayleigh_homogeneous\r\n",
      "  height: 40.  # km\r\n",
      "illumination:\r\n",
      "  type: directional\r\n",
      "  zenith: 30.  # deg\r\n",
      "  azimuth: 0.  # deg\r\n",
      "  irradiance: \r\n",
      "      type: uniform\r\n",
      "      value: 1.8e+6  # W/km^2/nm\r\n",
      "measure:\r\n",
      "  - type: toa_hsphere\r\n",
      "    spp: 32000  # dimensionless\r\n",
      "    zenith_res: 10.  # deg\r\n",
      "    azimuth_res: 10.  # deg\r\n"
     ]
    }
   ],
   "source": [
    "%cat config.yml"
   ]
  },
  {
   "cell_type": "markdown",
   "metadata": {},
   "source": [
    "The file format is described in [One-dimensional solver application](../../../rst/user_guide/onedim_solver_app.rst) guide.\n",
    "\n",
    "In addition, `ertonedim` requires the user to specify output and plot filename prefixes. These can be absolute or relative paths."
   ]
  },
  {
   "cell_type": "code",
   "execution_count": 4,
   "metadata": {
    "execution": {
     "iopub.execute_input": "2020-11-17T14:25:44.267564Z",
     "iopub.status.busy": "2020-11-17T14:25:44.264090Z",
     "iopub.status.idle": "2020-11-17T14:25:51.427360Z",
     "shell.execute_reply": "2020-11-17T14:25:51.425655Z"
    }
   },
   "outputs": [
    {
     "name": "stdout",
     "output_type": "stream",
     "text": [
      "VBox(children=(HTML(value=''), FloatProgress(value=0.0, bar_style='info', layout=Layout(width='100%'), max=1.0)))\r\n",
      "Saving results to /home/mopsi/src/rayference/eradiate/resources/data/notebooks/tutorials/quick_overview/ertonedim_toa_hsphere.nc\r\n"
     ]
    }
   ],
   "source": [
    "!ertonedim config.yml ertonedim ertonedim"
   ]
  },
  {
   "cell_type": "markdown",
   "metadata": {},
   "source": [
    "The application saves plots and results to the instructed location. \n",
    "\n",
    "- Results are saved in the netCDF format and can be further processed using your tools of choice. One netCDF file is created for each measure specified in the configuration file.\n",
    "- One plot is generated for each measure specified in the configuration file. Note that Eradiate's applications do not allow for plot customisation; should that be done, the Python API should be preferred."
   ]
  },
  {
   "cell_type": "code",
   "execution_count": 5,
   "metadata": {
    "execution": {
     "iopub.execute_input": "2020-11-17T14:25:51.435877Z",
     "iopub.status.busy": "2020-11-17T14:25:51.435539Z",
     "iopub.status.idle": "2020-11-17T14:25:51.549343Z",
     "shell.execute_reply": "2020-11-17T14:25:51.550644Z"
    }
   },
   "outputs": [
    {
     "name": "stdout",
     "output_type": "stream",
     "text": [
      "config.yml          \u001b[0m\u001b[01;35mertonedim_lo.png\u001b[0m          quick_overview.ipynb\r\n",
      "\u001b[01;35mertonedim_brdf.png\u001b[0m  ertonedim_toa_hsphere.nc\r\n",
      "\u001b[01;35mertonedim_brf.png\u001b[0m   \u001b[01;36mipython_config.py\u001b[0m@\r\n"
     ]
    }
   ],
   "source": [
    "%ls"
   ]
  },
  {
   "cell_type": "markdown",
   "metadata": {},
   "source": [
    "## Using the Python API\n",
    "\n",
    "Eradiate also provides total access to its features through a complete and documented API (see [API reference](../../../rst/api_reference/intro.rst)). The `ertonedim` command-line tool is a thin wrapper around the [OneDimSolverApp](../../../rst/api_reference/generated/eradiate.solvers.onedim.app.OneDimSolverApp.rst) class. We can easily reproduce the previous computation using it.\n",
    "\n",
    "We start by loading our YAML configuration file into a dictionary:"
   ]
  },
  {
   "cell_type": "code",
   "execution_count": 6,
   "metadata": {
    "execution": {
     "iopub.execute_input": "2020-11-17T14:25:51.562688Z",
     "iopub.status.busy": "2020-11-17T14:25:51.561032Z",
     "iopub.status.idle": "2020-11-17T14:25:51.608712Z",
     "shell.execute_reply": "2020-11-17T14:25:51.608286Z"
    }
   },
   "outputs": [
    {
     "data": {
      "text/plain": [
       "{'mode': {'type': 'mono', 'wavelength': 550.0},\n",
       " 'surface': {'type': 'lambertian',\n",
       "  'reflectance': {'type': 'uniform', 'value': 0.5}},\n",
       " 'atmosphere': {'type': 'rayleigh_homogeneous', 'height': 40.0},\n",
       " 'illumination': {'type': 'directional',\n",
       "  'zenith': 30.0,\n",
       "  'azimuth': 0.0,\n",
       "  'irradiance': {'type': 'uniform', 'value': 1800000.0}},\n",
       " 'measure': [{'type': 'toa_hsphere',\n",
       "   'spp': 32000,\n",
       "   'zenith_res': 10.0,\n",
       "   'azimuth_res': 10.0}]}"
      ]
     },
     "execution_count": 1,
     "metadata": {},
     "output_type": "execute_result"
    }
   ],
   "source": [
    "import ruamel.yaml as yaml\n",
    "with open(\"config.yml\") as f:\n",
    "    config = yaml.safe_load(f)\n",
    "config"
   ]
  },
  {
   "cell_type": "markdown",
   "metadata": {},
   "source": [
    "We can see here that the contents of the configuration file are directly translated into a configuration dictionary. This dictionary can be used as the argument of the `OneDimSolverApp` constructor:"
   ]
  },
  {
   "cell_type": "code",
   "execution_count": 7,
   "metadata": {
    "execution": {
     "iopub.execute_input": "2020-11-17T14:25:51.611692Z",
     "iopub.status.busy": "2020-11-17T14:25:51.611282Z",
     "iopub.status.idle": "2020-11-17T14:25:52.548598Z",
     "shell.execute_reply": "2020-11-17T14:25:52.548240Z"
    }
   },
   "outputs": [],
   "source": [
    "from eradiate.solvers.onedim.app import OneDimSolverApp\n",
    "solver = OneDimSolverApp(config)"
   ]
  },
  {
   "cell_type": "markdown",
   "metadata": {},
   "source": [
    "Launching the simulation is then as simple as calling the [OneDimSolverApp.run()](../../../rst/api_reference/generated/eradiate.solvers.onedim.app.OneDimSolverApp.rst#eradiate.solvers.onedim.app.OneDimSolverApp.run) method:"
   ]
  },
  {
   "cell_type": "code",
   "execution_count": 8,
   "metadata": {
    "execution": {
     "iopub.execute_input": "2020-11-17T14:25:52.555656Z",
     "iopub.status.busy": "2020-11-17T14:25:52.555147Z",
     "iopub.status.idle": "2020-11-17T14:25:57.469434Z",
     "shell.execute_reply": "2020-11-17T14:25:57.469078Z"
    }
   },
   "outputs": [
    {
     "data": {
      "application/vnd.jupyter.widget-view+json": {
       "model_id": "56160342d9e047d0a73a295460e905cd",
       "version_major": 2,
       "version_minor": 0
      },
      "text/plain": [
       "VBox(children=(HTML(value=''), FloatProgress(value=0.0, bar_style='info', layout=Layout(width='100%'), max=1.0…"
      ]
     },
     "metadata": {},
     "output_type": "display_data"
    }
   ],
   "source": [
    "solver.run()"
   ]
  },
  {
   "cell_type": "markdown",
   "metadata": {},
   "source": [
    "Unlike the command-line interface, a call to `run()` without argument will not create any result or plot files. Instead, results are saved in the solver object's `results` dictionary. In this case, we have a single measure, so `solver.results` contains a single element under the key `\"toa_hsphere\"` which corresponds to the only measure defined in the configuration file. This element is an xarray `Dataset`:"
   ]
  },
  {
   "cell_type": "code",
   "execution_count": 9,
   "metadata": {
    "execution": {
     "iopub.execute_input": "2020-11-17T14:25:57.476173Z",
     "iopub.status.busy": "2020-11-17T14:25:57.475576Z",
     "iopub.status.idle": "2020-11-17T14:25:57.497488Z",
     "shell.execute_reply": "2020-11-17T14:25:57.497154Z"
    }
   },
   "outputs": [
    {
     "data": {
      "text/html": [
       "<div><svg style=\"position: absolute; width: 0; height: 0; overflow: hidden\">\n",
       "<defs>\n",
       "<symbol id=\"icon-database\" viewBox=\"0 0 32 32\">\n",
       "<path d=\"M16 0c-8.837 0-16 2.239-16 5v4c0 2.761 7.163 5 16 5s16-2.239 16-5v-4c0-2.761-7.163-5-16-5z\"></path>\n",
       "<path d=\"M16 17c-8.837 0-16-2.239-16-5v6c0 2.761 7.163 5 16 5s16-2.239 16-5v-6c0 2.761-7.163 5-16 5z\"></path>\n",
       "<path d=\"M16 26c-8.837 0-16-2.239-16-5v6c0 2.761 7.163 5 16 5s16-2.239 16-5v-6c0 2.761-7.163 5-16 5z\"></path>\n",
       "</symbol>\n",
       "<symbol id=\"icon-file-text2\" viewBox=\"0 0 32 32\">\n",
       "<path d=\"M28.681 7.159c-0.694-0.947-1.662-2.053-2.724-3.116s-2.169-2.030-3.116-2.724c-1.612-1.182-2.393-1.319-2.841-1.319h-15.5c-1.378 0-2.5 1.121-2.5 2.5v27c0 1.378 1.122 2.5 2.5 2.5h23c1.378 0 2.5-1.122 2.5-2.5v-19.5c0-0.448-0.137-1.23-1.319-2.841zM24.543 5.457c0.959 0.959 1.712 1.825 2.268 2.543h-4.811v-4.811c0.718 0.556 1.584 1.309 2.543 2.268zM28 29.5c0 0.271-0.229 0.5-0.5 0.5h-23c-0.271 0-0.5-0.229-0.5-0.5v-27c0-0.271 0.229-0.5 0.5-0.5 0 0 15.499-0 15.5 0v7c0 0.552 0.448 1 1 1h7v19.5z\"></path>\n",
       "<path d=\"M23 26h-14c-0.552 0-1-0.448-1-1s0.448-1 1-1h14c0.552 0 1 0.448 1 1s-0.448 1-1 1z\"></path>\n",
       "<path d=\"M23 22h-14c-0.552 0-1-0.448-1-1s0.448-1 1-1h14c0.552 0 1 0.448 1 1s-0.448 1-1 1z\"></path>\n",
       "<path d=\"M23 18h-14c-0.552 0-1-0.448-1-1s0.448-1 1-1h14c0.552 0 1 0.448 1 1s-0.448 1-1 1z\"></path>\n",
       "</symbol>\n",
       "</defs>\n",
       "</svg>\n",
       "<style>/* CSS stylesheet for displaying xarray objects in jupyterlab.\n",
       " *\n",
       " */\n",
       "\n",
       ":root {\n",
       "  --xr-font-color0: var(--jp-content-font-color0, rgba(0, 0, 0, 1));\n",
       "  --xr-font-color2: var(--jp-content-font-color2, rgba(0, 0, 0, 0.54));\n",
       "  --xr-font-color3: var(--jp-content-font-color3, rgba(0, 0, 0, 0.38));\n",
       "  --xr-border-color: var(--jp-border-color2, #e0e0e0);\n",
       "  --xr-disabled-color: var(--jp-layout-color3, #bdbdbd);\n",
       "  --xr-background-color: var(--jp-layout-color0, white);\n",
       "  --xr-background-color-row-even: var(--jp-layout-color1, white);\n",
       "  --xr-background-color-row-odd: var(--jp-layout-color2, #eeeeee);\n",
       "}\n",
       "\n",
       "html[theme=dark],\n",
       "body.vscode-dark {\n",
       "  --xr-font-color0: rgba(255, 255, 255, 1);\n",
       "  --xr-font-color2: rgba(255, 255, 255, 0.54);\n",
       "  --xr-font-color3: rgba(255, 255, 255, 0.38);\n",
       "  --xr-border-color: #1F1F1F;\n",
       "  --xr-disabled-color: #515151;\n",
       "  --xr-background-color: #111111;\n",
       "  --xr-background-color-row-even: #111111;\n",
       "  --xr-background-color-row-odd: #313131;\n",
       "}\n",
       "\n",
       ".xr-wrap {\n",
       "  display: block;\n",
       "  min-width: 300px;\n",
       "  max-width: 700px;\n",
       "}\n",
       "\n",
       ".xr-text-repr-fallback {\n",
       "  /* fallback to plain text repr when CSS is not injected (untrusted notebook) */\n",
       "  display: none;\n",
       "}\n",
       "\n",
       ".xr-header {\n",
       "  padding-top: 6px;\n",
       "  padding-bottom: 6px;\n",
       "  margin-bottom: 4px;\n",
       "  border-bottom: solid 1px var(--xr-border-color);\n",
       "}\n",
       "\n",
       ".xr-header > div,\n",
       ".xr-header > ul {\n",
       "  display: inline;\n",
       "  margin-top: 0;\n",
       "  margin-bottom: 0;\n",
       "}\n",
       "\n",
       ".xr-obj-type,\n",
       ".xr-array-name {\n",
       "  margin-left: 2px;\n",
       "  margin-right: 10px;\n",
       "}\n",
       "\n",
       ".xr-obj-type {\n",
       "  color: var(--xr-font-color2);\n",
       "}\n",
       "\n",
       ".xr-sections {\n",
       "  padding-left: 0 !important;\n",
       "  display: grid;\n",
       "  grid-template-columns: 150px auto auto 1fr 20px 20px;\n",
       "}\n",
       "\n",
       ".xr-section-item {\n",
       "  display: contents;\n",
       "}\n",
       "\n",
       ".xr-section-item input {\n",
       "  display: none;\n",
       "}\n",
       "\n",
       ".xr-section-item input + label {\n",
       "  color: var(--xr-disabled-color);\n",
       "}\n",
       "\n",
       ".xr-section-item input:enabled + label {\n",
       "  cursor: pointer;\n",
       "  color: var(--xr-font-color2);\n",
       "}\n",
       "\n",
       ".xr-section-item input:enabled + label:hover {\n",
       "  color: var(--xr-font-color0);\n",
       "}\n",
       "\n",
       ".xr-section-summary {\n",
       "  grid-column: 1;\n",
       "  color: var(--xr-font-color2);\n",
       "  font-weight: 500;\n",
       "}\n",
       "\n",
       ".xr-section-summary > span {\n",
       "  display: inline-block;\n",
       "  padding-left: 0.5em;\n",
       "}\n",
       "\n",
       ".xr-section-summary-in:disabled + label {\n",
       "  color: var(--xr-font-color2);\n",
       "}\n",
       "\n",
       ".xr-section-summary-in + label:before {\n",
       "  display: inline-block;\n",
       "  content: '►';\n",
       "  font-size: 11px;\n",
       "  width: 15px;\n",
       "  text-align: center;\n",
       "}\n",
       "\n",
       ".xr-section-summary-in:disabled + label:before {\n",
       "  color: var(--xr-disabled-color);\n",
       "}\n",
       "\n",
       ".xr-section-summary-in:checked + label:before {\n",
       "  content: '▼';\n",
       "}\n",
       "\n",
       ".xr-section-summary-in:checked + label > span {\n",
       "  display: none;\n",
       "}\n",
       "\n",
       ".xr-section-summary,\n",
       ".xr-section-inline-details {\n",
       "  padding-top: 4px;\n",
       "  padding-bottom: 4px;\n",
       "}\n",
       "\n",
       ".xr-section-inline-details {\n",
       "  grid-column: 2 / -1;\n",
       "}\n",
       "\n",
       ".xr-section-details {\n",
       "  display: none;\n",
       "  grid-column: 1 / -1;\n",
       "  margin-bottom: 5px;\n",
       "}\n",
       "\n",
       ".xr-section-summary-in:checked ~ .xr-section-details {\n",
       "  display: contents;\n",
       "}\n",
       "\n",
       ".xr-array-wrap {\n",
       "  grid-column: 1 / -1;\n",
       "  display: grid;\n",
       "  grid-template-columns: 20px auto;\n",
       "}\n",
       "\n",
       ".xr-array-wrap > label {\n",
       "  grid-column: 1;\n",
       "  vertical-align: top;\n",
       "}\n",
       "\n",
       ".xr-preview {\n",
       "  color: var(--xr-font-color3);\n",
       "}\n",
       "\n",
       ".xr-array-preview,\n",
       ".xr-array-data {\n",
       "  padding: 0 5px !important;\n",
       "  grid-column: 2;\n",
       "}\n",
       "\n",
       ".xr-array-data,\n",
       ".xr-array-in:checked ~ .xr-array-preview {\n",
       "  display: none;\n",
       "}\n",
       "\n",
       ".xr-array-in:checked ~ .xr-array-data,\n",
       ".xr-array-preview {\n",
       "  display: inline-block;\n",
       "}\n",
       "\n",
       ".xr-dim-list {\n",
       "  display: inline-block !important;\n",
       "  list-style: none;\n",
       "  padding: 0 !important;\n",
       "  margin: 0;\n",
       "}\n",
       "\n",
       ".xr-dim-list li {\n",
       "  display: inline-block;\n",
       "  padding: 0;\n",
       "  margin: 0;\n",
       "}\n",
       "\n",
       ".xr-dim-list:before {\n",
       "  content: '(';\n",
       "}\n",
       "\n",
       ".xr-dim-list:after {\n",
       "  content: ')';\n",
       "}\n",
       "\n",
       ".xr-dim-list li:not(:last-child):after {\n",
       "  content: ',';\n",
       "  padding-right: 5px;\n",
       "}\n",
       "\n",
       ".xr-has-index {\n",
       "  font-weight: bold;\n",
       "}\n",
       "\n",
       ".xr-var-list,\n",
       ".xr-var-item {\n",
       "  display: contents;\n",
       "}\n",
       "\n",
       ".xr-var-item > div,\n",
       ".xr-var-item label,\n",
       ".xr-var-item > .xr-var-name span {\n",
       "  background-color: var(--xr-background-color-row-even);\n",
       "  margin-bottom: 0;\n",
       "}\n",
       "\n",
       ".xr-var-item > .xr-var-name:hover span {\n",
       "  padding-right: 5px;\n",
       "}\n",
       "\n",
       ".xr-var-list > li:nth-child(odd) > div,\n",
       ".xr-var-list > li:nth-child(odd) > label,\n",
       ".xr-var-list > li:nth-child(odd) > .xr-var-name span {\n",
       "  background-color: var(--xr-background-color-row-odd);\n",
       "}\n",
       "\n",
       ".xr-var-name {\n",
       "  grid-column: 1;\n",
       "}\n",
       "\n",
       ".xr-var-dims {\n",
       "  grid-column: 2;\n",
       "}\n",
       "\n",
       ".xr-var-dtype {\n",
       "  grid-column: 3;\n",
       "  text-align: right;\n",
       "  color: var(--xr-font-color2);\n",
       "}\n",
       "\n",
       ".xr-var-preview {\n",
       "  grid-column: 4;\n",
       "}\n",
       "\n",
       ".xr-var-name,\n",
       ".xr-var-dims,\n",
       ".xr-var-dtype,\n",
       ".xr-preview,\n",
       ".xr-attrs dt {\n",
       "  white-space: nowrap;\n",
       "  overflow: hidden;\n",
       "  text-overflow: ellipsis;\n",
       "  padding-right: 10px;\n",
       "}\n",
       "\n",
       ".xr-var-name:hover,\n",
       ".xr-var-dims:hover,\n",
       ".xr-var-dtype:hover,\n",
       ".xr-attrs dt:hover {\n",
       "  overflow: visible;\n",
       "  width: auto;\n",
       "  z-index: 1;\n",
       "}\n",
       "\n",
       ".xr-var-attrs,\n",
       ".xr-var-data {\n",
       "  display: none;\n",
       "  background-color: var(--xr-background-color) !important;\n",
       "  padding-bottom: 5px !important;\n",
       "}\n",
       "\n",
       ".xr-var-attrs-in:checked ~ .xr-var-attrs,\n",
       ".xr-var-data-in:checked ~ .xr-var-data {\n",
       "  display: block;\n",
       "}\n",
       "\n",
       ".xr-var-data > table {\n",
       "  float: right;\n",
       "}\n",
       "\n",
       ".xr-var-name span,\n",
       ".xr-var-data,\n",
       ".xr-attrs {\n",
       "  padding-left: 25px !important;\n",
       "}\n",
       "\n",
       ".xr-attrs,\n",
       ".xr-var-attrs,\n",
       ".xr-var-data {\n",
       "  grid-column: 1 / -1;\n",
       "}\n",
       "\n",
       "dl.xr-attrs {\n",
       "  padding: 0;\n",
       "  margin: 0;\n",
       "  display: grid;\n",
       "  grid-template-columns: 125px auto;\n",
       "}\n",
       "\n",
       ".xr-attrs dt, dd {\n",
       "  padding: 0;\n",
       "  margin: 0;\n",
       "  float: left;\n",
       "  padding-right: 10px;\n",
       "  width: auto;\n",
       "}\n",
       "\n",
       ".xr-attrs dt {\n",
       "  font-weight: normal;\n",
       "  grid-column: 1;\n",
       "}\n",
       "\n",
       ".xr-attrs dt:hover span {\n",
       "  display: inline-block;\n",
       "  background: var(--xr-background-color);\n",
       "  padding-right: 10px;\n",
       "}\n",
       "\n",
       ".xr-attrs dd {\n",
       "  grid-column: 2;\n",
       "  white-space: pre-wrap;\n",
       "  word-break: break-all;\n",
       "}\n",
       "\n",
       ".xr-icon-database,\n",
       ".xr-icon-file-text2 {\n",
       "  display: inline-block;\n",
       "  vertical-align: middle;\n",
       "  width: 1em;\n",
       "  height: 1.5em !important;\n",
       "  stroke-width: 0;\n",
       "  stroke: currentColor;\n",
       "  fill: currentColor;\n",
       "}\n",
       "</style><pre class='xr-text-repr-fallback'>&lt;xarray.Dataset&gt;\n",
       "Dimensions:     (saa: 1, sza: 1, vaa: 36, vza: 9, wavelength: 1)\n",
       "Coordinates:\n",
       "  * sza         (sza) float64 30.0\n",
       "  * saa         (saa) float64 0.0\n",
       "  * vza         (vza) float64 0.0 10.0 20.0 30.0 40.0 50.0 60.0 70.0 80.0\n",
       "  * vaa         (vaa) float64 0.0 10.0 20.0 30.0 ... 320.0 330.0 340.0 350.0\n",
       "  * wavelength  (wavelength) float64 550.0\n",
       "Data variables:\n",
       "    lo          (sza, saa, vza, vaa, wavelength) float64 2.674e+05 ... 3.054e+05\n",
       "    irradiance  (sza, saa, wavelength) float64 1.559e+06\n",
       "    brdf        (sza, saa, vza, vaa, wavelength) float64 0.1715 ... 0.1959\n",
       "    brf         (sza, saa, vza, vaa, wavelength) float64 0.5388 ... 0.6155\n",
       "Attributes:\n",
       "    angular_type:    observation\n",
       "    angular_domain:  hsphere</pre><div class='xr-wrap' hidden><div class='xr-header'><div class='xr-obj-type'>xarray.Dataset</div></div><ul class='xr-sections'><li class='xr-section-item'><input id='section-864d028f-c766-436a-9754-e5b5f4f18e95' class='xr-section-summary-in' type='checkbox' disabled ><label for='section-864d028f-c766-436a-9754-e5b5f4f18e95' class='xr-section-summary'  title='Expand/collapse section'>Dimensions:</label><div class='xr-section-inline-details'><ul class='xr-dim-list'><li><span class='xr-has-index'>saa</span>: 1</li><li><span class='xr-has-index'>sza</span>: 1</li><li><span class='xr-has-index'>vaa</span>: 36</li><li><span class='xr-has-index'>vza</span>: 9</li><li><span class='xr-has-index'>wavelength</span>: 1</li></ul></div><div class='xr-section-details'></div></li><li class='xr-section-item'><input id='section-5f498ee0-7971-4d25-8edf-1319f48f2ad6' class='xr-section-summary-in' type='checkbox'  checked><label for='section-5f498ee0-7971-4d25-8edf-1319f48f2ad6' class='xr-section-summary' >Coordinates: <span>(5)</span></label><div class='xr-section-inline-details'></div><div class='xr-section-details'><ul class='xr-var-list'><li class='xr-var-item'><div class='xr-var-name'><span class='xr-has-index'>sza</span></div><div class='xr-var-dims'>(sza)</div><div class='xr-var-dtype'>float64</div><div class='xr-var-preview xr-preview'>30.0</div><input id='attrs-59aae1d4-9401-4974-ae2c-36cd26c879ae' class='xr-var-attrs-in' type='checkbox' ><label for='attrs-59aae1d4-9401-4974-ae2c-36cd26c879ae' title='Show/Hide attributes'><svg class='icon xr-icon-file-text2'><use xlink:href='#icon-file-text2'></use></svg></label><input id='data-4359a601-cf6a-46a2-a72d-514d43bb2433' class='xr-var-data-in' type='checkbox'><label for='data-4359a601-cf6a-46a2-a72d-514d43bb2433' title='Show/Hide data repr'><svg class='icon xr-icon-database'><use xlink:href='#icon-database'></use></svg></label><div class='xr-var-attrs'><dl class='xr-attrs'><dt><span>units :</span></dt><dd>deg</dd><dt><span>long_name :</span></dt><dd>Sun zenith angle</dd></dl></div><div class='xr-var-data'><pre>array([30.])</pre></div></li><li class='xr-var-item'><div class='xr-var-name'><span class='xr-has-index'>saa</span></div><div class='xr-var-dims'>(saa)</div><div class='xr-var-dtype'>float64</div><div class='xr-var-preview xr-preview'>0.0</div><input id='attrs-e70c5672-8c3e-43b5-8b32-f99e3a979f32' class='xr-var-attrs-in' type='checkbox' ><label for='attrs-e70c5672-8c3e-43b5-8b32-f99e3a979f32' title='Show/Hide attributes'><svg class='icon xr-icon-file-text2'><use xlink:href='#icon-file-text2'></use></svg></label><input id='data-bdb1ff7f-7f55-49a7-a7ad-8b0189a9cb94' class='xr-var-data-in' type='checkbox'><label for='data-bdb1ff7f-7f55-49a7-a7ad-8b0189a9cb94' title='Show/Hide data repr'><svg class='icon xr-icon-database'><use xlink:href='#icon-database'></use></svg></label><div class='xr-var-attrs'><dl class='xr-attrs'><dt><span>units :</span></dt><dd>deg</dd><dt><span>long_name :</span></dt><dd>Sun azimuth angle</dd></dl></div><div class='xr-var-data'><pre>array([0.])</pre></div></li><li class='xr-var-item'><div class='xr-var-name'><span class='xr-has-index'>vza</span></div><div class='xr-var-dims'>(vza)</div><div class='xr-var-dtype'>float64</div><div class='xr-var-preview xr-preview'>0.0 10.0 20.0 ... 60.0 70.0 80.0</div><input id='attrs-1b08e623-3023-44b0-82ef-5b833a898c27' class='xr-var-attrs-in' type='checkbox' ><label for='attrs-1b08e623-3023-44b0-82ef-5b833a898c27' title='Show/Hide attributes'><svg class='icon xr-icon-file-text2'><use xlink:href='#icon-file-text2'></use></svg></label><input id='data-03aad206-4aef-41d2-9414-27e9d6c710ce' class='xr-var-data-in' type='checkbox'><label for='data-03aad206-4aef-41d2-9414-27e9d6c710ce' title='Show/Hide data repr'><svg class='icon xr-icon-database'><use xlink:href='#icon-database'></use></svg></label><div class='xr-var-attrs'><dl class='xr-attrs'><dt><span>units :</span></dt><dd>deg</dd><dt><span>long_name :</span></dt><dd>Viewing zenith angle</dd></dl></div><div class='xr-var-data'><pre>array([ 0., 10., 20., 30., 40., 50., 60., 70., 80.])</pre></div></li><li class='xr-var-item'><div class='xr-var-name'><span class='xr-has-index'>vaa</span></div><div class='xr-var-dims'>(vaa)</div><div class='xr-var-dtype'>float64</div><div class='xr-var-preview xr-preview'>0.0 10.0 20.0 ... 330.0 340.0 350.0</div><input id='attrs-29ffc543-ba0b-4a66-9f58-d37988118116' class='xr-var-attrs-in' type='checkbox' ><label for='attrs-29ffc543-ba0b-4a66-9f58-d37988118116' title='Show/Hide attributes'><svg class='icon xr-icon-file-text2'><use xlink:href='#icon-file-text2'></use></svg></label><input id='data-f0676a8e-02c2-494c-b8f2-2becc9675fc4' class='xr-var-data-in' type='checkbox'><label for='data-f0676a8e-02c2-494c-b8f2-2becc9675fc4' title='Show/Hide data repr'><svg class='icon xr-icon-database'><use xlink:href='#icon-database'></use></svg></label><div class='xr-var-attrs'><dl class='xr-attrs'><dt><span>units :</span></dt><dd>deg</dd><dt><span>long_name :</span></dt><dd>Viewing azimuth angle</dd></dl></div><div class='xr-var-data'><pre>array([  0.,  10.,  20.,  30.,  40.,  50.,  60.,  70.,  80.,  90., 100., 110.,\n",
       "       120., 130., 140., 150., 160., 170., 180., 190., 200., 210., 220., 230.,\n",
       "       240., 250., 260., 270., 280., 290., 300., 310., 320., 330., 340., 350.])</pre></div></li><li class='xr-var-item'><div class='xr-var-name'><span class='xr-has-index'>wavelength</span></div><div class='xr-var-dims'>(wavelength)</div><div class='xr-var-dtype'>float64</div><div class='xr-var-preview xr-preview'>550.0</div><input id='attrs-9d9fba31-bf9a-4b1b-bd7c-7e679bf2ea42' class='xr-var-attrs-in' type='checkbox' ><label for='attrs-9d9fba31-bf9a-4b1b-bd7c-7e679bf2ea42' title='Show/Hide attributes'><svg class='icon xr-icon-file-text2'><use xlink:href='#icon-file-text2'></use></svg></label><input id='data-5147cee6-5c58-40fd-b887-28b956e0ee7b' class='xr-var-data-in' type='checkbox'><label for='data-5147cee6-5c58-40fd-b887-28b956e0ee7b' title='Show/Hide data repr'><svg class='icon xr-icon-database'><use xlink:href='#icon-database'></use></svg></label><div class='xr-var-attrs'><dl class='xr-attrs'><dt><span>long_name :</span></dt><dd>Wavelength</dd><dt><span>units :</span></dt><dd>nm</dd></dl></div><div class='xr-var-data'><pre>array([550.])</pre></div></li></ul></div></li><li class='xr-section-item'><input id='section-afa431de-ef14-4d8c-b196-9eece5e1bb8f' class='xr-section-summary-in' type='checkbox'  checked><label for='section-afa431de-ef14-4d8c-b196-9eece5e1bb8f' class='xr-section-summary' >Data variables: <span>(4)</span></label><div class='xr-section-inline-details'></div><div class='xr-section-details'><ul class='xr-var-list'><li class='xr-var-item'><div class='xr-var-name'><span>lo</span></div><div class='xr-var-dims'>(sza, saa, vza, vaa, wavelength)</div><div class='xr-var-dtype'>float64</div><div class='xr-var-preview xr-preview'>2.674e+05 2.661e+05 ... 3.054e+05</div><input id='attrs-476e95ae-090f-4a58-b90d-5cb2c2245067' class='xr-var-attrs-in' type='checkbox' ><label for='attrs-476e95ae-090f-4a58-b90d-5cb2c2245067' title='Show/Hide attributes'><svg class='icon xr-icon-file-text2'><use xlink:href='#icon-file-text2'></use></svg></label><input id='data-929bc039-5d12-40e9-880f-36086a241f28' class='xr-var-data-in' type='checkbox'><label for='data-929bc039-5d12-40e9-880f-36086a241f28' title='Show/Hide data repr'><svg class='icon xr-icon-database'><use xlink:href='#icon-database'></use></svg></label><div class='xr-var-attrs'><dl class='xr-attrs'><dt><span>angular_type :</span></dt><dd>observation</dd><dt><span>angular_domain :</span></dt><dd>hsphere</dd></dl></div><div class='xr-var-data'><pre>array([[[[[267361.4375  ],\n",
       "          [266136.      ],\n",
       "          [266390.15625 ],\n",
       "          [265780.25    ],\n",
       "          [264225.71875 ],\n",
       "          [267312.84375 ],\n",
       "          [265687.90625 ],\n",
       "          [267216.96875 ],\n",
       "          [264282.      ],\n",
       "          [265438.625   ],\n",
       "          [266100.15625 ],\n",
       "          [265562.46875 ],\n",
       "          [267227.34375 ],\n",
       "          [265566.46875 ],\n",
       "          [264257.28125 ],\n",
       "          [265695.4375  ],\n",
       "          [266502.84375 ],\n",
       "          [265592.71875 ],\n",
       "          [265562.65625 ],\n",
       "          [266756.09375 ],\n",
       "...\n",
       "          [276438.625   ],\n",
       "          [279662.90625 ],\n",
       "          [278484.      ],\n",
       "          [280032.5     ],\n",
       "          [276768.25    ],\n",
       "          [275291.125   ],\n",
       "          [271842.6875  ],\n",
       "          [272214.28125 ],\n",
       "          [270110.71875 ],\n",
       "          [267329.9375  ],\n",
       "          [266453.3125  ],\n",
       "          [269886.34375 ],\n",
       "          [272395.21875 ],\n",
       "          [276407.1875  ],\n",
       "          [281103.15625 ],\n",
       "          [284835.875   ],\n",
       "          [292319.15625 ],\n",
       "          [297805.875   ],\n",
       "          [300061.875   ],\n",
       "          [305388.25    ]]]]])</pre></div></li><li class='xr-var-item'><div class='xr-var-name'><span>irradiance</span></div><div class='xr-var-dims'>(sza, saa, wavelength)</div><div class='xr-var-dtype'>float64</div><div class='xr-var-preview xr-preview'>1.559e+06</div><input id='attrs-41135357-f4b3-40f6-9f58-dfb66a57f7ab' class='xr-var-attrs-in' type='checkbox' ><label for='attrs-41135357-f4b3-40f6-9f58-dfb66a57f7ab' title='Show/Hide attributes'><svg class='icon xr-icon-file-text2'><use xlink:href='#icon-file-text2'></use></svg></label><input id='data-54d14d03-5758-46e2-90d1-fccf8f7019bf' class='xr-var-data-in' type='checkbox'><label for='data-54d14d03-5758-46e2-90d1-fccf8f7019bf' title='Show/Hide data repr'><svg class='icon xr-icon-database'><use xlink:href='#icon-database'></use></svg></label><div class='xr-var-attrs'><dl class='xr-attrs'><dt><span>long_name :</span></dt><dd>spectral top-of-atmosphere horizontal irradiance</dd><dt><span>units :</span></dt><dd>W/km^2/nm</dd><dt><span>angles_convention :</span></dt><dd>observation</dd></dl></div><div class='xr-var-data'><pre>array([[[1558845.72681199]]])</pre></div></li><li class='xr-var-item'><div class='xr-var-name'><span>brdf</span></div><div class='xr-var-dims'>(sza, saa, vza, vaa, wavelength)</div><div class='xr-var-dtype'>float64</div><div class='xr-var-preview xr-preview'>0.1715 0.1707 ... 0.1925 0.1959</div><input id='attrs-bab0dce0-8ecf-483b-b36c-c6321e6c20c4' class='xr-var-attrs-in' type='checkbox' ><label for='attrs-bab0dce0-8ecf-483b-b36c-c6321e6c20c4' title='Show/Hide attributes'><svg class='icon xr-icon-file-text2'><use xlink:href='#icon-file-text2'></use></svg></label><input id='data-ea7bb1fe-c5fb-4a3e-80e5-cb0129740e6b' class='xr-var-data-in' type='checkbox'><label for='data-ea7bb1fe-c5fb-4a3e-80e5-cb0129740e6b' title='Show/Hide data repr'><svg class='icon xr-icon-database'><use xlink:href='#icon-database'></use></svg></label><div class='xr-var-attrs'><dl class='xr-attrs'><dt><span>angular_type :</span></dt><dd>observation</dd><dt><span>angular_domain :</span></dt><dd>hsphere</dd></dl></div><div class='xr-var-data'><pre>array([[[[[0.17151244],\n",
       "          [0.17072632],\n",
       "          [0.17088936],\n",
       "          [0.17049811],\n",
       "          [0.16950088],\n",
       "          [0.17148127],\n",
       "          [0.17043887],\n",
       "          [0.17141977],\n",
       "          [0.16953698],\n",
       "          [0.17027896],\n",
       "          [0.17070333],\n",
       "          [0.1703584 ],\n",
       "          [0.17142642],\n",
       "          [0.17036097],\n",
       "          [0.16952112],\n",
       "          [0.1704437 ],\n",
       "          [0.17096165],\n",
       "          [0.17037781],\n",
       "          [0.17035852],\n",
       "          [0.17112411],\n",
       "...\n",
       "          [0.17733546],\n",
       "          [0.17940384],\n",
       "          [0.17864757],\n",
       "          [0.17964093],\n",
       "          [0.17754692],\n",
       "          [0.17659934],\n",
       "          [0.17438717],\n",
       "          [0.17462554],\n",
       "          [0.17327611],\n",
       "          [0.17149223],\n",
       "          [0.17092988],\n",
       "          [0.17313217],\n",
       "          [0.17474161],\n",
       "          [0.17731529],\n",
       "          [0.18032776],\n",
       "          [0.1827223 ],\n",
       "          [0.18752283],\n",
       "          [0.19104256],\n",
       "          [0.19248978],\n",
       "          [0.19590665]]]]])</pre></div></li><li class='xr-var-item'><div class='xr-var-name'><span>brf</span></div><div class='xr-var-dims'>(sza, saa, vza, vaa, wavelength)</div><div class='xr-var-dtype'>float64</div><div class='xr-var-preview xr-preview'>0.5388 0.5364 ... 0.6047 0.6155</div><input id='attrs-316a8316-e83a-44e3-ba72-020fd3a94b3c' class='xr-var-attrs-in' type='checkbox' ><label for='attrs-316a8316-e83a-44e3-ba72-020fd3a94b3c' title='Show/Hide attributes'><svg class='icon xr-icon-file-text2'><use xlink:href='#icon-file-text2'></use></svg></label><input id='data-4c954633-1093-40cc-a45a-6219e2fc8958' class='xr-var-data-in' type='checkbox'><label for='data-4c954633-1093-40cc-a45a-6219e2fc8958' title='Show/Hide data repr'><svg class='icon xr-icon-database'><use xlink:href='#icon-database'></use></svg></label><div class='xr-var-attrs'><dl class='xr-attrs'><dt><span>angular_type :</span></dt><dd>observation</dd><dt><span>angular_domain :</span></dt><dd>hsphere</dd></dl></div><div class='xr-var-data'><pre>array([[[[[0.53882223],\n",
       "          [0.53635256],\n",
       "          [0.53686477],\n",
       "          [0.53563561],\n",
       "          [0.53250271],\n",
       "          [0.5387243 ],\n",
       "          [0.53544951],\n",
       "          [0.53853108],\n",
       "          [0.53261614],\n",
       "          [0.53494712],\n",
       "          [0.53628033],\n",
       "          [0.53519671],\n",
       "          [0.53855198],\n",
       "          [0.53520477],\n",
       "          [0.53256632],\n",
       "          [0.53546468],\n",
       "          [0.53709188],\n",
       "          [0.53525767],\n",
       "          [0.53519709],\n",
       "          [0.53760226],\n",
       "...\n",
       "          [0.55711578],\n",
       "          [0.56361378],\n",
       "          [0.56123789],\n",
       "          [0.56435863],\n",
       "          [0.55778008],\n",
       "          [0.55480319],\n",
       "          [0.54785344],\n",
       "          [0.54860232],\n",
       "          [0.54436294],\n",
       "          [0.53875875],\n",
       "          [0.53699205],\n",
       "          [0.54391075],\n",
       "          [0.54896697],\n",
       "          [0.55705242],\n",
       "          [0.56651636],\n",
       "          [0.57403903],\n",
       "          [0.58912033],\n",
       "          [0.6001779 ],\n",
       "          [0.60472449],\n",
       "          [0.6154589 ]]]]])</pre></div></li></ul></div></li><li class='xr-section-item'><input id='section-6c17848a-f1ee-4921-85f3-2da44d7bac54' class='xr-section-summary-in' type='checkbox'  checked><label for='section-6c17848a-f1ee-4921-85f3-2da44d7bac54' class='xr-section-summary' >Attributes: <span>(2)</span></label><div class='xr-section-inline-details'></div><div class='xr-section-details'><dl class='xr-attrs'><dt><span>angular_type :</span></dt><dd>observation</dd><dt><span>angular_domain :</span></dt><dd>hsphere</dd></dl></div></li></ul></div></div>"
      ],
      "text/plain": [
       "<xarray.Dataset>\n",
       "Dimensions:     (saa: 1, sza: 1, vaa: 36, vza: 9, wavelength: 1)\n",
       "Coordinates:\n",
       "  * sza         (sza) float64 30.0\n",
       "  * saa         (saa) float64 0.0\n",
       "  * vza         (vza) float64 0.0 10.0 20.0 30.0 40.0 50.0 60.0 70.0 80.0\n",
       "  * vaa         (vaa) float64 0.0 10.0 20.0 30.0 ... 320.0 330.0 340.0 350.0\n",
       "  * wavelength  (wavelength) float64 550.0\n",
       "Data variables:\n",
       "    lo          (sza, saa, vza, vaa, wavelength) float64 2.674e+05 ... 3.054e+05\n",
       "    irradiance  (sza, saa, wavelength) float64 1.559e+06\n",
       "    brdf        (sza, saa, vza, vaa, wavelength) float64 0.1715 ... 0.1959\n",
       "    brf         (sza, saa, vza, vaa, wavelength) float64 0.5388 ... 0.6155\n",
       "Attributes:\n",
       "    angular_type:    observation\n",
       "    angular_domain:  hsphere"
      ]
     },
     "execution_count": 1,
     "metadata": {},
     "output_type": "execute_result"
    }
   ],
   "source": [
    "ds = solver.results[\"toa_hsphere\"]\n",
    "ds"
   ]
  },
  {
   "cell_type": "markdown",
   "metadata": {},
   "source": [
    "The usual xarray writing facilities can be used to save the results to a netCDF file:"
   ]
  },
  {
   "cell_type": "code",
   "execution_count": 10,
   "metadata": {
    "execution": {
     "iopub.execute_input": "2020-11-17T14:25:57.499895Z",
     "iopub.status.busy": "2020-11-17T14:25:57.499370Z",
     "iopub.status.idle": "2020-11-17T14:25:57.513509Z",
     "shell.execute_reply": "2020-11-17T14:25:57.513158Z"
    }
   },
   "outputs": [],
   "source": [
    "ds.to_netcdf(\"ertonedim.nc\")"
   ]
  },
  {
   "cell_type": "markdown",
   "metadata": {},
   "source": [
    "Results can then easily be plotted using Eradiate's matplotlib/xarray-based plotting facilities:"
   ]
  },
  {
   "cell_type": "code",
   "execution_count": 11,
   "metadata": {
    "execution": {
     "iopub.execute_input": "2020-11-17T14:25:57.516227Z",
     "iopub.status.busy": "2020-11-17T14:25:57.515899Z",
     "iopub.status.idle": "2020-11-17T14:25:57.806266Z",
     "shell.execute_reply": "2020-11-17T14:25:57.805747Z"
    }
   },
   "outputs": [
    {
     "data": {
      "image/jpeg": "[encoded data removed]",
      "image/png": "[encoded data removed]",
      "text/plain": [
       "<Figure size 512x384 with 2 Axes>"
      ]
     },
     "metadata": {},
     "output_type": "display_data"
    }
   ],
   "source": [
    "import matplotlib.pyplot as plt\n",
    "import eradiate.util.view\n",
    "\n",
    "fig = plt.gcf()\n",
    "ds.brf.ert.plot(kind=\"polar_pcolormesh\")\n",
    "plt.show()"
   ]
  },
  {
   "cell_type": "markdown",
   "metadata": {},
   "source": [
    "The figure can be saved using the usual matplotlib pattern:"
   ]
  },
  {
   "cell_type": "code",
   "execution_count": 12,
   "metadata": {
    "execution": {
     "iopub.execute_input": "2020-11-17T14:25:57.809311Z",
     "iopub.status.busy": "2020-11-17T14:25:57.808893Z",
     "iopub.status.idle": "2020-11-17T14:25:57.847411Z",
     "shell.execute_reply": "2020-11-17T14:25:57.847127Z"
    }
   },
   "outputs": [],
   "source": [
    "fig.savefig(\"ertonedim_toa_brf.png\")\n",
    "plt.close()"
   ]
  },
  {
   "cell_type": "markdown",
   "metadata": {},
   "source": [
    "From there, any post-processing or customised plotting can happen."
   ]
  },
  {
   "cell_type": "markdown",
   "metadata": {},
   "source": [
    "We finish this sequence with a quick cleanup:"
   ]
  },
  {
   "cell_type": "code",
   "execution_count": 13,
   "metadata": {
    "execution": {
     "iopub.execute_input": "2020-11-17T14:25:57.853369Z",
     "iopub.status.busy": "2020-11-17T14:25:57.853034Z",
     "iopub.status.idle": "2020-11-17T14:25:58.099911Z",
     "shell.execute_reply": "2020-11-17T14:25:58.099431Z"
    }
   },
   "outputs": [],
   "source": [
    "%rm ertonedim*.png\n",
    "%rm ertonedim*.nc"
   ]
  },
  {
   "cell_type": "code",
   "execution_count": null,
   "metadata": {},
   "outputs": [],
   "source": []
  }
 ],
 "metadata": {
  "kernelspec": {
   "display_name": "Python 3",
   "language": "python",
   "name": "python3"
  },
  "language_info": {
   "codemirror_mode": {
    "name": "ipython",
    "version": 3
   },
   "file_extension": ".py",
   "mimetype": "text/x-python",
   "name": "python",
   "nbconvert_exporter": "python",
   "pygments_lexer": "ipython3",
   "version": "3.7.9"
  },
  "widgets": {
   "application/vnd.jupyter.widget-state+json": {
    "state": {
     "38e7e2b3764246a79403e622f3a20389": {
      "model_module": "@jupyter-widgets/controls",
      "model_module_version": "1.5.0",
      "model_name": "FloatProgressModel",
      "state": {
       "_dom_classes": [],
       "_model_module": "@jupyter-widgets/controls",
       "_model_module_version": "1.5.0",
       "_model_name": "FloatProgressModel",
       "_view_count": null,
       "_view_module": "@jupyter-widgets/controls",
       "_view_module_version": "1.5.0",
       "_view_name": "ProgressView",
       "bar_style": "success",
       "description": "",
       "description_tooltip": null,
       "layout": "IPY_MODEL_f55bd03749b34b60ba63ad7332af6679",
       "max": 1.0,
       "min": 0.0,
       "orientation": "horizontal",
       "style": "IPY_MODEL_bd26eb1f390c43dfad54a9b37dc3ead4",
       "value": 1.0
      }
     },
     "56160342d9e047d0a73a295460e905cd": {
      "model_module": "@jupyter-widgets/controls",
      "model_module_version": "1.5.0",
      "model_name": "VBoxModel",
      "state": {
       "_dom_classes": [],
       "_model_module": "@jupyter-widgets/controls",
       "_model_module_version": "1.5.0",
       "_model_name": "VBoxModel",
       "_view_count": null,
       "_view_module": "@jupyter-widgets/controls",
       "_view_module_version": "1.5.0",
       "_view_name": "VBoxView",
       "box_style": "",
       "children": [
        "IPY_MODEL_c82d0f57c3b94ec89b199b342b832011",
        "IPY_MODEL_38e7e2b3764246a79403e622f3a20389"
       ],
       "layout": "IPY_MODEL_6663ee0278f84dddb0c27a178a77afed"
      }
     },
     "6663ee0278f84dddb0c27a178a77afed": {
      "model_module": "@jupyter-widgets/base",
      "model_module_version": "1.2.0",
      "model_name": "LayoutModel",
      "state": {
       "_model_module": "@jupyter-widgets/base",
       "_model_module_version": "1.2.0",
       "_model_name": "LayoutModel",
       "_view_count": null,
       "_view_module": "@jupyter-widgets/base",
       "_view_module_version": "1.2.0",
       "_view_name": "LayoutView",
       "align_content": null,
       "align_items": null,
       "align_self": null,
       "border": null,
       "bottom": null,
       "display": null,
       "flex": null,
       "flex_flow": null,
       "grid_area": null,
       "grid_auto_columns": null,
       "grid_auto_flow": null,
       "grid_auto_rows": null,
       "grid_column": null,
       "grid_gap": null,
       "grid_row": null,
       "grid_template_areas": null,
       "grid_template_columns": null,
       "grid_template_rows": null,
       "height": null,
       "justify_content": null,
       "justify_items": null,
       "left": null,
       "margin": null,
       "max_height": null,
       "max_width": null,
       "min_height": null,
       "min_width": null,
       "object_fit": null,
       "object_position": null,
       "order": null,
       "overflow": null,
       "overflow_x": null,
       "overflow_y": null,
       "padding": null,
       "right": null,
       "top": null,
       "visibility": null,
       "width": null
      }
     },
     "bd26eb1f390c43dfad54a9b37dc3ead4": {
      "model_module": "@jupyter-widgets/controls",
      "model_module_version": "1.5.0",
      "model_name": "ProgressStyleModel",
      "state": {
       "_model_module": "@jupyter-widgets/controls",
       "_model_module_version": "1.5.0",
       "_model_name": "ProgressStyleModel",
       "_view_count": null,
       "_view_module": "@jupyter-widgets/base",
       "_view_module_version": "1.2.0",
       "_view_name": "StyleView",
       "bar_color": null,
       "description_width": ""
      }
     },
     "c82d0f57c3b94ec89b199b342b832011": {
      "model_module": "@jupyter-widgets/controls",
      "model_module_version": "1.5.0",
      "model_name": "HTMLModel",
      "state": {
       "_dom_classes": [],
       "_model_module": "@jupyter-widgets/controls",
       "_model_module_version": "1.5.0",
       "_model_name": "HTMLModel",
       "_view_count": null,
       "_view_module": "@jupyter-widgets/controls",
       "_view_module_version": "1.5.0",
       "_view_name": "HTMLView",
       "description": "",
       "description_tooltip": null,
       "layout": "IPY_MODEL_f9b9c903abba451a8f656acc70e8bea5",
       "placeholder": "​",
       "style": "IPY_MODEL_e1a1efbf39bb4f369fdcbb4f7355c0b1",
       "value": "Processing (4.91s, ETA: 0ms)"
      }
     },
     "e1a1efbf39bb4f369fdcbb4f7355c0b1": {
      "model_module": "@jupyter-widgets/controls",
      "model_module_version": "1.5.0",
      "model_name": "DescriptionStyleModel",
      "state": {
       "_model_module": "@jupyter-widgets/controls",
       "_model_module_version": "1.5.0",
       "_model_name": "DescriptionStyleModel",
       "_view_count": null,
       "_view_module": "@jupyter-widgets/base",
       "_view_module_version": "1.2.0",
       "_view_name": "StyleView",
       "description_width": ""
      }
     },
     "f55bd03749b34b60ba63ad7332af6679": {
      "model_module": "@jupyter-widgets/base",
      "model_module_version": "1.2.0",
      "model_name": "LayoutModel",
      "state": {
       "_model_module": "@jupyter-widgets/base",
       "_model_module_version": "1.2.0",
       "_model_name": "LayoutModel",
       "_view_count": null,
       "_view_module": "@jupyter-widgets/base",
       "_view_module_version": "1.2.0",
       "_view_name": "LayoutView",
       "align_content": null,
       "align_items": null,
       "align_self": null,
       "border": null,
       "bottom": null,
       "display": null,
       "flex": null,
       "flex_flow": null,
       "grid_area": null,
       "grid_auto_columns": null,
       "grid_auto_flow": null,
       "grid_auto_rows": null,
       "grid_column": null,
       "grid_gap": null,
       "grid_row": null,
       "grid_template_areas": null,
       "grid_template_columns": null,
       "grid_template_rows": null,
       "height": null,
       "justify_content": null,
       "justify_items": null,
       "left": null,
       "margin": null,
       "max_height": null,
       "max_width": null,
       "min_height": null,
       "min_width": null,
       "object_fit": null,
       "object_position": null,
       "order": null,
       "overflow": null,
       "overflow_x": null,
       "overflow_y": null,
       "padding": null,
       "right": null,
       "top": null,
       "visibility": null,
       "width": "100%"
      }
     },
     "f9b9c903abba451a8f656acc70e8bea5": {
      "model_module": "@jupyter-widgets/base",
      "model_module_version": "1.2.0",
      "model_name": "LayoutModel",
      "state": {
       "_model_module": "@jupyter-widgets/base",
       "_model_module_version": "1.2.0",
       "_model_name": "LayoutModel",
       "_view_count": null,
       "_view_module": "@jupyter-widgets/base",
       "_view_module_version": "1.2.0",
       "_view_name": "LayoutView",
       "align_content": null,
       "align_items": null,
       "align_self": null,
       "border": null,
       "bottom": null,
       "display": null,
       "flex": null,
       "flex_flow": null,
       "grid_area": null,
       "grid_auto_columns": null,
       "grid_auto_flow": null,
       "grid_auto_rows": null,
       "grid_column": null,
       "grid_gap": null,
       "grid_row": null,
       "grid_template_areas": null,
       "grid_template_columns": null,
       "grid_template_rows": null,
       "height": null,
       "justify_content": null,
       "justify_items": null,
       "left": null,
       "margin": null,
       "max_height": null,
       "max_width": null,
       "min_height": null,
       "min_width": null,
       "object_fit": null,
       "object_position": null,
       "order": null,
       "overflow": null,
       "overflow_x": null,
       "overflow_y": null,
       "padding": null,
       "right": null,
       "top": null,
       "visibility": null,
       "width": null
      }
     }
    },
    "version_major": 2,
    "version_minor": 0
   }
  }
 },
 "nbformat": 4,
 "nbformat_minor": 4
}
