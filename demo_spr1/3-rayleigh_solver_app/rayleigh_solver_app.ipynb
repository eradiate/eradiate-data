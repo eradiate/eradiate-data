{
 "cells": [
  {
   "cell_type": "markdown",
   "metadata": {},
   "source": [
    "## Instantiate and configure RayleighSolverApp"
   ]
  },
  {
   "cell_type": "markdown",
   "metadata": {},
   "source": [
    "We start by importing RayleighSolverApp:"
   ]
  },
  {
   "cell_type": "code",
   "execution_count": null,
   "metadata": {},
   "outputs": [],
   "source": [
    "from eradiate.solvers.onedim.rayleigh import RayleighSolverApp"
   ]
  },
  {
   "cell_type": "markdown",
   "metadata": {},
   "source": [
    "To configure ``RayleighSolverApp``, we must give him a dictionary. Below, we create a configuration dictionary and we use it to instantiate our ``RayleighSolverApp``."
   ]
  },
  {
   "cell_type": "code",
   "execution_count": null,
   "metadata": {
    "tags": []
   },
   "outputs": [],
   "source": [
    "config = {\n",
    "    'mode': {\n",
    "        'type': 'mono',\n",
    "        'wavelength': 577.  # nm\n",
    "    },\n",
    "    'illumination': {\n",
    "        'type': 'directional',\n",
    "        'zenith': 30.,  # deg\n",
    "        'azimuth': 0.,  # deg\n",
    "        'irradiance': 1.8e+6  # W/km^2/nm\n",
    "    },\n",
    "    'surface': {\n",
    "        'type': 'lambertian',\n",
    "        'reflectance': 0.5  # dimensionless\n",
    "    },\n",
    "    'atmosphere': {\n",
    "        'type': 'rayleigh_homogeneous',\n",
    "        'height': 40.,  # km\n",
    "    },\n",
    "    'measure': {\n",
    "        'type': 'hemispherical',\n",
    "        'spp': 32000,  # dimensionless\n",
    "        'zenith_res': 10.,  # deg\n",
    "        'azimuth_res': 10.  # deg\n",
    "    }\n",
    "}\n",
    "app = RayleighSolverApp(config)\n",
    "#display(app.config)"
   ]
  },
  {
   "cell_type": "markdown",
   "metadata": {},
   "source": [
    "Note that we don't have to set the kernel variant anymore; ``RayleighSolverApp`` automatically takes care of that for us."
   ]
  },
  {
   "cell_type": "markdown",
   "metadata": {},
   "source": [
    "## Configure using a YAML file"
   ]
  },
  {
   "cell_type": "markdown",
   "metadata": {},
   "source": [
    "A YAML file may be used to create this dictionary. The YAML file is easily parsed into a python dictionary."
   ]
  },
  {
   "cell_type": "code",
   "execution_count": null,
   "metadata": {},
   "outputs": [],
   "source": [
    "import yaml\n",
    "\n",
    "with open(\"config.yml\", 'r') as f:\n",
    "    yaml_config = yaml.safe_load(f)\n",
    "    app = RayleighSolverApp(yaml_config)\n",
    "    # display(app.config)"
   ]
  },
  {
   "cell_type": "markdown",
   "metadata": {},
   "source": [
    "## Run the simulation"
   ]
  },
  {
   "cell_type": "markdown",
   "metadata": {},
   "source": [
    "To make the application execute the simulation, simply write:"
   ]
  },
  {
   "cell_type": "code",
   "execution_count": null,
   "metadata": {
    "tags": []
   },
   "outputs": [],
   "source": [
    "app.compute()"
   ]
  },
  {
   "cell_type": "markdown",
   "metadata": {},
   "source": [
    "The application collects the raw results that you can retrieve and postprocess at your convenience. These raw results are stored into a labeled multidimensional array (`DataArray` from the [xarray](http://xarray.pydata.org) library) that allows for easy postprocessing, including exporting the results data to the netCDF format."
   ]
  },
  {
   "cell_type": "code",
   "execution_count": null,
   "metadata": {},
   "outputs": [],
   "source": [
    "display(app.results)"
   ]
  },
  {
   "cell_type": "markdown",
   "metadata": {},
   "source": [
    "## Visualise the results"
   ]
  },
  {
   "cell_type": "markdown",
   "metadata": {},
   "source": [
    "Additionally, ``RayleighSolverApp`` lets you visualize the results by producing specialised plots with the collected results. Plotting the results is as simple as calling the `plot` method of our application. Here, we produce a plot in the principal plane by setting the `plot_type` parameter to `pplane`:"
   ]
  },
  {
   "cell_type": "code",
   "execution_count": null,
   "metadata": {},
   "outputs": [],
   "source": [
    "app.results[\"lo\"].squeeze().ert.plot(kind=\"polar_pcolormesh\")\n",
    "\n",
    "# Hacky but only way to tune color bar without modifying the code\n",
    "import matplotlib.pyplot as plt\n",
    "\n",
    "plt.gcf().axes[1].set_ylabel(\"Radiance [W/km$^2$/sr/nm]\")\n",
    "plt.show()\n",
    "plt.close()"
   ]
  },
  {
   "cell_type": "code",
   "execution_count": null,
   "metadata": {},
   "outputs": [],
   "source": [
    "from eradiate.util.view import pplane\n",
    "\n",
    "pplane_data = pplane(app.results[\"lo\"])\n",
    "#display(pplane_data)\n",
    "\n",
    "pplane_data.plot()\n",
    "\n",
    "# Hacky but only way to tune axes without modifying the code\n",
    "import matplotlib.pyplot as plt\n",
    "\n",
    "plt.gca().set_xlabel(\"Viewing zenith angle\")\n",
    "plt.gca().set_ylabel(\"Radiance [W/km$^2$/sr/nm]\")\n",
    "plt.show()\n",
    "plt.close()"
   ]
  },
  {
   "cell_type": "code",
   "execution_count": null,
   "metadata": {},
   "outputs": [],
   "source": []
  }
 ],
 "metadata": {
  "kernelspec": {
   "display_name": "Python 3",
   "language": "python",
   "name": "python3"
  },
  "language_info": {
   "codemirror_mode": {
    "name": "ipython",
    "version": 3
   },
   "file_extension": ".py",
   "mimetype": "text/x-python",
   "name": "python",
   "nbconvert_exporter": "python",
   "pygments_lexer": "ipython3",
   "version": "3.7.7"
  }
 },
 "nbformat": 4,
 "nbformat_minor": 4
}
