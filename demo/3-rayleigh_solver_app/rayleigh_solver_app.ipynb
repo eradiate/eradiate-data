{
 "cells": [
  {
   "cell_type": "markdown",
   "metadata": {},
   "source": [
    "## Instantiate and configure RayleighSolverApp"
   ]
  },
  {
   "cell_type": "code",
   "execution_count": null,
   "metadata": {},
   "outputs": [],
   "source": [
    "from eradiate.solvers.onedim.rayleigh import RayleighSolverApp"
   ]
  },
  {
   "cell_type": "markdown",
   "metadata": {},
   "source": [
    "``RayleighSolverApp`` will take care of that for you. ``RayleighSolverApp`` takes a configuration dictionary as its single constructor argument. If you don't provide one, a default configuration dictionary will be used.\n",
    "Let's try to define our custom configuration dictionary and initialise our application with it.\n",
    "The configuration dictionary must follow carefully a given format. The dictionary accepts five different keys: ``mode``, ``surface``, ``atmosphere``, ``illumination`` and ``measure``. No other keys may be provided. All keys except ``atmosphere`` are required but also comes with a default value. For each key, the value is another dictionary that configures the given element."
   ]
  },
  {
   "cell_type": "code",
   "execution_count": null,
   "metadata": {
    "tags": []
   },
   "outputs": [],
   "source": [
    "import numpy as np\n",
    "\n",
    "config = {\n",
    "    'mode': {\n",
    "        'type': 'mono',\n",
    "        'wavelength': 760.  # nm\n",
    "    },\n",
    "    'illumination': {\n",
    "        'type': 'directional',\n",
    "        'zenith': 30.,  # deg\n",
    "        'azimuth': 0.,  # deg\n",
    "        'irradiance': 1.8e+6  # W/km^2/nm\n",
    "    },\n",
    "    'surface': {\n",
    "        'type': 'lambertian',\n",
    "        'reflectance': 0.35  # dimensionless\n",
    "    },\n",
    "    'atmosphere': {\n",
    "        'type': 'rayleigh_homogeneous',\n",
    "        'height': 100,  # km\n",
    "    },\n",
    "    'measure': {\n",
    "        'type': 'hemispherical',\n",
    "        'spp': 32000,  # dimensionless\n",
    "        'zenith_res': 10.,  # deg\n",
    "        'azimuth_res': 10.  # deg\n",
    "    }\n",
    "}\n",
    "app = RayleighSolverApp(config)\n",
    "#display(app.config)"
   ]
  },
  {
   "cell_type": "markdown",
   "metadata": {},
   "source": [
    "Note that we don't have to set the kernel variant anymore; ``RayleighSolverApp`` automatically takes care of that for us."
   ]
  },
  {
   "cell_type": "markdown",
   "metadata": {},
   "source": [
    "## Show how to do this from a YAML file"
   ]
  },
  {
   "cell_type": "code",
   "execution_count": null,
   "metadata": {},
   "outputs": [],
   "source": [
    "import yaml\n",
    "\n",
    "with open(\"config.yml\", 'r') as f:\n",
    "    yaml_config = yaml.safe_load(f)\n",
    "    app = RayleighSolverApp(yaml_config)\n",
    "    # display(app.config)"
   ]
  },
  {
   "cell_type": "markdown",
   "metadata": {},
   "source": [
    "## Run the simulation"
   ]
  },
  {
   "cell_type": "markdown",
   "metadata": {},
   "source": [
    "To make the application execute the simulation, simply write:"
   ]
  },
  {
   "cell_type": "code",
   "execution_count": null,
   "metadata": {
    "tags": []
   },
   "outputs": [],
   "source": [
    "app.compute()"
   ]
  },
  {
   "cell_type": "markdown",
   "metadata": {},
   "source": [
    "The application collects the raw results that you can retrieve and postprocess at your convenience. These raw results are stored into a labeled multidimensional array (`DataArray` from the [xarray](http://xarray.pydata.org) library) that allows for easy postprocessing, including exporting the results data to the netCDF format."
   ]
  },
  {
   "cell_type": "code",
   "execution_count": null,
   "metadata": {},
   "outputs": [],
   "source": [
    "display(app.result)"
   ]
  },
  {
   "cell_type": "markdown",
   "metadata": {},
   "source": [
    "## Visualise the results"
   ]
  },
  {
   "cell_type": "markdown",
   "metadata": {},
   "source": [
    "Additionally, ``RayleighSolverApp`` lets you visualize the results by producing specialised plots with the collected results. Plotting the results is as simple as calling the `plot` method of our application. Here, we produce a plot in the principal plane by setting the `plot_type` parameter to `pplane`:"
   ]
  },
  {
   "cell_type": "code",
   "execution_count": null,
   "metadata": {},
   "outputs": [],
   "source": [
    "app.plot(plot_type=\"pplane\")"
   ]
  },
  {
   "cell_type": "code",
   "execution_count": null,
   "metadata": {},
   "outputs": [],
   "source": []
  }
 ],
 "metadata": {
  "kernelspec": {
   "display_name": "Python 3.7.6 64-bit ('eradiate': conda)",
   "language": "python",
   "name": "python37664biteradiateconda25a6c18de8134cf2a50733d323d5285d"
  },
  "language_info": {
   "codemirror_mode": {
    "name": "ipython",
    "version": 3
   },
   "file_extension": ".py",
   "mimetype": "text/x-python",
   "name": "python",
   "nbconvert_exporter": "python",
   "pygments_lexer": "ipython3",
   "version": "3.7.7"
  }
 },
 "nbformat": 4,
 "nbformat_minor": 4
}
