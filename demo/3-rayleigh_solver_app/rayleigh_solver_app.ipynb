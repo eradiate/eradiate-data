{
 "cells": [
  {
   "cell_type": "markdown",
   "metadata": {},
   "source": [
    "## 1. Show how to instantiate RayleighSolverApp and configure it with a dictionary"
   ]
  },
  {
   "cell_type": "markdown",
   "metadata": {},
   "source": [
    "The application is created by instantiating the ``RayleighSolverApp`` class, defined in the ``rayleigh`` module of the ``onedim`` solvers package."
   ]
  },
  {
   "cell_type": "code",
   "execution_count": null,
   "metadata": {},
   "outputs": [],
   "source": [
    "from eradiate.solvers.onedim.rayleigh import RayleighSolverApp\n",
    "app = RayleighSolverApp()"
   ]
  },
  {
   "cell_type": "markdown",
   "metadata": {},
   "source": [
    "With ``RayleighSolverApp``, you don't have to set the kernel variant anymore. ``RayleighSolverApp`` will take care of that for you. ``RayleighSolverApp`` takes a configuration dictionary as single public constructor argument. If you don't provide one, a default configuration dictionary will be used."
   ]
  },
  {
   "cell_type": "code",
   "execution_count": null,
   "metadata": {},
   "outputs": [],
   "source": [
    "app.config"
   ]
  },
  {
   "cell_type": "markdown",
   "metadata": {},
   "source": [
    "When initialised, the application will converts that configuration dictionary into a scene dictionary:"
   ]
  },
  {
   "cell_type": "code",
   "execution_count": null,
   "metadata": {},
   "outputs": [],
   "source": [
    "app._scene_dict"
   ]
  },
  {
   "cell_type": "markdown",
   "metadata": {},
   "source": [
    "Let's try to define our custom configuration dictionary and initialise our application with it.\n",
    "The configuration dictionary must follow carefully a given format. The dictionary accepts five different keys: ``mode``, ``surface``, ``atmosphere``, ``illumination`` and ``measure``. No other keys may be provided. All keys except ``atmosphere`` are required but also comes with a default value. For each key, the value is another dictionary that configures the given element."
   ]
  },
  {
   "cell_type": "code",
   "execution_count": null,
   "metadata": {},
   "outputs": [],
   "source": [
    "import numpy as np\n",
    "my_config = {\n",
    "    'mode': {\n",
    "        'type': 'mono',\n",
    "        'wavelength': 760.\n",
    "    },\n",
    "    'illumination': {\n",
    "        'type': 'directional',\n",
    "        'zenith': 30.,\n",
    "        'azimuth': 0.\n",
    "    },\n",
    "    'surface': {\n",
    "        'type': 'lambertian',\n",
    "        'reflectance': 0.35\n",
    "    },\n",
    "    'atmosphere': {\n",
    "        'type': 'rayleigh_homogeneous',\n",
    "        'height': 100,\n",
    "        'sigma_s_params': {\n",
    "            'refractive_index': 1.0003\n",
    "        }\n",
    "    },\n",
    "    'measure': {\n",
    "        'type': 'distant',\n",
    "        'zenith': np.linspace(0., 90., 10),\n",
    "        'azimuth': np.linspace(0., 350., 36)\n",
    "    }\n",
    "}\n",
    "my_app = RayleighSolverApp(my_config)\n",
    "my_app._scene_dict"
   ]
  },
  {
   "cell_type": "markdown",
   "metadata": {},
   "source": [
    "## 2. Show how to do this from a YAML file"
   ]
  },
  {
   "cell_type": "code",
   "execution_count": null,
   "metadata": {},
   "outputs": [],
   "source": [
    "import yaml\n",
    "with open(\"config.yaml\", 'r') as stream:\n",
    "    try:\n",
    "        yaml_config = yaml.safe_load(stream)\n",
    "        app = RayleighSolverApp(yaml_config)\n",
    "        print(app._scene_dict)\n",
    "    except yaml.YAMLError as exc:\n",
    "        print(exc)"
   ]
  },
  {
   "cell_type": "markdown",
   "metadata": {},
   "source": [
    "## 3. Run the simulation and visualise the results"
   ]
  },
  {
   "cell_type": "markdown",
   "metadata": {},
   "source": [
    "To make the application execute the simulation, simply write:"
   ]
  },
  {
   "cell_type": "code",
   "execution_count": null,
   "metadata": {},
   "outputs": [],
   "source": [
    "my_app.run()"
   ]
  },
  {
   "cell_type": "markdown",
   "metadata": {},
   "source": [
    "The application collects the raw results that you can retrieve and postprocess at your will. These raw results are stored into a labeled multidimensional array object from the xarray python library that allows for easy postprocessing, including exporting the results data to netcdf file."
   ]
  },
  {
   "cell_type": "code",
   "execution_count": null,
   "metadata": {},
   "outputs": [],
   "source": [
    "my_results = my_app.result\n",
    "my_results"
   ]
  },
  {
   "cell_type": "markdown",
   "metadata": {},
   "source": [
    "Additionally, ``RayleighSolverApp`` lets you visualize the results by producing specialised plots with the collected results. To produce a hemispherical plot, we call:"
   ]
  },
  {
   "cell_type": "code",
   "execution_count": null,
   "metadata": {},
   "outputs": [],
   "source": [
    "app.visualize(plot_type=\"hemispherical\")"
   ]
  },
  {
   "cell_type": "markdown",
   "metadata": {},
   "source": [
    "## 4. Visualise RPV lobe flattening vs scattering coefficient "
   ]
  }
 ],
 "metadata": {
  "kernelspec": {
   "display_name": "Python 3.7.6 64-bit ('eradiate': conda)",
   "name": "python37664biteradiateconda25a6c18de8134cf2a50733d323d5285d"
  },
  "language_info": {
   "codemirror_mode": {
    "name": "ipython",
    "version": 3
   },
   "file_extension": ".py",
   "mimetype": "text/x-python",
   "name": "python",
   "nbconvert_exporter": "python",
   "pygments_lexer": "ipython3",
   "version": "3.7.7-final"
  }
 },
 "nbformat": 4,
 "nbformat_minor": 2
}
