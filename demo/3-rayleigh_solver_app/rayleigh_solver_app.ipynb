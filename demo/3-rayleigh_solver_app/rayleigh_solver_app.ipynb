{
 "cells": [
  {
   "cell_type": "markdown",
   "metadata": {},
   "source": [
    "## Instantiate and configure RayleighSolverApp"
   ]
  },
  {
   "cell_type": "markdown",
   "metadata": {},
   "source": [
    "The application is created by instantiating the ``RayleighSolverApp`` class, defined in the ``rayleigh`` module of the ``onedim`` solvers package."
   ]
  },
  {
   "cell_type": "code",
   "execution_count": null,
   "metadata": {},
   "outputs": [],
   "source": [
    "from eradiate.solvers.onedim.rayleigh import RayleighSolverApp\n",
    "app = RayleighSolverApp()"
   ]
  },
  {
   "cell_type": "markdown",
   "metadata": {},
   "source": [
    "With ``RayleighSolverApp``, you don't have to set the kernel variant anymore. ``RayleighSolverApp`` will take care of that for you. ``RayleighSolverApp`` takes a configuration dictionary as its single constructor argument. If you don't provide one, a default configuration dictionary will be used."
   ]
  },
  {
   "cell_type": "code",
   "execution_count": null,
   "metadata": {},
   "outputs": [],
   "source": [
    "# app.config"
   ]
  },
  {
   "cell_type": "markdown",
   "metadata": {},
   "source": [
    "When initialised, the application will use the configuration dictionary to create a corresponding scene dictionary:"
   ]
  },
  {
   "cell_type": "code",
   "execution_count": null,
   "metadata": {},
   "outputs": [],
   "source": [
    "# app._scene_dict"
   ]
  },
  {
   "cell_type": "markdown",
   "metadata": {},
   "source": [
    "Let's try to define our custom configuration dictionary and initialise our application with it.\n",
    "The configuration dictionary must follow carefully a given format. The dictionary accepts five different keys: ``mode``, ``surface``, ``atmosphere``, ``illumination`` and ``measure``. No other keys may be provided. All keys except ``atmosphere`` are required but also comes with a default value. For each key, the value is another dictionary that configures the given element."
   ]
  },
  {
   "cell_type": "code",
   "execution_count": null,
   "metadata": {},
   "outputs": [],
   "source": [
    "import numpy as np\n",
    "\n",
    "config = {\n",
    "    'mode': {\n",
    "        'type': 'mono',\n",
    "        'wavelength': 760.\n",
    "    },\n",
    "    'illumination': {\n",
    "        'type': 'directional',\n",
    "        'zenith': 30.,\n",
    "        'azimuth': 0.\n",
    "    },\n",
    "    'surface': {\n",
    "        'type': 'lambertian',\n",
    "        'reflectance': 0.35\n",
    "    },\n",
    "    'atmosphere': {\n",
    "        'type': 'rayleigh_homogeneous',\n",
    "        'height': 100,\n",
    "        'width': 10000,\n",
    "        'sigma_s_params': {\n",
    "            'refractive_index': 1.0003\n",
    "        }\n",
    "    },\n",
    "    'measure': {\n",
    "        'type': 'hemispherical',\n",
    "        'spp': 1000,\n",
    "        'zenith_res': 10.,\n",
    "        'azimuth_res': 10.\n",
    "    }\n",
    "}\n",
    "app = RayleighSolverApp(config)\n",
    "#display(app.config)"
   ]
  },
  {
   "cell_type": "markdown",
   "metadata": {},
   "source": [
    "## Show how to do this from a YAML file"
   ]
  },
  {
   "cell_type": "code",
   "execution_count": null,
   "metadata": {},
   "outputs": [],
   "source": [
    "import yaml\n",
    "\n",
    "with open(\"config.yml\", 'r') as f:\n",
    "    try:\n",
    "        yaml_config = yaml.safe_load(f)\n",
    "        app = RayleighSolverApp(yaml_config)\n",
    "        # display(app.config)\n",
    "    except yaml.YAMLError as exc:\n",
    "        print(exc)"
   ]
  },
  {
   "cell_type": "markdown",
   "metadata": {},
   "source": [
    "## Run the simulation"
   ]
  },
  {
   "cell_type": "markdown",
   "metadata": {},
   "source": [
    "To make the application execute the simulation, simply write:"
   ]
  },
  {
   "cell_type": "code",
   "execution_count": null,
   "metadata": {
    "tags": []
   },
   "outputs": [],
   "source": [
    "app.compute()"
   ]
  },
  {
   "cell_type": "markdown",
   "metadata": {},
   "source": [
    "The application collects the raw results that you can retrieve and postprocess at your convenience. These raw results are stored into a labeled multidimensional array (`DataArray` from the [xarray](http://xarray.pydata.org) library) that allows for easy postprocessing, including exporting the results data to the netCDF format."
   ]
  },
  {
   "cell_type": "code",
   "execution_count": null,
   "metadata": {},
   "outputs": [],
   "source": [
    "display(app.result)"
   ]
  },
  {
   "cell_type": "markdown",
   "metadata": {},
   "source": [
    "## Visualise the results"
   ]
  },
  {
   "cell_type": "markdown",
   "metadata": {},
   "source": [
    "Additionally, ``RayleighSolverApp`` lets you visualize the results by producing specialised plots with the collected results. Because we set the type of measure to **hemispherical**, when we call its plot method, the application will automatically produce a hemispherical plot:"
   ]
  },
  {
   "cell_type": "code",
   "execution_count": null,
   "metadata": {},
   "outputs": [],
   "source": [
    "app.plot()"
   ]
  },
  {
   "cell_type": "markdown",
   "metadata": {},
   "source": [
    "We can also plot the results in the principal plane:"
   ]
  },
  {
   "cell_type": "code",
   "execution_count": null,
   "metadata": {},
   "outputs": [],
   "source": [
    "app.plot(plot_type='pplane')"
   ]
  }
 ],
 "metadata": {
  "kernelspec": {
   "display_name": "Python 3.7.7 64-bit ('eradiate': conda)",
   "language": "python",
   "name": "python_defaultSpec_1593510965331"
  },
  "language_info": {
   "codemirror_mode": {
    "name": "ipython",
    "version": 3
   },
   "file_extension": ".py",
   "mimetype": "text/x-python",
   "name": "python",
   "nbconvert_exporter": "python",
   "pygments_lexer": "ipython3",
   "version": "3.7.7"
  }
 },
 "nbformat": 4,
 "nbformat_minor": 4
}
