{
 "cells": [
  {
   "cell_type": "markdown",
   "metadata": {},
   "source": [
    "# Eradiate's scene generation facility\n",
    "\n",
    "Here, we show how one can build a scene consisting of a Rayleigh-scattering homogeneous plane-parallel atmosphere and a flat rectangular lambertian surface. The scene is illuminated by a directional light source."
   ]
  },
  {
   "cell_type": "markdown",
   "metadata": {},
   "source": [
    "## Set the variant"
   ]
  },
  {
   "cell_type": "code",
   "execution_count": null,
   "metadata": {},
   "outputs": [],
   "source": [
    "import eradiate.kernel\n",
    "eradiate.kernel.set_variant(\"scalar_mono_double\")"
   ]
  },
  {
   "cell_type": "markdown",
   "metadata": {},
   "source": [
    "## Set the surface"
   ]
  },
  {
   "cell_type": "code",
   "execution_count": null,
   "metadata": {},
   "outputs": [],
   "source": [
    "from eradiate.scenes.lithosphere import Lambertian\n",
    "\n",
    "surface = Lambertian(\n",
    "    {\n",
    "        \"reflectance\": 0.35,    # [dimensionless]\n",
    "        \"width\": 200.           # [km]\n",
    "    }\n",
    ")\n",
    "surface"
   ]
  },
  {
   "cell_type": "markdown",
   "metadata": {},
   "source": [
    "## Set the atmosphere"
   ]
  },
  {
   "cell_type": "code",
   "execution_count": null,
   "metadata": {},
   "outputs": [],
   "source": [
    "from eradiate.scenes.atmosphere import RayleighHomogeneous\n",
    "\n",
    "atmosphere = RayleighHomogeneous(\n",
    "    {\n",
    "        \"width\": 200.,  # [km]\n",
    "        \"height\": 40.,  # [km]\n",
    "        \"sigmas\": 1e-2  # [km^-1]\n",
    "    }\n",
    ")\n",
    "atmosphere"
   ]
  },
  {
   "cell_type": "markdown",
   "metadata": {},
   "source": [
    "## Set the illumination"
   ]
  },
  {
   "cell_type": "code",
   "execution_count": null,
   "metadata": {},
   "outputs": [],
   "source": [
    "from eradiate.scenes.illumination import Directional\n",
    "\n",
    "illumination = Directional(\n",
    "    {\n",
    "        \"zenith\": 30.,      # [deg]\n",
    "        \"azimuth\": 0.,      # [deg]\n",
    "        \"irradiance\": 1.    # [W/km^2/nm]  /!\\ this value is not realistic /!\\\n",
    "    }\n",
    ")\n",
    "illumination"
   ]
  },
  {
   "cell_type": "markdown",
   "metadata": {},
   "source": [
    "## Set the measure"
   ]
  },
  {
   "cell_type": "code",
   "execution_count": null,
   "metadata": {},
   "outputs": [],
   "source": [
    "from eradiate.scenes.measure import Distant\n",
    "\n",
    "measure = Distant(\n",
    "    {\n",
    "        \"zenith\": 45.,      # [deg]\n",
    "        \"azimuth\": 180.,    # [deg]\n",
    "    }\n",
    ")\n",
    "measure.kernel_dict()"
   ]
  },
  {
   "cell_type": "markdown",
   "metadata": {},
   "source": [
    "## Build the scene"
   ]
  },
  {
   "cell_type": "code",
   "execution_count": null,
   "metadata": {},
   "outputs": [],
   "source": [
    "from eradiate.scenes import SceneDict\n",
    "\n",
    "scene_dict = SceneDict(\n",
    "    {\n",
    "        **{'type': 'scene'},\n",
    "        **surface.kernel_dict(),\n",
    "        **atmosphere.kernel_dict(),\n",
    "        **illumination.kernel_dict(),\n",
    "        **measure.kernel_dict()\n",
    "    }\n",
    ")\n",
    "scene_dict"
   ]
  },
  {
   "cell_type": "code",
   "execution_count": null,
   "metadata": {},
   "outputs": [],
   "source": [
    "scene = scene_dict.load()\n",
    "sensor = scene.sensors()[0]\n",
    "scene.integrator().render(scene, sensor)"
   ]
  },
  {
   "cell_type": "code",
   "execution_count": null,
   "metadata": {},
   "outputs": [],
   "source": [
    "import numpy as np\n",
    "film = sensor.film()\n",
    "result = np.array(film.bitmap())\n",
    "result"
   ]
  },
  {
   "cell_type": "code",
   "execution_count": null,
   "metadata": {},
   "outputs": [],
   "source": []
  }
 ],
 "metadata": {
  "kernelspec": {
   "display_name": "Python 3.7.6 64-bit ('eradiate': conda)",
   "name": "python37664biteradiateconda25a6c18de8134cf2a50733d323d5285d"
  },
  "language_info": {
   "codemirror_mode": {
    "name": "ipython",
    "version": 3
   },
   "file_extension": ".py",
   "mimetype": "text/x-python",
   "name": "python",
   "nbconvert_exporter": "python",
   "pygments_lexer": "ipython3",
   "version": "3.7.7-final"
  }
 },
 "nbformat": 4,
 "nbformat_minor": 2
}
