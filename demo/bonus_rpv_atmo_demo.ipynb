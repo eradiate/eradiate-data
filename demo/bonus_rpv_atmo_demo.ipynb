{
 "cells": [
  {
   "cell_type": "markdown",
   "metadata": {},
   "source": [
    "# Using Eradiate to visualize the effects of an atmosphere\n",
    "\n",
    "Using the one dimensional solver we can compute and visualize the effects of an atmosphere over a non isotropically scattering surface.\n",
    "We simulate a quasi one dimensional scenario with a surface employing the `RPV` scattering model \n",
    "covered by a purely rayleigh scattering atmospher eof different scattering cross section.\n",
    "\n",
    "Eventually we create a series of plots with Eradiate's visualization facilities to qualitatively assert the effect of the scattering cross section on ToA leaving radiance."
   ]
  },
  {
   "cell_type": "markdown",
   "metadata": {},
   "source": [
    "## Imports"
   ]
  },
  {
   "cell_type": "markdown",
   "metadata": {},
   "source": [
    "### Non Eradiate libraries"
   ]
  },
  {
   "cell_type": "code",
   "execution_count": null,
   "metadata": {},
   "outputs": [],
   "source": [
    "import numpy as np\n",
    "import matplotlib.pyplot as plt"
   ]
  },
  {
   "cell_type": "markdown",
   "metadata": {},
   "source": [
    "### Eradiate kernel and variant"
   ]
  },
  {
   "cell_type": "code",
   "execution_count": null,
   "metadata": {},
   "outputs": [],
   "source": [
    "import eradiate.kernel\n",
    "eradiate.kernel.set_variant(\"scalar_mono_double\")"
   ]
  },
  {
   "cell_type": "markdown",
   "metadata": {},
   "source": [
    "### Solver and scene building facilities"
   ]
  },
  {
   "cell_type": "code",
   "execution_count": null,
   "metadata": {},
   "outputs": [],
   "source": [
    "# The rayleigh solver application\n",
    "from eradiate.solvers.onedim import OneDimSolver\n",
    "\n",
    "# Scene building facilities\n",
    "from eradiate.scenes.core import KernelDict\n",
    "from eradiate.scenes.lithosphere import RPVSurface\n",
    "from eradiate.scenes.atmosphere import RayleighHomogeneousAtmosphere\n",
    "from eradiate.scenes.illumination import DirectionalIllumination"
   ]
  },
  {
   "cell_type": "markdown",
   "metadata": {},
   "source": [
    "## The set of sigma values to simulate\n",
    "\n",
    "To show the effect of the rayleigh atmosphere over an anisotropic surface, we define a set of five values for the scattering coefficients"
   ]
  },
  {
   "cell_type": "code",
   "execution_count": null,
   "metadata": {},
   "outputs": [],
   "source": [
    "sigmas = [1e-3, 5e-3, 1e-2, 5e-2, 1e-1] # [1/km]"
   ]
  },
  {
   "cell_type": "markdown",
   "metadata": {},
   "source": [
    "## Set up the actual scenes and run the simulation"
   ]
  },
  {
   "cell_type": "code",
   "execution_count": null,
   "metadata": {},
   "outputs": [],
   "source": [
    "results = list()\n",
    "# loop over the sigma values\n",
    "\n",
    "scene_width = 200\n",
    "for sigma in sigmas:\n",
    "    \n",
    "    # create the scene for each sigma value\n",
    "    solver = OneDimSolver(KernelDict.empty().add([\n",
    "        RPVSurface({\n",
    "            \"rho_0\": 0.183,\n",
    "            \"k\": 0.780,\n",
    "            \"ttheta\": -0.1,\n",
    "            \"width\": scene_width\n",
    "        }),\n",
    "        RayleighHomogeneousAtmosphere({\n",
    "            \"sigma_s\": sigma,\n",
    "            \"height\": 40.,\n",
    "            \"width\": scene_width\n",
    "        }),\n",
    "        DirectionalIllumination({\n",
    "            \"zenith\": 30.,\n",
    "            \"azimuth\": 0.,\n",
    "            \"irradiance\": 1.0e+6 # [W/km^2/nm]\n",
    "        }),\n",
    "        {\"integrator\": {\"type\": \"volpath\"}}\n",
    "    ]))\n",
    "    \n",
    "    # define the observation angles to simulate\n",
    "    zenith_grid = np.arange(0., 90., 10.)\n",
    "    azimuth_grid = np.arange(0., 360.1, 10.)\n",
    "\n",
    "    # run the simulation and append the results to the results list\n",
    "    results.append(solver.run(\n",
    "        vza=zenith_grid, \n",
    "        vaa=azimuth_grid,\n",
    "        spp=2048\n",
    "    ))"
   ]
  },
  {
   "cell_type": "markdown",
   "metadata": {},
   "source": [
    "## Set up 5 subplots and display them"
   ]
  },
  {
   "cell_type": "code",
   "execution_count": null,
   "metadata": {},
   "outputs": [],
   "source": [
    "fig, axs = plt.subplots(1, 5, figsize=(35, 4), subplot_kw=dict(projection='polar'))\n",
    "\n",
    "# Add the results to the plots\n",
    "r, theta = np.meshgrid(zenith_grid, np.radians(azimuth_grid))\n",
    "\n",
    "pcm0 = axs[0].pcolormesh(theta, r, np.transpose(results[0]), cmap=\"BuPu_r\")\n",
    "pcm1 = axs[1].pcolormesh(theta, r, np.transpose(results[1]), cmap=\"BuPu_r\")\n",
    "pcm2 = axs[2].pcolormesh(theta, r, np.transpose(results[2]), cmap=\"BuPu_r\")\n",
    "pcm3 = axs[3].pcolormesh(theta, r, np.transpose(results[3]), cmap=\"BuPu_r\")\n",
    "pcm4 = axs[4].pcolormesh(theta, r, np.transpose(results[4]), cmap=\"BuPu_r\") \n",
    "\n",
    "# Add colorbars\n",
    "cbar0 = plt.colorbar(pcm0, ax=axs[0])\n",
    "cbar0.set_label(r\"$[\\frac{W}{km^2*nm}]$\", rotation=270, labelpad=20)\n",
    "cbar1 = plt.colorbar(pcm1, ax=axs[1])\n",
    "cbar1.set_label(r\"$[\\frac{W}{km^2*nm}]$\", rotation=270, labelpad=20)\n",
    "cbar2 = plt.colorbar(pcm2, ax=axs[2])\n",
    "cbar2.set_label(r\"$[\\frac{W}{km^2*nm}]$\", rotation=270, labelpad=20)\n",
    "cbar3 = plt.colorbar(pcm3, ax=axs[3])\n",
    "cbar3.set_label(r\"$[\\frac{W}{km^2*nm}]$\", rotation=270, labelpad=20)\n",
    "cbar4 = plt.colorbar(pcm4, ax=axs[4])\n",
    "cbar4.set_label(r\"$[\\frac{W}{km^2*nm}]$\", rotation=270, labelpad=20)\n",
    "\n",
    "# Set the plot titles\n",
    "axs[0].set_title(r\"$o_t = 4*10^{-2}$\", y=1.1)\n",
    "axs[1].set_title(r\"$o_t = 2*10^{-1}$\", y=1.1)\n",
    "axs[2].set_title(r\"$o_t = 4*10^{-1}$\", y=1.1)\n",
    "axs[3].set_title(r\"$o_t = 2$\", y=1.1)\n",
    "axs[4].set_title(r\"$o_t = 4$\", y=1.1)"
   ]
  },
  {
   "cell_type": "code",
   "execution_count": null,
   "metadata": {},
   "outputs": [],
   "source": []
  }
 ],
 "metadata": {
  "kernelspec": {
   "display_name": "Python 3",
   "language": "python",
   "name": "python3"
  },
  "language_info": {
   "codemirror_mode": {
    "name": "ipython",
    "version": 3
   },
   "file_extension": ".py",
   "mimetype": "text/x-python",
   "name": "python",
   "nbconvert_exporter": "python",
   "pygments_lexer": "ipython3",
   "version": "3.7.7"
  }
 },
 "nbformat": 4,
 "nbformat_minor": 4
}
